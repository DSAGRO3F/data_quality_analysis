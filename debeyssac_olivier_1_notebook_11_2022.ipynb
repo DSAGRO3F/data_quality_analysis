{
 "cells": [
  {
   "cell_type": "markdown",
   "id": "dd468123",
   "metadata": {
    "id": "dd468123"
   },
   "source": [
    "## Analyse de systèmes éducatifs"
   ]
  },
  {
   "cell_type": "markdown",
   "id": "2f6e684c",
   "metadata": {
    "id": "2f6e684c"
   },
   "source": [
    "### Caractéristiques Entreprise: \n",
    "- Start-up de la EdTech\n",
    "- Contenus de formation\n",
    "- Public de niveau lycée et université\n",
    "### Mission:\n",
    "- Quels sont les pays avec un fort potentiel de clients pour nos services ?\n",
    "- Pour chacun de ces pays, quelle sera l’évolution de ce potentiel de clients ?\n",
    "- Dans quels pays l'entreprise doit-elle opérer en priorité ?"
   ]
  },
  {
   "cell_type": "markdown",
   "id": "c9a77663",
   "metadata": {
    "id": "c9a77663"
   },
   "source": [
    "### Sommaire\n",
    "1. Analyse qualité dataset\n",
    "- Import des modules\n",
    "- Chargement data, constitution des dataframes\n",
    "- Description des dataframes\n",
    "- Suppression autres objets que pays dans liste pays\n",
    "- Analyse qualité dataset (duplication, manquants)\n",
    "- 1ère conclusion qualité dataset\n",
    "- Analyse qualité par pays: identification des pays avec qualité acceptable\n",
    "- Sélection des pays selon le niveau de qualité de leur dataset\n",
    "\n",
    "2. Etude des indicateurs\n",
    "- Typologie des indicateurs\n",
    "- Principes de pertinence des sous-dicateurs vis à vis des objectifs business\n",
    "- Sélection des sous-indicateurs\n",
    "\n",
    "3. Dataset complémentaire.\n",
    "- Import GDP data\n",
    "- Nettoyage des données\n",
    "\n",
    "4. Filtrage dataset: Indicateur pertinents.\n",
    "- Etapes successives nettoyage indicateurs\n",
    "- Constitution liste KPI finale\n",
    "\n",
    "5. Qualité indicateurs: indicateurs presents ? nombre val. manquantes ?\n",
    "- Analyse qualité par pays, par indicateur\n",
    "- Sélection pays selon niveau de qualité fixé.\n",
    "\n",
    "6. Performance pays vis à vis des indicateurs.\n",
    "- Calcul taux de croissance par indicateur, par an\n",
    "- Normalisation\n",
    "- Liste pays fort potentiel\n",
    "\n",
    "7. Evolution du potentiel de ces clients.\n",
    "- Calcul taux de croissance estimé\n",
    "- Liste des pays\n",
    "\n",
    "8. Groupe de pays prioritaires"
   ]
  },
  {
   "cell_type": "markdown",
   "id": "812905f5",
   "metadata": {
    "id": "812905f5"
   },
   "source": [
    "#### Import des modules"
   ]
  },
  {
   "cell_type": "code",
   "execution_count": 1,
   "id": "9accc249",
   "metadata": {
    "colab": {
     "base_uri": "https://localhost:8080/"
    },
    "id": "9accc249",
    "outputId": "73ecc749-281b-4de9-9352-3fddf16e37ca"
   },
   "outputs": [
    {
     "name": "stdout",
     "output_type": "stream",
     "text": [
      "Requirement already satisfied: xlrd==1.2.0 in /Users/olivierdebeyssac/opt/anaconda3/lib/python3.9/site-packages (1.2.0)\r\n"
     ]
    }
   ],
   "source": [
    "import pandas as pd\n",
    "import numpy as np\n",
    "import numpy.ma as ma\n",
    "import statsmodels as sm\n",
    "import datetime as dt\n",
    "import matplotlib.pyplot as plt\n",
    "import seaborn as sns\n",
    "import math\n",
    "import re\n",
    "!pip install xlrd==1.2.0"
   ]
  },
  {
   "cell_type": "markdown",
   "id": "2955eb44",
   "metadata": {
    "id": "2955eb44"
   },
   "source": [
    "## 1. Analyse qualité dataset"
   ]
  },
  {
   "cell_type": "markdown",
   "id": "8338b979",
   "metadata": {
    "id": "8338b979"
   },
   "source": [
    "### Chargement data, constitution des dataframes"
   ]
  },
  {
   "cell_type": "code",
   "execution_count": 2,
   "id": "ifv6TTxDb1Dr",
   "metadata": {
    "colab": {
     "base_uri": "https://localhost:8080/"
    },
    "id": "ifv6TTxDb1Dr",
    "outputId": "c611388c-5314-46f4-ac14-2c5f759302db"
   },
   "outputs": [],
   "source": [
    "# from google.colab import drive\n",
    "# drive.mount('/content/drive')"
   ]
  },
  {
   "cell_type": "code",
   "execution_count": 3,
   "id": "8d435182",
   "metadata": {
    "id": "8d435182"
   },
   "outputs": [],
   "source": [
    "# chargement data: Data\n",
    "path_data = '/Users/olivierdebeyssac/Open Classrooms/Data_scientist/Projet_2_Analysez des données de systèmes éducatifs/Data/Projet+Python_Dataset_Edstats_csv/EdStatsData.csv'\n",
    "df_data = pd.read_csv(path_data, sep=',')"
   ]
  },
  {
   "cell_type": "code",
   "execution_count": 4,
   "id": "599f6b3a",
   "metadata": {
    "colab": {
     "base_uri": "https://localhost:8080/",
     "height": 739
    },
    "id": "599f6b3a",
    "outputId": "19894f7f-71a1-49e2-aea6-2fe72f4f8f60",
    "scrolled": true
   },
   "outputs": [
    {
     "data": {
      "text/html": [
       "<div>\n",
       "<style scoped>\n",
       "    .dataframe tbody tr th:only-of-type {\n",
       "        vertical-align: middle;\n",
       "    }\n",
       "\n",
       "    .dataframe tbody tr th {\n",
       "        vertical-align: top;\n",
       "    }\n",
       "\n",
       "    .dataframe thead th {\n",
       "        text-align: right;\n",
       "    }\n",
       "</style>\n",
       "<table border=\"1\" class=\"dataframe\">\n",
       "  <thead>\n",
       "    <tr style=\"text-align: right;\">\n",
       "      <th></th>\n",
       "      <th>Country Name</th>\n",
       "      <th>Country Code</th>\n",
       "      <th>Indicator Name</th>\n",
       "      <th>Indicator Code</th>\n",
       "      <th>1970</th>\n",
       "      <th>1971</th>\n",
       "      <th>1972</th>\n",
       "      <th>1973</th>\n",
       "      <th>1974</th>\n",
       "      <th>1975</th>\n",
       "      <th>...</th>\n",
       "      <th>2060</th>\n",
       "      <th>2065</th>\n",
       "      <th>2070</th>\n",
       "      <th>2075</th>\n",
       "      <th>2080</th>\n",
       "      <th>2085</th>\n",
       "      <th>2090</th>\n",
       "      <th>2095</th>\n",
       "      <th>2100</th>\n",
       "      <th>Unnamed: 69</th>\n",
       "    </tr>\n",
       "  </thead>\n",
       "  <tbody>\n",
       "    <tr>\n",
       "      <th>0</th>\n",
       "      <td>Arab World</td>\n",
       "      <td>ARB</td>\n",
       "      <td>Adjusted net enrolment rate, lower secondary, ...</td>\n",
       "      <td>UIS.NERA.2</td>\n",
       "      <td>NaN</td>\n",
       "      <td>NaN</td>\n",
       "      <td>NaN</td>\n",
       "      <td>NaN</td>\n",
       "      <td>NaN</td>\n",
       "      <td>NaN</td>\n",
       "      <td>...</td>\n",
       "      <td>NaN</td>\n",
       "      <td>NaN</td>\n",
       "      <td>NaN</td>\n",
       "      <td>NaN</td>\n",
       "      <td>NaN</td>\n",
       "      <td>NaN</td>\n",
       "      <td>NaN</td>\n",
       "      <td>NaN</td>\n",
       "      <td>NaN</td>\n",
       "      <td>NaN</td>\n",
       "    </tr>\n",
       "    <tr>\n",
       "      <th>1</th>\n",
       "      <td>Arab World</td>\n",
       "      <td>ARB</td>\n",
       "      <td>Adjusted net enrolment rate, lower secondary, ...</td>\n",
       "      <td>UIS.NERA.2.F</td>\n",
       "      <td>NaN</td>\n",
       "      <td>NaN</td>\n",
       "      <td>NaN</td>\n",
       "      <td>NaN</td>\n",
       "      <td>NaN</td>\n",
       "      <td>NaN</td>\n",
       "      <td>...</td>\n",
       "      <td>NaN</td>\n",
       "      <td>NaN</td>\n",
       "      <td>NaN</td>\n",
       "      <td>NaN</td>\n",
       "      <td>NaN</td>\n",
       "      <td>NaN</td>\n",
       "      <td>NaN</td>\n",
       "      <td>NaN</td>\n",
       "      <td>NaN</td>\n",
       "      <td>NaN</td>\n",
       "    </tr>\n",
       "    <tr>\n",
       "      <th>2</th>\n",
       "      <td>Arab World</td>\n",
       "      <td>ARB</td>\n",
       "      <td>Adjusted net enrolment rate, lower secondary, ...</td>\n",
       "      <td>UIS.NERA.2.GPI</td>\n",
       "      <td>NaN</td>\n",
       "      <td>NaN</td>\n",
       "      <td>NaN</td>\n",
       "      <td>NaN</td>\n",
       "      <td>NaN</td>\n",
       "      <td>NaN</td>\n",
       "      <td>...</td>\n",
       "      <td>NaN</td>\n",
       "      <td>NaN</td>\n",
       "      <td>NaN</td>\n",
       "      <td>NaN</td>\n",
       "      <td>NaN</td>\n",
       "      <td>NaN</td>\n",
       "      <td>NaN</td>\n",
       "      <td>NaN</td>\n",
       "      <td>NaN</td>\n",
       "      <td>NaN</td>\n",
       "    </tr>\n",
       "    <tr>\n",
       "      <th>3</th>\n",
       "      <td>Arab World</td>\n",
       "      <td>ARB</td>\n",
       "      <td>Adjusted net enrolment rate, lower secondary, ...</td>\n",
       "      <td>UIS.NERA.2.M</td>\n",
       "      <td>NaN</td>\n",
       "      <td>NaN</td>\n",
       "      <td>NaN</td>\n",
       "      <td>NaN</td>\n",
       "      <td>NaN</td>\n",
       "      <td>NaN</td>\n",
       "      <td>...</td>\n",
       "      <td>NaN</td>\n",
       "      <td>NaN</td>\n",
       "      <td>NaN</td>\n",
       "      <td>NaN</td>\n",
       "      <td>NaN</td>\n",
       "      <td>NaN</td>\n",
       "      <td>NaN</td>\n",
       "      <td>NaN</td>\n",
       "      <td>NaN</td>\n",
       "      <td>NaN</td>\n",
       "    </tr>\n",
       "    <tr>\n",
       "      <th>4</th>\n",
       "      <td>Arab World</td>\n",
       "      <td>ARB</td>\n",
       "      <td>Adjusted net enrolment rate, primary, both sex...</td>\n",
       "      <td>SE.PRM.TENR</td>\n",
       "      <td>54.822121</td>\n",
       "      <td>54.894138</td>\n",
       "      <td>56.209438</td>\n",
       "      <td>57.267109</td>\n",
       "      <td>57.991138</td>\n",
       "      <td>59.36554</td>\n",
       "      <td>...</td>\n",
       "      <td>NaN</td>\n",
       "      <td>NaN</td>\n",
       "      <td>NaN</td>\n",
       "      <td>NaN</td>\n",
       "      <td>NaN</td>\n",
       "      <td>NaN</td>\n",
       "      <td>NaN</td>\n",
       "      <td>NaN</td>\n",
       "      <td>NaN</td>\n",
       "      <td>NaN</td>\n",
       "    </tr>\n",
       "  </tbody>\n",
       "</table>\n",
       "<p>5 rows × 70 columns</p>\n",
       "</div>"
      ],
      "text/plain": [
       "  Country Name Country Code  \\\n",
       "0   Arab World          ARB   \n",
       "1   Arab World          ARB   \n",
       "2   Arab World          ARB   \n",
       "3   Arab World          ARB   \n",
       "4   Arab World          ARB   \n",
       "\n",
       "                                      Indicator Name  Indicator Code  \\\n",
       "0  Adjusted net enrolment rate, lower secondary, ...      UIS.NERA.2   \n",
       "1  Adjusted net enrolment rate, lower secondary, ...    UIS.NERA.2.F   \n",
       "2  Adjusted net enrolment rate, lower secondary, ...  UIS.NERA.2.GPI   \n",
       "3  Adjusted net enrolment rate, lower secondary, ...    UIS.NERA.2.M   \n",
       "4  Adjusted net enrolment rate, primary, both sex...     SE.PRM.TENR   \n",
       "\n",
       "        1970       1971       1972       1973       1974      1975  ...  2060  \\\n",
       "0        NaN        NaN        NaN        NaN        NaN       NaN  ...   NaN   \n",
       "1        NaN        NaN        NaN        NaN        NaN       NaN  ...   NaN   \n",
       "2        NaN        NaN        NaN        NaN        NaN       NaN  ...   NaN   \n",
       "3        NaN        NaN        NaN        NaN        NaN       NaN  ...   NaN   \n",
       "4  54.822121  54.894138  56.209438  57.267109  57.991138  59.36554  ...   NaN   \n",
       "\n",
       "   2065  2070  2075  2080  2085  2090  2095  2100  Unnamed: 69  \n",
       "0   NaN   NaN   NaN   NaN   NaN   NaN   NaN   NaN          NaN  \n",
       "1   NaN   NaN   NaN   NaN   NaN   NaN   NaN   NaN          NaN  \n",
       "2   NaN   NaN   NaN   NaN   NaN   NaN   NaN   NaN          NaN  \n",
       "3   NaN   NaN   NaN   NaN   NaN   NaN   NaN   NaN          NaN  \n",
       "4   NaN   NaN   NaN   NaN   NaN   NaN   NaN   NaN          NaN  \n",
       "\n",
       "[5 rows x 70 columns]"
      ]
     },
     "execution_count": 4,
     "metadata": {},
     "output_type": "execute_result"
    }
   ],
   "source": [
    "df_data.head()"
   ]
  },
  {
   "cell_type": "code",
   "execution_count": 199,
   "id": "9224f87b",
   "metadata": {},
   "outputs": [
    {
     "name": "stdout",
     "output_type": "stream",
     "text": [
      "<class 'pandas.core.frame.DataFrame'>\n",
      "Int64Index: 798970 entries, 65970 to 886929\n",
      "Data columns (total 70 columns):\n",
      " #   Column          Non-Null Count   Dtype  \n",
      "---  ------          --------------   -----  \n",
      " 0   Country Name    798970 non-null  object \n",
      " 1   Country Code    798970 non-null  object \n",
      " 2   Indicator Name  798970 non-null  object \n",
      " 3   Indicator Code  798970 non-null  object \n",
      " 4   1970            68433 non-null   float64\n",
      " 5   1971            31915 non-null   float64\n",
      " 6   1972            31831 non-null   float64\n",
      " 7   1973            31577 non-null   float64\n",
      " 8   1974            31597 non-null   float64\n",
      " 9   1975            82682 non-null   float64\n",
      " 10  1976            33208 non-null   float64\n",
      " 11  1977            33271 non-null   float64\n",
      " 12  1978            33217 non-null   float64\n",
      " 13  1979            32526 non-null   float64\n",
      " 14  1980            84317 non-null   float64\n",
      " 15  1981            34368 non-null   float64\n",
      " 16  1982            33012 non-null   float64\n",
      " 17  1983            33881 non-null   float64\n",
      " 18  1984            33987 non-null   float64\n",
      " 19  1985            85010 non-null   float64\n",
      " 20  1986            34375 non-null   float64\n",
      " 21  1987            33638 non-null   float64\n",
      " 22  1988            33541 non-null   float64\n",
      " 23  1989            32506 non-null   float64\n",
      " 24  1990            118594 non-null  float64\n",
      " 25  1991            68904 non-null   float64\n",
      " 26  1992            69770 non-null   float64\n",
      " 27  1993            69883 non-null   float64\n",
      " 28  1994            71258 non-null   float64\n",
      " 29  1995            124677 non-null  float64\n",
      " 30  1996            70605 non-null   float64\n",
      " 31  1997            66424 non-null   float64\n",
      " 32  1998            76916 non-null   float64\n",
      " 33  1999            110676 non-null  float64\n",
      " 34  2000            168100 non-null  float64\n",
      " 35  2001            115260 non-null  float64\n",
      " 36  2002            115931 non-null  float64\n",
      " 37  2003            122061 non-null  float64\n",
      " 38  2004            120477 non-null  float64\n",
      " 39  2005            175274 non-null  float64\n",
      " 40  2006            131902 non-null  float64\n",
      " 41  2007            128913 non-null  float64\n",
      " 42  2008            126234 non-null  float64\n",
      " 43  2009            133538 non-null  float64\n",
      " 44  2010            232967 non-null  float64\n",
      " 45  2011            137275 non-null  float64\n",
      " 46  2012            138293 non-null  float64\n",
      " 47  2013            128642 non-null  float64\n",
      " 48  2014            105696 non-null  float64\n",
      " 49  2015            128534 non-null  float64\n",
      " 50  2016            15733 non-null   float64\n",
      " 51  2017            143 non-null     float64\n",
      " 52  2020            50820 non-null   float64\n",
      " 53  2025            50820 non-null   float64\n",
      " 54  2030            50820 non-null   float64\n",
      " 55  2035            50820 non-null   float64\n",
      " 56  2040            50820 non-null   float64\n",
      " 57  2045            50820 non-null   float64\n",
      " 58  2050            50820 non-null   float64\n",
      " 59  2055            50820 non-null   float64\n",
      " 60  2060            50820 non-null   float64\n",
      " 61  2065            50820 non-null   float64\n",
      " 62  2070            50820 non-null   float64\n",
      " 63  2075            50820 non-null   float64\n",
      " 64  2080            50820 non-null   float64\n",
      " 65  2085            50820 non-null   float64\n",
      " 66  2090            50820 non-null   float64\n",
      " 67  2095            50820 non-null   float64\n",
      " 68  2100            50820 non-null   float64\n",
      " 69  Unnamed: 69     0 non-null       float64\n",
      "dtypes: float64(66), object(4)\n",
      "memory usage: 448.9+ MB\n"
     ]
    }
   ],
   "source": [
    "df_data.info()"
   ]
  },
  {
   "cell_type": "code",
   "execution_count": 5,
   "id": "76013be4",
   "metadata": {
    "id": "76013be4"
   },
   "outputs": [],
   "source": [
    "# chargement data: Country-series\n",
    "path_country_series = '/Users/olivierdebeyssac/Open Classrooms/Data_scientist/Projet_2_Analysez des données de systèmes éducatifs/Data/Projet+Python_Dataset_Edstats_csv/EdStatsCountry-Series.csv'\n",
    "df_path_country_series = pd.read_csv(path_country_series, sep=',')"
   ]
  },
  {
   "cell_type": "code",
   "execution_count": 6,
   "id": "f7756296",
   "metadata": {
    "colab": {
     "base_uri": "https://localhost:8080/",
     "height": 204
    },
    "id": "f7756296",
    "outputId": "6e4d02b2-3900-4d54-8fb3-abf609ce0a4d",
    "scrolled": true
   },
   "outputs": [
    {
     "data": {
      "text/html": [
       "<div>\n",
       "<style scoped>\n",
       "    .dataframe tbody tr th:only-of-type {\n",
       "        vertical-align: middle;\n",
       "    }\n",
       "\n",
       "    .dataframe tbody tr th {\n",
       "        vertical-align: top;\n",
       "    }\n",
       "\n",
       "    .dataframe thead th {\n",
       "        text-align: right;\n",
       "    }\n",
       "</style>\n",
       "<table border=\"1\" class=\"dataframe\">\n",
       "  <thead>\n",
       "    <tr style=\"text-align: right;\">\n",
       "      <th></th>\n",
       "      <th>CountryCode</th>\n",
       "      <th>SeriesCode</th>\n",
       "      <th>DESCRIPTION</th>\n",
       "      <th>Unnamed: 3</th>\n",
       "    </tr>\n",
       "  </thead>\n",
       "  <tbody>\n",
       "    <tr>\n",
       "      <th>0</th>\n",
       "      <td>ABW</td>\n",
       "      <td>SP.POP.TOTL</td>\n",
       "      <td>Data sources : United Nations World Population...</td>\n",
       "      <td>NaN</td>\n",
       "    </tr>\n",
       "    <tr>\n",
       "      <th>1</th>\n",
       "      <td>ABW</td>\n",
       "      <td>SP.POP.GROW</td>\n",
       "      <td>Data sources: United Nations World Population ...</td>\n",
       "      <td>NaN</td>\n",
       "    </tr>\n",
       "    <tr>\n",
       "      <th>2</th>\n",
       "      <td>AFG</td>\n",
       "      <td>SP.POP.GROW</td>\n",
       "      <td>Data sources: United Nations World Population ...</td>\n",
       "      <td>NaN</td>\n",
       "    </tr>\n",
       "    <tr>\n",
       "      <th>3</th>\n",
       "      <td>AFG</td>\n",
       "      <td>NY.GDP.PCAP.PP.CD</td>\n",
       "      <td>Estimates are based on regression.</td>\n",
       "      <td>NaN</td>\n",
       "    </tr>\n",
       "    <tr>\n",
       "      <th>4</th>\n",
       "      <td>AFG</td>\n",
       "      <td>SP.POP.TOTL</td>\n",
       "      <td>Data sources : United Nations World Population...</td>\n",
       "      <td>NaN</td>\n",
       "    </tr>\n",
       "  </tbody>\n",
       "</table>\n",
       "</div>"
      ],
      "text/plain": [
       "  CountryCode         SeriesCode  \\\n",
       "0         ABW        SP.POP.TOTL   \n",
       "1         ABW        SP.POP.GROW   \n",
       "2         AFG        SP.POP.GROW   \n",
       "3         AFG  NY.GDP.PCAP.PP.CD   \n",
       "4         AFG        SP.POP.TOTL   \n",
       "\n",
       "                                         DESCRIPTION  Unnamed: 3  \n",
       "0  Data sources : United Nations World Population...         NaN  \n",
       "1  Data sources: United Nations World Population ...         NaN  \n",
       "2  Data sources: United Nations World Population ...         NaN  \n",
       "3                 Estimates are based on regression.         NaN  \n",
       "4  Data sources : United Nations World Population...         NaN  "
      ]
     },
     "execution_count": 6,
     "metadata": {},
     "output_type": "execute_result"
    }
   ],
   "source": [
    "df_path_country_series.head()"
   ]
  },
  {
   "cell_type": "code",
   "execution_count": 7,
   "id": "b5609850",
   "metadata": {
    "id": "b5609850"
   },
   "outputs": [],
   "source": [
    "# chargement data: Country\n",
    "path_country = '/Users/olivierdebeyssac/Open Classrooms/Data_scientist/Projet_2_Analysez des données de systèmes éducatifs/Data/Projet+Python_Dataset_Edstats_csv/EdStatsCountry.csv'\n",
    "df_country = pd.read_csv(path_country, sep=',')"
   ]
  },
  {
   "cell_type": "code",
   "execution_count": 8,
   "id": "63c1ffd5",
   "metadata": {
    "id": "63c1ffd5"
   },
   "outputs": [],
   "source": [
    "# df_country.head()"
   ]
  },
  {
   "cell_type": "code",
   "execution_count": 9,
   "id": "2de864e7",
   "metadata": {
    "id": "2de864e7"
   },
   "outputs": [],
   "source": [
    "# chargement data: footnote\n",
    "path_footnote = '/Users/olivierdebeyssac/Open Classrooms/Data_scientist/Projet_2_Analysez des données de systèmes éducatifs/Data/Projet+Python_Dataset_Edstats_csv/EdStatsFootNote.csv'\n",
    "df_footnote = pd.read_csv(path_footnote, sep=',')"
   ]
  },
  {
   "cell_type": "code",
   "execution_count": 10,
   "id": "3a37637e",
   "metadata": {
    "colab": {
     "base_uri": "https://localhost:8080/",
     "height": 204
    },
    "id": "3a37637e",
    "outputId": "e850857c-7d8b-420c-8b7d-cbfe5f56d693"
   },
   "outputs": [
    {
     "data": {
      "text/html": [
       "<div>\n",
       "<style scoped>\n",
       "    .dataframe tbody tr th:only-of-type {\n",
       "        vertical-align: middle;\n",
       "    }\n",
       "\n",
       "    .dataframe tbody tr th {\n",
       "        vertical-align: top;\n",
       "    }\n",
       "\n",
       "    .dataframe thead th {\n",
       "        text-align: right;\n",
       "    }\n",
       "</style>\n",
       "<table border=\"1\" class=\"dataframe\">\n",
       "  <thead>\n",
       "    <tr style=\"text-align: right;\">\n",
       "      <th></th>\n",
       "      <th>CountryCode</th>\n",
       "      <th>SeriesCode</th>\n",
       "      <th>Year</th>\n",
       "      <th>DESCRIPTION</th>\n",
       "      <th>Unnamed: 4</th>\n",
       "    </tr>\n",
       "  </thead>\n",
       "  <tbody>\n",
       "    <tr>\n",
       "      <th>0</th>\n",
       "      <td>ABW</td>\n",
       "      <td>SE.PRE.ENRL.FE</td>\n",
       "      <td>YR2001</td>\n",
       "      <td>Country estimation.</td>\n",
       "      <td>NaN</td>\n",
       "    </tr>\n",
       "    <tr>\n",
       "      <th>1</th>\n",
       "      <td>ABW</td>\n",
       "      <td>SE.TER.TCHR.FE</td>\n",
       "      <td>YR2005</td>\n",
       "      <td>Country estimation.</td>\n",
       "      <td>NaN</td>\n",
       "    </tr>\n",
       "    <tr>\n",
       "      <th>2</th>\n",
       "      <td>ABW</td>\n",
       "      <td>SE.PRE.TCHR.FE</td>\n",
       "      <td>YR2000</td>\n",
       "      <td>Country estimation.</td>\n",
       "      <td>NaN</td>\n",
       "    </tr>\n",
       "    <tr>\n",
       "      <th>3</th>\n",
       "      <td>ABW</td>\n",
       "      <td>SE.SEC.ENRL.GC</td>\n",
       "      <td>YR2004</td>\n",
       "      <td>Country estimation.</td>\n",
       "      <td>NaN</td>\n",
       "    </tr>\n",
       "    <tr>\n",
       "      <th>4</th>\n",
       "      <td>ABW</td>\n",
       "      <td>SE.PRE.TCHR</td>\n",
       "      <td>YR2006</td>\n",
       "      <td>Country estimation.</td>\n",
       "      <td>NaN</td>\n",
       "    </tr>\n",
       "  </tbody>\n",
       "</table>\n",
       "</div>"
      ],
      "text/plain": [
       "  CountryCode      SeriesCode    Year          DESCRIPTION  Unnamed: 4\n",
       "0         ABW  SE.PRE.ENRL.FE  YR2001  Country estimation.         NaN\n",
       "1         ABW  SE.TER.TCHR.FE  YR2005  Country estimation.         NaN\n",
       "2         ABW  SE.PRE.TCHR.FE  YR2000  Country estimation.         NaN\n",
       "3         ABW  SE.SEC.ENRL.GC  YR2004  Country estimation.         NaN\n",
       "4         ABW     SE.PRE.TCHR  YR2006  Country estimation.         NaN"
      ]
     },
     "execution_count": 10,
     "metadata": {},
     "output_type": "execute_result"
    }
   ],
   "source": [
    "df_footnote.head()"
   ]
  },
  {
   "cell_type": "code",
   "execution_count": 11,
   "id": "e2c2fe56",
   "metadata": {
    "id": "e2c2fe56"
   },
   "outputs": [],
   "source": [
    "# chargement data: series\n",
    "path_series = '/Users/olivierdebeyssac/Open Classrooms/Data_scientist/Projet_2_Analysez des données de systèmes éducatifs/Data/Projet+Python_Dataset_Edstats_csv/EdStatsCountry-Series.csv'\n",
    "df_series = pd.read_csv(path_series, sep=',')"
   ]
  },
  {
   "cell_type": "code",
   "execution_count": 12,
   "id": "dd88b721",
   "metadata": {
    "id": "dd88b721"
   },
   "outputs": [],
   "source": [
    "# df_series.head()"
   ]
  },
  {
   "cell_type": "markdown",
   "id": "7d10eed8",
   "metadata": {
    "id": "7d10eed8"
   },
   "source": [
    "### Description dataframes"
   ]
  },
  {
   "cell_type": "code",
   "execution_count": 13,
   "id": "36dc4378",
   "metadata": {
    "id": "36dc4378"
   },
   "outputs": [],
   "source": [
    "l= [df_data, df_path_country_series, df_country, df_footnote, df_series]\n",
    "names = ['data', 'country_series', 'country', 'footnote', 'series']\n",
    "def description(l):\n",
    "    for dataframe in l:\n",
    "        print(dataframe.info())\n",
    "    return"
   ]
  },
  {
   "cell_type": "code",
   "execution_count": 14,
   "id": "7934db8e",
   "metadata": {
    "colab": {
     "base_uri": "https://localhost:8080/"
    },
    "id": "7934db8e",
    "outputId": "01de5eb4-2724-47f0-b147-981cfbb7776a"
   },
   "outputs": [
    {
     "name": "stdout",
     "output_type": "stream",
     "text": [
      "<class 'pandas.core.frame.DataFrame'>\n",
      "RangeIndex: 886930 entries, 0 to 886929\n",
      "Data columns (total 70 columns):\n",
      " #   Column          Non-Null Count   Dtype  \n",
      "---  ------          --------------   -----  \n",
      " 0   Country Name    886930 non-null  object \n",
      " 1   Country Code    886930 non-null  object \n",
      " 2   Indicator Name  886930 non-null  object \n",
      " 3   Indicator Code  886930 non-null  object \n",
      " 4   1970            72288 non-null   float64\n",
      " 5   1971            35537 non-null   float64\n",
      " 6   1972            35619 non-null   float64\n",
      " 7   1973            35545 non-null   float64\n",
      " 8   1974            35730 non-null   float64\n",
      " 9   1975            87306 non-null   float64\n",
      " 10  1976            37483 non-null   float64\n",
      " 11  1977            37574 non-null   float64\n",
      " 12  1978            37576 non-null   float64\n",
      " 13  1979            36809 non-null   float64\n",
      " 14  1980            89122 non-null   float64\n",
      " 15  1981            38777 non-null   float64\n",
      " 16  1982            37511 non-null   float64\n",
      " 17  1983            38460 non-null   float64\n",
      " 18  1984            38606 non-null   float64\n",
      " 19  1985            90296 non-null   float64\n",
      " 20  1986            39372 non-null   float64\n",
      " 21  1987            38641 non-null   float64\n",
      " 22  1988            38552 non-null   float64\n",
      " 23  1989            37540 non-null   float64\n",
      " 24  1990            124405 non-null  float64\n",
      " 25  1991            74437 non-null   float64\n",
      " 26  1992            75543 non-null   float64\n",
      " 27  1993            75793 non-null   float64\n",
      " 28  1994            77462 non-null   float64\n",
      " 29  1995            131361 non-null  float64\n",
      " 30  1996            76807 non-null   float64\n",
      " 31  1997            73453 non-null   float64\n",
      " 32  1998            84914 non-null   float64\n",
      " 33  1999            118839 non-null  float64\n",
      " 34  2000            176676 non-null  float64\n",
      " 35  2001            123509 non-null  float64\n",
      " 36  2002            124205 non-null  float64\n",
      " 37  2003            130363 non-null  float64\n",
      " 38  2004            128814 non-null  float64\n",
      " 39  2005            184108 non-null  float64\n",
      " 40  2006            140312 non-null  float64\n",
      " 41  2007            137272 non-null  float64\n",
      " 42  2008            134387 non-null  float64\n",
      " 43  2009            142108 non-null  float64\n",
      " 44  2010            242442 non-null  float64\n",
      " 45  2011            146012 non-null  float64\n",
      " 46  2012            147264 non-null  float64\n",
      " 47  2013            137509 non-null  float64\n",
      " 48  2014            113789 non-null  float64\n",
      " 49  2015            131058 non-null  float64\n",
      " 50  2016            16460 non-null   float64\n",
      " 51  2017            143 non-null     float64\n",
      " 52  2020            51436 non-null   float64\n",
      " 53  2025            51436 non-null   float64\n",
      " 54  2030            51436 non-null   float64\n",
      " 55  2035            51436 non-null   float64\n",
      " 56  2040            51436 non-null   float64\n",
      " 57  2045            51436 non-null   float64\n",
      " 58  2050            51436 non-null   float64\n",
      " 59  2055            51436 non-null   float64\n",
      " 60  2060            51436 non-null   float64\n",
      " 61  2065            51436 non-null   float64\n",
      " 62  2070            51436 non-null   float64\n",
      " 63  2075            51436 non-null   float64\n",
      " 64  2080            51436 non-null   float64\n",
      " 65  2085            51436 non-null   float64\n",
      " 66  2090            51436 non-null   float64\n",
      " 67  2095            51436 non-null   float64\n",
      " 68  2100            51436 non-null   float64\n",
      " 69  Unnamed: 69     0 non-null       float64\n",
      "dtypes: float64(66), object(4)\n",
      "memory usage: 473.7+ MB\n",
      "None\n",
      "<class 'pandas.core.frame.DataFrame'>\n",
      "RangeIndex: 613 entries, 0 to 612\n",
      "Data columns (total 4 columns):\n",
      " #   Column       Non-Null Count  Dtype  \n",
      "---  ------       --------------  -----  \n",
      " 0   CountryCode  613 non-null    object \n",
      " 1   SeriesCode   613 non-null    object \n",
      " 2   DESCRIPTION  613 non-null    object \n",
      " 3   Unnamed: 3   0 non-null      float64\n",
      "dtypes: float64(1), object(3)\n",
      "memory usage: 19.3+ KB\n",
      "None\n",
      "<class 'pandas.core.frame.DataFrame'>\n",
      "RangeIndex: 241 entries, 0 to 240\n",
      "Data columns (total 32 columns):\n",
      " #   Column                                             Non-Null Count  Dtype  \n",
      "---  ------                                             --------------  -----  \n",
      " 0   Country Code                                       241 non-null    object \n",
      " 1   Short Name                                         241 non-null    object \n",
      " 2   Table Name                                         241 non-null    object \n",
      " 3   Long Name                                          241 non-null    object \n",
      " 4   2-alpha code                                       238 non-null    object \n",
      " 5   Currency Unit                                      215 non-null    object \n",
      " 6   Special Notes                                      145 non-null    object \n",
      " 7   Region                                             214 non-null    object \n",
      " 8   Income Group                                       214 non-null    object \n",
      " 9   WB-2 code                                          240 non-null    object \n",
      " 10  National accounts base year                        205 non-null    object \n",
      " 11  National accounts reference year                   32 non-null     float64\n",
      " 12  SNA price valuation                                197 non-null    object \n",
      " 13  Lending category                                   144 non-null    object \n",
      " 14  Other groups                                       58 non-null     object \n",
      " 15  System of National Accounts                        215 non-null    object \n",
      " 16  Alternative conversion factor                      47 non-null     object \n",
      " 17  PPP survey year                                    145 non-null    object \n",
      " 18  Balance of Payments Manual in use                  181 non-null    object \n",
      " 19  External debt Reporting status                     124 non-null    object \n",
      " 20  System of trade                                    200 non-null    object \n",
      " 21  Government Accounting concept                      161 non-null    object \n",
      " 22  IMF data dissemination standard                    181 non-null    object \n",
      " 23  Latest population census                           213 non-null    object \n",
      " 24  Latest household survey                            141 non-null    object \n",
      " 25  Source of most recent Income and expenditure data  160 non-null    object \n",
      " 26  Vital registration complete                        111 non-null    object \n",
      " 27  Latest agricultural census                         142 non-null    object \n",
      " 28  Latest industrial data                             107 non-null    float64\n",
      " 29  Latest trade data                                  185 non-null    float64\n",
      " 30  Latest water withdrawal data                       179 non-null    object \n",
      " 31  Unnamed: 31                                        0 non-null      float64\n",
      "dtypes: float64(4), object(28)\n",
      "memory usage: 60.4+ KB\n",
      "None\n",
      "<class 'pandas.core.frame.DataFrame'>\n",
      "RangeIndex: 643638 entries, 0 to 643637\n",
      "Data columns (total 5 columns):\n",
      " #   Column       Non-Null Count   Dtype  \n",
      "---  ------       --------------   -----  \n",
      " 0   CountryCode  643638 non-null  object \n",
      " 1   SeriesCode   643638 non-null  object \n",
      " 2   Year         643638 non-null  object \n",
      " 3   DESCRIPTION  643638 non-null  object \n",
      " 4   Unnamed: 4   0 non-null       float64\n",
      "dtypes: float64(1), object(4)\n",
      "memory usage: 24.6+ MB\n",
      "None\n",
      "<class 'pandas.core.frame.DataFrame'>\n",
      "RangeIndex: 613 entries, 0 to 612\n",
      "Data columns (total 4 columns):\n",
      " #   Column       Non-Null Count  Dtype  \n",
      "---  ------       --------------  -----  \n",
      " 0   CountryCode  613 non-null    object \n",
      " 1   SeriesCode   613 non-null    object \n",
      " 2   DESCRIPTION  613 non-null    object \n",
      " 3   Unnamed: 3   0 non-null      float64\n",
      "dtypes: float64(1), object(3)\n",
      "memory usage: 19.3+ KB\n",
      "None\n"
     ]
    }
   ],
   "source": [
    "description(l)"
   ]
  },
  {
   "cell_type": "markdown",
   "id": "6e020d79",
   "metadata": {
    "id": "6e020d79"
   },
   "source": [
    "### Suppression autres objets que pays dans liste pays"
   ]
  },
  {
   "cell_type": "code",
   "execution_count": 15,
   "id": "000c87d6",
   "metadata": {
    "id": "000c87d6"
   },
   "outputs": [],
   "source": [
    "# Certaines lignes de df_country correspondent à des régions ou autres choses, non à des pays.\n",
    "# Création liste régions et autres\n",
    "l_misc = ['ARB','ARE', 'EAP', 'EAS', 'ECA', 'ECS', 'EMU',\n",
    "          'EUU','HIC', 'MIC',\n",
    "          'HPC', 'LAC', 'LCN', 'LDC', 'LIC', 'LMC', \n",
    "          'LMY', 'MEA', 'MNA', 'OED', 'SSA', 'SSF',\n",
    "         'UMC', 'WLD']"
   ]
  },
  {
   "cell_type": "code",
   "execution_count": 16,
   "id": "eba52ef5",
   "metadata": {
    "id": "eba52ef5"
   },
   "outputs": [],
   "source": [
    "# l est une liste de miscellanous, lignes à supprimer\n",
    "def supp_rows(l, df):\n",
    "    for code in l:\n",
    "        cond_misc = (df['Country Code'] == code)\n",
    "        df.drop(df[cond_misc].index, inplace=True)\n",
    "    return df\n"
   ]
  },
  {
   "cell_type": "code",
   "execution_count": 17,
   "id": "ebc93de2",
   "metadata": {
    "id": "ebc93de2"
   },
   "outputs": [],
   "source": [
    "df_data = supp_rows(l_misc, df_data)"
   ]
  },
  {
   "cell_type": "code",
   "execution_count": 200,
   "id": "b5826398",
   "metadata": {
    "colab": {
     "base_uri": "https://localhost:8080/",
     "height": 739
    },
    "id": "b5826398",
    "outputId": "97693c85-5b46-442f-c7e1-d0477bc7e32c"
   },
   "outputs": [
    {
     "name": "stdout",
     "output_type": "stream",
     "text": [
      "<class 'pandas.core.frame.DataFrame'>\n",
      "Int64Index: 798970 entries, 65970 to 886929\n",
      "Data columns (total 70 columns):\n",
      " #   Column          Non-Null Count   Dtype  \n",
      "---  ------          --------------   -----  \n",
      " 0   Country Name    798970 non-null  object \n",
      " 1   Country Code    798970 non-null  object \n",
      " 2   Indicator Name  798970 non-null  object \n",
      " 3   Indicator Code  798970 non-null  object \n",
      " 4   1970            68433 non-null   float64\n",
      " 5   1971            31915 non-null   float64\n",
      " 6   1972            31831 non-null   float64\n",
      " 7   1973            31577 non-null   float64\n",
      " 8   1974            31597 non-null   float64\n",
      " 9   1975            82682 non-null   float64\n",
      " 10  1976            33208 non-null   float64\n",
      " 11  1977            33271 non-null   float64\n",
      " 12  1978            33217 non-null   float64\n",
      " 13  1979            32526 non-null   float64\n",
      " 14  1980            84317 non-null   float64\n",
      " 15  1981            34368 non-null   float64\n",
      " 16  1982            33012 non-null   float64\n",
      " 17  1983            33881 non-null   float64\n",
      " 18  1984            33987 non-null   float64\n",
      " 19  1985            85010 non-null   float64\n",
      " 20  1986            34375 non-null   float64\n",
      " 21  1987            33638 non-null   float64\n",
      " 22  1988            33541 non-null   float64\n",
      " 23  1989            32506 non-null   float64\n",
      " 24  1990            118594 non-null  float64\n",
      " 25  1991            68904 non-null   float64\n",
      " 26  1992            69770 non-null   float64\n",
      " 27  1993            69883 non-null   float64\n",
      " 28  1994            71258 non-null   float64\n",
      " 29  1995            124677 non-null  float64\n",
      " 30  1996            70605 non-null   float64\n",
      " 31  1997            66424 non-null   float64\n",
      " 32  1998            76916 non-null   float64\n",
      " 33  1999            110676 non-null  float64\n",
      " 34  2000            168100 non-null  float64\n",
      " 35  2001            115260 non-null  float64\n",
      " 36  2002            115931 non-null  float64\n",
      " 37  2003            122061 non-null  float64\n",
      " 38  2004            120477 non-null  float64\n",
      " 39  2005            175274 non-null  float64\n",
      " 40  2006            131902 non-null  float64\n",
      " 41  2007            128913 non-null  float64\n",
      " 42  2008            126234 non-null  float64\n",
      " 43  2009            133538 non-null  float64\n",
      " 44  2010            232967 non-null  float64\n",
      " 45  2011            137275 non-null  float64\n",
      " 46  2012            138293 non-null  float64\n",
      " 47  2013            128642 non-null  float64\n",
      " 48  2014            105696 non-null  float64\n",
      " 49  2015            128534 non-null  float64\n",
      " 50  2016            15733 non-null   float64\n",
      " 51  2017            143 non-null     float64\n",
      " 52  2020            50820 non-null   float64\n",
      " 53  2025            50820 non-null   float64\n",
      " 54  2030            50820 non-null   float64\n",
      " 55  2035            50820 non-null   float64\n",
      " 56  2040            50820 non-null   float64\n",
      " 57  2045            50820 non-null   float64\n",
      " 58  2050            50820 non-null   float64\n",
      " 59  2055            50820 non-null   float64\n",
      " 60  2060            50820 non-null   float64\n",
      " 61  2065            50820 non-null   float64\n",
      " 62  2070            50820 non-null   float64\n",
      " 63  2075            50820 non-null   float64\n",
      " 64  2080            50820 non-null   float64\n",
      " 65  2085            50820 non-null   float64\n",
      " 66  2090            50820 non-null   float64\n",
      " 67  2095            50820 non-null   float64\n",
      " 68  2100            50820 non-null   float64\n",
      " 69  Unnamed: 69     0 non-null       float64\n",
      "dtypes: float64(66), object(4)\n",
      "memory usage: 448.9+ MB\n"
     ]
    }
   ],
   "source": [
    "df_data.info()"
   ]
  },
  {
   "cell_type": "markdown",
   "id": "f7bed482",
   "metadata": {
    "id": "f7bed482"
   },
   "source": [
    "### Analyse qualité dataset (duplication, manquants)"
   ]
  },
  {
   "cell_type": "code",
   "execution_count": 19,
   "id": "53204db3",
   "metadata": {
    "colab": {
     "base_uri": "https://localhost:8080/"
    },
    "id": "53204db3",
    "outputId": "31c95d75-4d77-49f6-85a5-349faddee091"
   },
   "outputs": [
    {
     "data": {
      "text/plain": [
       "False"
      ]
     },
     "execution_count": 19,
     "metadata": {},
     "output_type": "execute_result"
    }
   ],
   "source": [
    "# dataset= data\n",
    "df_data.duplicated().any()"
   ]
  },
  {
   "cell_type": "code",
   "execution_count": 20,
   "id": "23a64168",
   "metadata": {
    "colab": {
     "base_uri": "https://localhost:8080/"
    },
    "id": "23a64168",
    "outputId": "53fc40a2-ff87-4eb3-e98b-0a7d2841cb1f",
    "scrolled": false
   },
   "outputs": [
    {
     "data": {
      "text/plain": [
       "Country Name      False\n",
       "Country Code      False\n",
       "Indicator Name    False\n",
       "Indicator Code    False\n",
       "1970               True\n",
       "                  ...  \n",
       "2085               True\n",
       "2090               True\n",
       "2095               True\n",
       "2100               True\n",
       "Unnamed: 69        True\n",
       "Length: 70, dtype: bool"
      ]
     },
     "execution_count": 20,
     "metadata": {},
     "output_type": "execute_result"
    }
   ],
   "source": [
    "df_data.isnull().any()"
   ]
  },
  {
   "cell_type": "code",
   "execution_count": 21,
   "id": "04abffe1",
   "metadata": {},
   "outputs": [],
   "source": [
    "l_data= [df_data]"
   ]
  },
  {
   "cell_type": "code",
   "execution_count": 22,
   "id": "30b51b72",
   "metadata": {
    "id": "30b51b72"
   },
   "outputs": [],
   "source": [
    "def null_check(l):\n",
    "    l_dict = [] # liste dict. {'année': valeur}\n",
    "    thres = 0.95 # seuil de valeurs non manquantes pour déterminer le niveau de qualité acceptable.\n",
    "    for k in range(4,len(l)):\n",
    "        name = names[k]\n",
    "        col_names = l[k].columns \n",
    "        cols = len(l[k].columns)\n",
    "        nb_rows = len(l[k])\n",
    "        print(nb_rows)\n",
    "    \n",
    "        for i in range(cols):\n",
    "            col_name = col_names[i]\n",
    "            non_null_values_count = l[k].loc[:, col_name].count()\n",
    "            print(non_null_values_count)\n",
    "            pc = round((non_null_values_count/nb_rows), 2) # pourcentage de valeurs non nulles pour chaque\n",
    "      # année\n",
    "            \n",
    "            if pc >= thres:\n",
    "                d = {col_name: pc}\n",
    "                l_dict.append(d)\n",
    "    if len(l_dict) == 0:\n",
    "        print(\"Pour l'analyse par année, aucun pays ne satisfait à l'egigence de qualité\")\n",
    "\n",
    "    return l_dict"
   ]
  },
  {
   "cell_type": "code",
   "execution_count": 23,
   "id": "f13ec53c",
   "metadata": {
    "colab": {
     "base_uri": "https://localhost:8080/"
    },
    "id": "f13ec53c",
    "outputId": "4f3c983f-cec1-4c4a-81f7-8513e6f5a382",
    "scrolled": false
   },
   "outputs": [
    {
     "name": "stdout",
     "output_type": "stream",
     "text": [
      "Pour l'analyse par année, aucun pays ne satisfait à l'egigence de qualité\n"
     ]
    },
    {
     "data": {
      "text/plain": [
       "[]"
      ]
     },
     "execution_count": 23,
     "metadata": {},
     "output_type": "execute_result"
    }
   ],
   "source": [
    "null_check(l_data)"
   ]
  },
  {
   "cell_type": "markdown",
   "id": "b94eff6c",
   "metadata": {
    "id": "b94eff6c"
   },
   "source": [
    "### 1ère conclusion qualité dataset"
   ]
  },
  {
   "cell_type": "markdown",
   "id": "93041fdf",
   "metadata": {
    "id": "93041fdf"
   },
   "source": [
    "#### L'analyse de la qualité du dataset faite par année montre une qualité faible.\n",
    "#### Il faut maintenant faire une analyse plus fine: par année, par pays, par indicateur afin d'identifier si il y a des pays pour lesquels le taux de valeurs manquantes serait inacceptable."
   ]
  },
  {
   "cell_type": "markdown",
   "id": "ad3ef887",
   "metadata": {
    "id": "ad3ef887"
   },
   "source": [
    "### Analyse qualité par pays: identification des pays avec qualité acceptable"
   ]
  },
  {
   "cell_type": "markdown",
   "id": "fc1e9962",
   "metadata": {
    "id": "fc1e9962"
   },
   "source": [
    "#### Analyse qualité par pays: identification des pays avec qualité acceptable. Pour chaque année et pour chaque pays on évalue la qualité du dataset. Si un pays est qualifié on met '1' dans un dataframe appelé 'status'. On fait ensuite un total par pays pour évaluer ceux des pays qui ont une qualité de dataset supérieure au seuil."
   ]
  },
  {
   "cell_type": "markdown",
   "id": "c4de0d5e",
   "metadata": {
    "id": "c4de0d5e"
   },
   "source": [
    "#### Pour la suite de l'analyse:\n",
    "- On restreint la liste des df à df_data\n",
    "- On réduit l'analyse à une période de 10 années, 2010 à 2019, statistiquement suffisant.\n",
    "- Avec des données non estimées.\n"
   ]
  },
  {
   "cell_type": "code",
   "execution_count": 24,
   "id": "38b1d0f9",
   "metadata": {
    "id": "38b1d0f9",
    "scrolled": true
   },
   "outputs": [],
   "source": [
    "# Fonction pour réduire la période d'analyse\n",
    "col_names = df_data.columns\n",
    "# print(col_names)\n",
    "non_numeric_cols = ['Country Name', 'Country Code', 'Indicator Name', 'Indicator Code']\n",
    "\n",
    "def retain_cols(l):\n",
    "    l_textes = [i for i in range(2009, 2021)]\n",
    "    l_textes = str(l_textes)\n",
    "    \n",
    "    merged_lists = [*l, *l_textes]\n",
    "    numeric_cols = [x for x in merged_lists if x in l and x in l_textes]\n",
    "\n",
    "    return numeric_cols    "
   ]
  },
  {
   "cell_type": "code",
   "execution_count": 25,
   "id": "7f954893",
   "metadata": {
    "colab": {
     "base_uri": "https://localhost:8080/"
    },
    "id": "7f954893",
    "outputId": "7ea6b95f-2f53-4a38-b3b1-c5478f9d4cf9"
   },
   "outputs": [
    {
     "name": "stdout",
     "output_type": "stream",
     "text": [
      "['2009', '2010', '2011', '2012', '2013', '2014', '2015', '2016', '2017', '2020']\n"
     ]
    }
   ],
   "source": [
    "liste_numeric_cols = retain_cols(col_names)\n",
    "print(liste_numeric_cols)"
   ]
  },
  {
   "cell_type": "code",
   "execution_count": 26,
   "id": "6c9701b9",
   "metadata": {
    "id": "6c9701b9"
   },
   "outputs": [],
   "source": [
    "liste_cols = [*non_numeric_cols, *liste_numeric_cols]"
   ]
  },
  {
   "cell_type": "code",
   "execution_count": 27,
   "id": "34fa1664",
   "metadata": {
    "colab": {
     "base_uri": "https://localhost:8080/"
    },
    "id": "34fa1664",
    "outputId": "78b71ef8-d508-490d-d5fb-887c245e2593"
   },
   "outputs": [
    {
     "name": "stdout",
     "output_type": "stream",
     "text": [
      "['Country Name', 'Country Code', 'Indicator Name', 'Indicator Code', '2009', '2010', '2011', '2012', '2013', '2014', '2015', '2016', '2017', '2020']\n"
     ]
    }
   ],
   "source": [
    "print(liste_cols)"
   ]
  },
  {
   "cell_type": "code",
   "execution_count": 28,
   "id": "febaede3",
   "metadata": {
    "id": "febaede3"
   },
   "outputs": [],
   "source": [
    "# On ne conserve dans cette liste des df que df_data\n",
    "l_dfdata = [df_data]"
   ]
  },
  {
   "cell_type": "code",
   "execution_count": 29,
   "id": "36bd2e98",
   "metadata": {
    "id": "36bd2e98"
   },
   "outputs": [],
   "source": [
    "# On modifie df_data qui devient df_data_1\n",
    "df_data_1 = df_data.loc[:, liste_cols]"
   ]
  },
  {
   "cell_type": "code",
   "execution_count": 30,
   "id": "0f5edaa9",
   "metadata": {
    "colab": {
     "base_uri": "https://localhost:8080/",
     "height": 350
    },
    "id": "0f5edaa9",
    "outputId": "89f9771b-1364-43b1-b4d9-6ab4b718296e",
    "scrolled": true
   },
   "outputs": [
    {
     "data": {
      "text/html": [
       "<div>\n",
       "<style scoped>\n",
       "    .dataframe tbody tr th:only-of-type {\n",
       "        vertical-align: middle;\n",
       "    }\n",
       "\n",
       "    .dataframe tbody tr th {\n",
       "        vertical-align: top;\n",
       "    }\n",
       "\n",
       "    .dataframe thead th {\n",
       "        text-align: right;\n",
       "    }\n",
       "</style>\n",
       "<table border=\"1\" class=\"dataframe\">\n",
       "  <thead>\n",
       "    <tr style=\"text-align: right;\">\n",
       "      <th></th>\n",
       "      <th>Country Name</th>\n",
       "      <th>Country Code</th>\n",
       "      <th>Indicator Name</th>\n",
       "      <th>Indicator Code</th>\n",
       "      <th>2009</th>\n",
       "      <th>2010</th>\n",
       "      <th>2011</th>\n",
       "      <th>2012</th>\n",
       "      <th>2013</th>\n",
       "      <th>2014</th>\n",
       "      <th>2015</th>\n",
       "      <th>2016</th>\n",
       "      <th>2017</th>\n",
       "      <th>2020</th>\n",
       "    </tr>\n",
       "  </thead>\n",
       "  <tbody>\n",
       "    <tr>\n",
       "      <th>65970</th>\n",
       "      <td>North America</td>\n",
       "      <td>NAC</td>\n",
       "      <td>Adjusted net enrolment rate, lower secondary, ...</td>\n",
       "      <td>UIS.NERA.2</td>\n",
       "      <td>NaN</td>\n",
       "      <td>NaN</td>\n",
       "      <td>NaN</td>\n",
       "      <td>NaN</td>\n",
       "      <td>NaN</td>\n",
       "      <td>NaN</td>\n",
       "      <td>NaN</td>\n",
       "      <td>NaN</td>\n",
       "      <td>NaN</td>\n",
       "      <td>NaN</td>\n",
       "    </tr>\n",
       "    <tr>\n",
       "      <th>65971</th>\n",
       "      <td>North America</td>\n",
       "      <td>NAC</td>\n",
       "      <td>Adjusted net enrolment rate, lower secondary, ...</td>\n",
       "      <td>UIS.NERA.2.F</td>\n",
       "      <td>NaN</td>\n",
       "      <td>NaN</td>\n",
       "      <td>NaN</td>\n",
       "      <td>NaN</td>\n",
       "      <td>NaN</td>\n",
       "      <td>NaN</td>\n",
       "      <td>NaN</td>\n",
       "      <td>NaN</td>\n",
       "      <td>NaN</td>\n",
       "      <td>NaN</td>\n",
       "    </tr>\n",
       "  </tbody>\n",
       "</table>\n",
       "</div>"
      ],
      "text/plain": [
       "        Country Name Country Code  \\\n",
       "65970  North America          NAC   \n",
       "65971  North America          NAC   \n",
       "\n",
       "                                          Indicator Name Indicator Code  2009  \\\n",
       "65970  Adjusted net enrolment rate, lower secondary, ...     UIS.NERA.2   NaN   \n",
       "65971  Adjusted net enrolment rate, lower secondary, ...   UIS.NERA.2.F   NaN   \n",
       "\n",
       "       2010  2011  2012  2013  2014  2015  2016  2017  2020  \n",
       "65970   NaN   NaN   NaN   NaN   NaN   NaN   NaN   NaN   NaN  \n",
       "65971   NaN   NaN   NaN   NaN   NaN   NaN   NaN   NaN   NaN  "
      ]
     },
     "execution_count": 30,
     "metadata": {},
     "output_type": "execute_result"
    }
   ],
   "source": [
    "df_data_1.head(2)"
   ]
  },
  {
   "cell_type": "code",
   "execution_count": 31,
   "id": "619e36de",
   "metadata": {
    "scrolled": true
   },
   "outputs": [
    {
     "name": "stdout",
     "output_type": "stream",
     "text": [
      "<class 'pandas.core.frame.DataFrame'>\n",
      "Int64Index: 798970 entries, 65970 to 886929\n",
      "Data columns (total 14 columns):\n",
      " #   Column          Non-Null Count   Dtype  \n",
      "---  ------          --------------   -----  \n",
      " 0   Country Name    798970 non-null  object \n",
      " 1   Country Code    798970 non-null  object \n",
      " 2   Indicator Name  798970 non-null  object \n",
      " 3   Indicator Code  798970 non-null  object \n",
      " 4   2009            133538 non-null  float64\n",
      " 5   2010            232967 non-null  float64\n",
      " 6   2011            137275 non-null  float64\n",
      " 7   2012            138293 non-null  float64\n",
      " 8   2013            128642 non-null  float64\n",
      " 9   2014            105696 non-null  float64\n",
      " 10  2015            128534 non-null  float64\n",
      " 11  2016            15733 non-null   float64\n",
      " 12  2017            143 non-null     float64\n",
      " 13  2020            50820 non-null   float64\n",
      "dtypes: float64(10), object(4)\n",
      "memory usage: 91.4+ MB\n"
     ]
    }
   ],
   "source": [
    "df_data_1.info()"
   ]
  },
  {
   "cell_type": "code",
   "execution_count": 32,
   "id": "43c0336a",
   "metadata": {},
   "outputs": [
    {
     "data": {
      "text/html": [
       "<div>\n",
       "<style scoped>\n",
       "    .dataframe tbody tr th:only-of-type {\n",
       "        vertical-align: middle;\n",
       "    }\n",
       "\n",
       "    .dataframe tbody tr th {\n",
       "        vertical-align: top;\n",
       "    }\n",
       "\n",
       "    .dataframe thead th {\n",
       "        text-align: right;\n",
       "    }\n",
       "</style>\n",
       "<table border=\"1\" class=\"dataframe\">\n",
       "  <thead>\n",
       "    <tr style=\"text-align: right;\">\n",
       "      <th></th>\n",
       "      <th>2009</th>\n",
       "      <th>2010</th>\n",
       "      <th>2011</th>\n",
       "      <th>2012</th>\n",
       "      <th>2013</th>\n",
       "      <th>2014</th>\n",
       "      <th>2015</th>\n",
       "      <th>2016</th>\n",
       "      <th>2017</th>\n",
       "      <th>2020</th>\n",
       "    </tr>\n",
       "  </thead>\n",
       "  <tbody>\n",
       "    <tr>\n",
       "      <th>count</th>\n",
       "      <td>1.335380e+05</td>\n",
       "      <td>2.329670e+05</td>\n",
       "      <td>1.372750e+05</td>\n",
       "      <td>1.382930e+05</td>\n",
       "      <td>1.286420e+05</td>\n",
       "      <td>1.056960e+05</td>\n",
       "      <td>1.285340e+05</td>\n",
       "      <td>1.573300e+04</td>\n",
       "      <td>143.000000</td>\n",
       "      <td>50820.000000</td>\n",
       "    </tr>\n",
       "    <tr>\n",
       "      <th>mean</th>\n",
       "      <td>4.108660e+09</td>\n",
       "      <td>2.510804e+09</td>\n",
       "      <td>4.535670e+09</td>\n",
       "      <td>4.667799e+09</td>\n",
       "      <td>5.207249e+09</td>\n",
       "      <td>6.585701e+09</td>\n",
       "      <td>5.488581e+09</td>\n",
       "      <td>4.613221e+10</td>\n",
       "      <td>2.160839</td>\n",
       "      <td>288.556562</td>\n",
       "    </tr>\n",
       "    <tr>\n",
       "      <th>std</th>\n",
       "      <td>1.713617e+11</td>\n",
       "      <td>1.367442e+11</td>\n",
       "      <td>1.875509e+11</td>\n",
       "      <td>1.953970e+11</td>\n",
       "      <td>2.104165e+11</td>\n",
       "      <td>2.431983e+11</td>\n",
       "      <td>2.291025e+11</td>\n",
       "      <td>6.763018e+11</td>\n",
       "      <td>0.810584</td>\n",
       "      <td>4599.710995</td>\n",
       "    </tr>\n",
       "    <tr>\n",
       "      <th>min</th>\n",
       "      <td>-4.561240e+05</td>\n",
       "      <td>-4.969050e+05</td>\n",
       "      <td>-5.709940e+05</td>\n",
       "      <td>-6.049930e+05</td>\n",
       "      <td>-6.157480e+05</td>\n",
       "      <td>-8.900000e+01</td>\n",
       "      <td>-2.467847e+00</td>\n",
       "      <td>-1.797539e+00</td>\n",
       "      <td>1.000000</td>\n",
       "      <td>-1.870000</td>\n",
       "    </tr>\n",
       "    <tr>\n",
       "      <th>25%</th>\n",
       "      <td>1.156530e+01</td>\n",
       "      <td>1.220000e+00</td>\n",
       "      <td>1.200000e+01</td>\n",
       "      <td>1.079693e+01</td>\n",
       "      <td>1.286312e+01</td>\n",
       "      <td>1.590178e+01</td>\n",
       "      <td>4.000000e-01</td>\n",
       "      <td>1.800000e+01</td>\n",
       "      <td>2.000000</td>\n",
       "      <td>0.060000</td>\n",
       "    </tr>\n",
       "    <tr>\n",
       "      <th>50%</th>\n",
       "      <td>9.985397e+01</td>\n",
       "      <td>1.875198e+01</td>\n",
       "      <td>9.905131e+01</td>\n",
       "      <td>9.825045e+01</td>\n",
       "      <td>1.009993e+02</td>\n",
       "      <td>1.000000e+02</td>\n",
       "      <td>5.124197e+01</td>\n",
       "      <td>5.777000e+03</td>\n",
       "      <td>2.000000</td>\n",
       "      <td>0.230000</td>\n",
       "    </tr>\n",
       "    <tr>\n",
       "      <th>75%</th>\n",
       "      <td>1.061368e+05</td>\n",
       "      <td>2.510500e+03</td>\n",
       "      <td>9.573550e+04</td>\n",
       "      <td>9.215300e+04</td>\n",
       "      <td>1.298820e+05</td>\n",
       "      <td>1.448458e+05</td>\n",
       "      <td>6.003075e+04</td>\n",
       "      <td>5.086850e+05</td>\n",
       "      <td>3.000000</td>\n",
       "      <td>6.600000</td>\n",
       "    </tr>\n",
       "    <tr>\n",
       "      <th>max</th>\n",
       "      <td>1.624252e+13</td>\n",
       "      <td>1.670980e+13</td>\n",
       "      <td>1.756456e+13</td>\n",
       "      <td>1.839493e+13</td>\n",
       "      <td>1.889530e+13</td>\n",
       "      <td>1.966295e+13</td>\n",
       "      <td>2.014617e+13</td>\n",
       "      <td>2.145097e+13</td>\n",
       "      <td>4.000000</td>\n",
       "      <td>520989.750000</td>\n",
       "    </tr>\n",
       "  </tbody>\n",
       "</table>\n",
       "</div>"
      ],
      "text/plain": [
       "               2009          2010          2011          2012          2013  \\\n",
       "count  1.335380e+05  2.329670e+05  1.372750e+05  1.382930e+05  1.286420e+05   \n",
       "mean   4.108660e+09  2.510804e+09  4.535670e+09  4.667799e+09  5.207249e+09   \n",
       "std    1.713617e+11  1.367442e+11  1.875509e+11  1.953970e+11  2.104165e+11   \n",
       "min   -4.561240e+05 -4.969050e+05 -5.709940e+05 -6.049930e+05 -6.157480e+05   \n",
       "25%    1.156530e+01  1.220000e+00  1.200000e+01  1.079693e+01  1.286312e+01   \n",
       "50%    9.985397e+01  1.875198e+01  9.905131e+01  9.825045e+01  1.009993e+02   \n",
       "75%    1.061368e+05  2.510500e+03  9.573550e+04  9.215300e+04  1.298820e+05   \n",
       "max    1.624252e+13  1.670980e+13  1.756456e+13  1.839493e+13  1.889530e+13   \n",
       "\n",
       "               2014          2015          2016        2017           2020  \n",
       "count  1.056960e+05  1.285340e+05  1.573300e+04  143.000000   50820.000000  \n",
       "mean   6.585701e+09  5.488581e+09  4.613221e+10    2.160839     288.556562  \n",
       "std    2.431983e+11  2.291025e+11  6.763018e+11    0.810584    4599.710995  \n",
       "min   -8.900000e+01 -2.467847e+00 -1.797539e+00    1.000000      -1.870000  \n",
       "25%    1.590178e+01  4.000000e-01  1.800000e+01    2.000000       0.060000  \n",
       "50%    1.000000e+02  5.124197e+01  5.777000e+03    2.000000       0.230000  \n",
       "75%    1.448458e+05  6.003075e+04  5.086850e+05    3.000000       6.600000  \n",
       "max    1.966295e+13  2.014617e+13  2.145097e+13    4.000000  520989.750000  "
      ]
     },
     "execution_count": 32,
     "metadata": {},
     "output_type": "execute_result"
    }
   ],
   "source": [
    "df_data_1.describe()"
   ]
  },
  {
   "cell_type": "code",
   "execution_count": 33,
   "id": "851b5d90",
   "metadata": {
    "id": "851b5d90",
    "scrolled": true
   },
   "outputs": [],
   "source": [
    "# Construction d'une liste des pays et liste kpi.\n",
    "def listes(df):\n",
    "\n",
    "    l_country_names = df.loc[:, 'Country Name'].unique().tolist()\n",
    "    nb_countries = df.loc[:, 'Country Name'].nunique()\n",
    "    l_kpi_names = df.loc[:, 'Indicator Name'].unique().tolist()\n",
    "\n",
    "    return l_country_names, nb_countries, l_kpi_names\n",
    "    "
   ]
  },
  {
   "cell_type": "code",
   "execution_count": 34,
   "id": "9ef9bd67",
   "metadata": {},
   "outputs": [
    {
     "name": "stdout",
     "output_type": "stream",
     "text": [
      "['North America', 'South Asia', 'Afghanistan']\n",
      "Nombre de pays dans df_data_1: 218\n",
      "['Adjusted net enrolment rate, lower secondary, both sexes (%)', 'Adjusted net enrolment rate, lower secondary, female (%)', 'Adjusted net enrolment rate, lower secondary, gender parity index (GPI)']\n"
     ]
    }
   ],
   "source": [
    "l_country_names = listes(df_data_1)[0]\n",
    "print(l_country_names[0:3])\n",
    "\n",
    "print(\"Nombre de pays dans df_data_1: {}\".format(listes(df_data_1)[1]))\n",
    "\n",
    "l_kpi_names = listes(df_data_1)[2]\n",
    "print(l_kpi_names[0:3])\n"
   ]
  },
  {
   "cell_type": "code",
   "execution_count": 35,
   "id": "f8564511",
   "metadata": {
    "scrolled": false
   },
   "outputs": [
    {
     "name": "stdout",
     "output_type": "stream",
     "text": [
      "['Adjusted net enrolment rate, lower secondary, both sexes (%)', 'Adjusted net enrolment rate, lower secondary, female (%)', 'Adjusted net enrolment rate, lower secondary, gender parity index (GPI)', 'Adjusted net enrolment rate, lower secondary, male (%)', 'Adjusted net enrolment rate, primary, both sexes (%)']\n"
     ]
    }
   ],
   "source": [
    "# Construction d'une liste des kpi.\n",
    "l_kpi_names = df_data_1.loc[:, 'Indicator Name'].unique().tolist()\n",
    "print(l_kpi_names[0:5])"
   ]
  },
  {
   "cell_type": "markdown",
   "id": "edbbdccf",
   "metadata": {
    "id": "edbbdccf"
   },
   "source": [
    "#### La fonction data_quality permet de juger de la qualité d'un indicateur: En principe, on a une durée qui s'étend de 2009 à 2020 avec deux années manquantes, 2018 et 2019. Soit au total 10 années. \n",
    "- Pour chaque indicateur, on compte le nombre cellules pour lesquelles on a une valeur non manquante.\n",
    "- Calcul du rapport entre ce comptage et le nombre d'années (10).\n",
    "- Comparaison de ce rapport avec une valeur seuil déterminée.\n",
    "- La valeur seuil  est volontairement relativement basse pour ne pas exclure tous les indicateurs, compte tenu de la qualité médiocre des données.\n",
    "- On exclue de l'analyse tous les indicateurs pour lesquels le rapport est en deçà de la valeur seuil."
   ]
  },
  {
   "cell_type": "code",
   "execution_count": 36,
   "id": "9d61aadd",
   "metadata": {},
   "outputs": [],
   "source": [
    "# Construction fonction d'analyse qualité des indicateurs.\n",
    "\n",
    "l_c = []\n",
    "l_ind = []\n",
    "l_nb_not_isna = []\n",
    "l_pc_not_isna = []\n",
    "\n",
    "\n",
    "def data_quality(df):\n",
    "    thres = 0.60 # rapport entre nombre de valeurs non manquantes constatées et nombre de valeurs\n",
    "    # non manquantes théorique.    \n",
    "    \n",
    "    # Pour chaque pays, pour l'ensemble des années, calculer le nombre de valeurs manquantes par rapport\n",
    "    # au nombre total de valeurs.\n",
    "    val = df.loc[:,'2009':'2020'].count(axis=1)\n",
    "    df['Total_non_manquants'] = val\n",
    "    df['Total_non_manquants_pc'] = val/(len(df.columns) - 4)\n",
    "    \n",
    "    \n",
    "    # On supprime les lignes pour lesquelles les kpi ont un % de val. manquantes > 60%.\n",
    "    df = df.drop(df[df['Total_non_manquants_pc'] < thres].index)   \n",
    "    \n",
    "    #df.groupby(['Country Name'])\n",
    "    \n",
    "    return df\n",
    "      "
   ]
  },
  {
   "cell_type": "code",
   "execution_count": 37,
   "id": "ac2819c5",
   "metadata": {},
   "outputs": [],
   "source": [
    "df_data_2 = data_quality(df_data_1)"
   ]
  },
  {
   "cell_type": "code",
   "execution_count": 38,
   "id": "f1058225",
   "metadata": {},
   "outputs": [
    {
     "name": "stdout",
     "output_type": "stream",
     "text": [
      "<class 'pandas.core.frame.DataFrame'>\n",
      "Int64Index: 46916 entries, 67212 to 886613\n",
      "Data columns (total 16 columns):\n",
      " #   Column                  Non-Null Count  Dtype  \n",
      "---  ------                  --------------  -----  \n",
      " 0   Country Name            46916 non-null  object \n",
      " 1   Country Code            46916 non-null  object \n",
      " 2   Indicator Name          46916 non-null  object \n",
      " 3   Indicator Code          46916 non-null  object \n",
      " 4   2009                    46679 non-null  float64\n",
      " 5   2010                    46786 non-null  float64\n",
      " 6   2011                    46910 non-null  float64\n",
      " 7   2012                    46905 non-null  float64\n",
      " 8   2013                    46897 non-null  float64\n",
      " 9   2014                    46892 non-null  float64\n",
      " 10  2015                    46712 non-null  float64\n",
      " 11  2016                    13651 non-null  float64\n",
      " 12  2017                    0 non-null      float64\n",
      " 13  2020                    0 non-null      float64\n",
      " 14  Total_non_manquants     46916 non-null  int64  \n",
      " 15  Total_non_manquants_pc  46916 non-null  float64\n",
      "dtypes: float64(11), int64(1), object(4)\n",
      "memory usage: 6.1+ MB\n"
     ]
    }
   ],
   "source": [
    "df_data_2.info()"
   ]
  },
  {
   "cell_type": "code",
   "execution_count": 39,
   "id": "953efd86",
   "metadata": {},
   "outputs": [
    {
     "data": {
      "text/html": [
       "<div>\n",
       "<style scoped>\n",
       "    .dataframe tbody tr th:only-of-type {\n",
       "        vertical-align: middle;\n",
       "    }\n",
       "\n",
       "    .dataframe tbody tr th {\n",
       "        vertical-align: top;\n",
       "    }\n",
       "\n",
       "    .dataframe thead th {\n",
       "        text-align: right;\n",
       "    }\n",
       "</style>\n",
       "<table border=\"1\" class=\"dataframe\">\n",
       "  <thead>\n",
       "    <tr style=\"text-align: right;\">\n",
       "      <th></th>\n",
       "      <th>Country Name</th>\n",
       "      <th>Country Code</th>\n",
       "      <th>Indicator Name</th>\n",
       "      <th>Indicator Code</th>\n",
       "      <th>2009</th>\n",
       "      <th>2010</th>\n",
       "      <th>2011</th>\n",
       "      <th>2012</th>\n",
       "      <th>2013</th>\n",
       "      <th>2014</th>\n",
       "      <th>2015</th>\n",
       "      <th>2016</th>\n",
       "      <th>2017</th>\n",
       "      <th>2020</th>\n",
       "      <th>Total_non_manquants</th>\n",
       "      <th>Total_non_manquants_pc</th>\n",
       "    </tr>\n",
       "  </thead>\n",
       "  <tbody>\n",
       "    <tr>\n",
       "      <th>67212</th>\n",
       "      <td>North America</td>\n",
       "      <td>NAC</td>\n",
       "      <td>GDP at market prices (constant 2005 US$)</td>\n",
       "      <td>NY.GDP.MKTP.KD</td>\n",
       "      <td>1.616591e+13</td>\n",
       "      <td>1.658358e+13</td>\n",
       "      <td>1.687372e+13</td>\n",
       "      <td>1.724064e+13</td>\n",
       "      <td>1.754311e+13</td>\n",
       "      <td>1.796234e+13</td>\n",
       "      <td>1.844217e+13</td>\n",
       "      <td>1.871577e+13</td>\n",
       "      <td>NaN</td>\n",
       "      <td>NaN</td>\n",
       "      <td>8</td>\n",
       "      <td>0.727273</td>\n",
       "    </tr>\n",
       "    <tr>\n",
       "      <th>67213</th>\n",
       "      <td>North America</td>\n",
       "      <td>NAC</td>\n",
       "      <td>GDP at market prices (current US$)</td>\n",
       "      <td>NY.GDP.MKTP.CD</td>\n",
       "      <td>1.579570e+13</td>\n",
       "      <td>1.658358e+13</td>\n",
       "      <td>1.731212e+13</td>\n",
       "      <td>1.798508e+13</td>\n",
       "      <td>1.853972e+13</td>\n",
       "      <td>1.919176e+13</td>\n",
       "      <td>1.967944e+13</td>\n",
       "      <td>2.016030e+13</td>\n",
       "      <td>NaN</td>\n",
       "      <td>NaN</td>\n",
       "      <td>8</td>\n",
       "      <td>0.727273</td>\n",
       "    </tr>\n",
       "    <tr>\n",
       "      <th>67214</th>\n",
       "      <td>North America</td>\n",
       "      <td>NAC</td>\n",
       "      <td>GDP per capita (constant 2005 US$)</td>\n",
       "      <td>NY.GDP.PCAP.KD</td>\n",
       "      <td>4.748176e+04</td>\n",
       "      <td>4.828970e+04</td>\n",
       "      <td>4.875801e+04</td>\n",
       "      <td>4.942650e+04</td>\n",
       "      <td>4.991987e+04</td>\n",
       "      <td>5.071627e+04</td>\n",
       "      <td>5.168619e+04</td>\n",
       "      <td>5.206357e+04</td>\n",
       "      <td>NaN</td>\n",
       "      <td>NaN</td>\n",
       "      <td>8</td>\n",
       "      <td>0.727273</td>\n",
       "    </tr>\n",
       "    <tr>\n",
       "      <th>67215</th>\n",
       "      <td>North America</td>\n",
       "      <td>NAC</td>\n",
       "      <td>GDP per capita (current US$)</td>\n",
       "      <td>NY.GDP.PCAP.CD</td>\n",
       "      <td>4.639438e+04</td>\n",
       "      <td>4.828970e+04</td>\n",
       "      <td>5.002482e+04</td>\n",
       "      <td>5.156070e+04</td>\n",
       "      <td>5.275578e+04</td>\n",
       "      <td>5.418749e+04</td>\n",
       "      <td>5.515376e+04</td>\n",
       "      <td>5.608194e+04</td>\n",
       "      <td>NaN</td>\n",
       "      <td>NaN</td>\n",
       "      <td>8</td>\n",
       "      <td>0.727273</td>\n",
       "    </tr>\n",
       "    <tr>\n",
       "      <th>67216</th>\n",
       "      <td>North America</td>\n",
       "      <td>NAC</td>\n",
       "      <td>GDP per capita, PPP (constant 2011 internation...</td>\n",
       "      <td>NY.GDP.PCAP.PP.KD</td>\n",
       "      <td>4.770676e+04</td>\n",
       "      <td>4.851513e+04</td>\n",
       "      <td>4.897538e+04</td>\n",
       "      <td>4.965060e+04</td>\n",
       "      <td>5.014080e+04</td>\n",
       "      <td>5.093932e+04</td>\n",
       "      <td>5.192756e+04</td>\n",
       "      <td>5.230684e+04</td>\n",
       "      <td>NaN</td>\n",
       "      <td>NaN</td>\n",
       "      <td>8</td>\n",
       "      <td>0.727273</td>\n",
       "    </tr>\n",
       "  </tbody>\n",
       "</table>\n",
       "</div>"
      ],
      "text/plain": [
       "        Country Name Country Code  \\\n",
       "67212  North America          NAC   \n",
       "67213  North America          NAC   \n",
       "67214  North America          NAC   \n",
       "67215  North America          NAC   \n",
       "67216  North America          NAC   \n",
       "\n",
       "                                          Indicator Name     Indicator Code  \\\n",
       "67212           GDP at market prices (constant 2005 US$)     NY.GDP.MKTP.KD   \n",
       "67213                 GDP at market prices (current US$)     NY.GDP.MKTP.CD   \n",
       "67214                 GDP per capita (constant 2005 US$)     NY.GDP.PCAP.KD   \n",
       "67215                       GDP per capita (current US$)     NY.GDP.PCAP.CD   \n",
       "67216  GDP per capita, PPP (constant 2011 internation...  NY.GDP.PCAP.PP.KD   \n",
       "\n",
       "               2009          2010          2011          2012          2013  \\\n",
       "67212  1.616591e+13  1.658358e+13  1.687372e+13  1.724064e+13  1.754311e+13   \n",
       "67213  1.579570e+13  1.658358e+13  1.731212e+13  1.798508e+13  1.853972e+13   \n",
       "67214  4.748176e+04  4.828970e+04  4.875801e+04  4.942650e+04  4.991987e+04   \n",
       "67215  4.639438e+04  4.828970e+04  5.002482e+04  5.156070e+04  5.275578e+04   \n",
       "67216  4.770676e+04  4.851513e+04  4.897538e+04  4.965060e+04  5.014080e+04   \n",
       "\n",
       "               2014          2015          2016  2017  2020  \\\n",
       "67212  1.796234e+13  1.844217e+13  1.871577e+13   NaN   NaN   \n",
       "67213  1.919176e+13  1.967944e+13  2.016030e+13   NaN   NaN   \n",
       "67214  5.071627e+04  5.168619e+04  5.206357e+04   NaN   NaN   \n",
       "67215  5.418749e+04  5.515376e+04  5.608194e+04   NaN   NaN   \n",
       "67216  5.093932e+04  5.192756e+04  5.230684e+04   NaN   NaN   \n",
       "\n",
       "       Total_non_manquants  Total_non_manquants_pc  \n",
       "67212                    8                0.727273  \n",
       "67213                    8                0.727273  \n",
       "67214                    8                0.727273  \n",
       "67215                    8                0.727273  \n",
       "67216                    8                0.727273  "
      ]
     },
     "execution_count": 39,
     "metadata": {},
     "output_type": "execute_result"
    }
   ],
   "source": [
    "df_data_2.head()"
   ]
  },
  {
   "cell_type": "code",
   "execution_count": 40,
   "id": "53619985",
   "metadata": {},
   "outputs": [
    {
     "data": {
      "text/html": [
       "<div>\n",
       "<style scoped>\n",
       "    .dataframe tbody tr th:only-of-type {\n",
       "        vertical-align: middle;\n",
       "    }\n",
       "\n",
       "    .dataframe tbody tr th {\n",
       "        vertical-align: top;\n",
       "    }\n",
       "\n",
       "    .dataframe thead th {\n",
       "        text-align: right;\n",
       "    }\n",
       "</style>\n",
       "<table border=\"1\" class=\"dataframe\">\n",
       "  <thead>\n",
       "    <tr style=\"text-align: right;\">\n",
       "      <th></th>\n",
       "      <th>Country Name</th>\n",
       "      <th>Country Code</th>\n",
       "      <th>Indicator Name</th>\n",
       "      <th>Indicator Code</th>\n",
       "      <th>2009</th>\n",
       "      <th>2010</th>\n",
       "      <th>2011</th>\n",
       "      <th>2012</th>\n",
       "      <th>2013</th>\n",
       "      <th>2014</th>\n",
       "      <th>2015</th>\n",
       "      <th>2016</th>\n",
       "      <th>2017</th>\n",
       "      <th>2020</th>\n",
       "      <th>Total_non_manquants</th>\n",
       "      <th>Total_non_manquants_pc</th>\n",
       "    </tr>\n",
       "  </thead>\n",
       "  <tbody>\n",
       "    <tr>\n",
       "      <th>886251</th>\n",
       "      <td>Zimbabwe</td>\n",
       "      <td>ZWE</td>\n",
       "      <td>Theoretical duration of secondary education (y...</td>\n",
       "      <td>SE.SEC.DURS</td>\n",
       "      <td>6.0</td>\n",
       "      <td>6.0</td>\n",
       "      <td>6.0</td>\n",
       "      <td>6.0</td>\n",
       "      <td>6.0</td>\n",
       "      <td>6.0</td>\n",
       "      <td>6.0</td>\n",
       "      <td>6.0</td>\n",
       "      <td>NaN</td>\n",
       "      <td>NaN</td>\n",
       "      <td>8</td>\n",
       "      <td>0.727273</td>\n",
       "    </tr>\n",
       "    <tr>\n",
       "      <th>886252</th>\n",
       "      <td>Zimbabwe</td>\n",
       "      <td>ZWE</td>\n",
       "      <td>Theoretical duration of upper secondary educat...</td>\n",
       "      <td>SE.SEC.DURS.UP</td>\n",
       "      <td>4.0</td>\n",
       "      <td>4.0</td>\n",
       "      <td>4.0</td>\n",
       "      <td>4.0</td>\n",
       "      <td>4.0</td>\n",
       "      <td>4.0</td>\n",
       "      <td>4.0</td>\n",
       "      <td>4.0</td>\n",
       "      <td>NaN</td>\n",
       "      <td>NaN</td>\n",
       "      <td>8</td>\n",
       "      <td>0.727273</td>\n",
       "    </tr>\n",
       "    <tr>\n",
       "      <th>886611</th>\n",
       "      <td>Zimbabwe</td>\n",
       "      <td>ZWE</td>\n",
       "      <td>Unemployment, female (% of female labor force)</td>\n",
       "      <td>SL.UEM.TOTL.FE.ZS</td>\n",
       "      <td>6.0</td>\n",
       "      <td>4.6</td>\n",
       "      <td>6.0</td>\n",
       "      <td>5.9</td>\n",
       "      <td>5.8</td>\n",
       "      <td>5.8</td>\n",
       "      <td>5.1</td>\n",
       "      <td>4.9</td>\n",
       "      <td>NaN</td>\n",
       "      <td>NaN</td>\n",
       "      <td>8</td>\n",
       "      <td>0.727273</td>\n",
       "    </tr>\n",
       "    <tr>\n",
       "      <th>886612</th>\n",
       "      <td>Zimbabwe</td>\n",
       "      <td>ZWE</td>\n",
       "      <td>Unemployment, male (% of male labor force)</td>\n",
       "      <td>SL.UEM.TOTL.MA.ZS</td>\n",
       "      <td>4.9</td>\n",
       "      <td>7.7</td>\n",
       "      <td>4.8</td>\n",
       "      <td>4.7</td>\n",
       "      <td>4.6</td>\n",
       "      <td>4.5</td>\n",
       "      <td>5.1</td>\n",
       "      <td>5.6</td>\n",
       "      <td>NaN</td>\n",
       "      <td>NaN</td>\n",
       "      <td>8</td>\n",
       "      <td>0.727273</td>\n",
       "    </tr>\n",
       "    <tr>\n",
       "      <th>886613</th>\n",
       "      <td>Zimbabwe</td>\n",
       "      <td>ZWE</td>\n",
       "      <td>Unemployment, total (% of total labor force)</td>\n",
       "      <td>SL.UEM.TOTL.ZS</td>\n",
       "      <td>5.5</td>\n",
       "      <td>6.2</td>\n",
       "      <td>5.4</td>\n",
       "      <td>5.3</td>\n",
       "      <td>5.2</td>\n",
       "      <td>5.1</td>\n",
       "      <td>5.1</td>\n",
       "      <td>5.2</td>\n",
       "      <td>NaN</td>\n",
       "      <td>NaN</td>\n",
       "      <td>8</td>\n",
       "      <td>0.727273</td>\n",
       "    </tr>\n",
       "  </tbody>\n",
       "</table>\n",
       "</div>"
      ],
      "text/plain": [
       "       Country Name Country Code  \\\n",
       "886251     Zimbabwe          ZWE   \n",
       "886252     Zimbabwe          ZWE   \n",
       "886611     Zimbabwe          ZWE   \n",
       "886612     Zimbabwe          ZWE   \n",
       "886613     Zimbabwe          ZWE   \n",
       "\n",
       "                                           Indicator Name     Indicator Code  \\\n",
       "886251  Theoretical duration of secondary education (y...        SE.SEC.DURS   \n",
       "886252  Theoretical duration of upper secondary educat...     SE.SEC.DURS.UP   \n",
       "886611     Unemployment, female (% of female labor force)  SL.UEM.TOTL.FE.ZS   \n",
       "886612         Unemployment, male (% of male labor force)  SL.UEM.TOTL.MA.ZS   \n",
       "886613       Unemployment, total (% of total labor force)     SL.UEM.TOTL.ZS   \n",
       "\n",
       "        2009  2010  2011  2012  2013  2014  2015  2016  2017  2020  \\\n",
       "886251   6.0   6.0   6.0   6.0   6.0   6.0   6.0   6.0   NaN   NaN   \n",
       "886252   4.0   4.0   4.0   4.0   4.0   4.0   4.0   4.0   NaN   NaN   \n",
       "886611   6.0   4.6   6.0   5.9   5.8   5.8   5.1   4.9   NaN   NaN   \n",
       "886612   4.9   7.7   4.8   4.7   4.6   4.5   5.1   5.6   NaN   NaN   \n",
       "886613   5.5   6.2   5.4   5.3   5.2   5.1   5.1   5.2   NaN   NaN   \n",
       "\n",
       "        Total_non_manquants  Total_non_manquants_pc  \n",
       "886251                    8                0.727273  \n",
       "886252                    8                0.727273  \n",
       "886611                    8                0.727273  \n",
       "886612                    8                0.727273  \n",
       "886613                    8                0.727273  "
      ]
     },
     "execution_count": 40,
     "metadata": {},
     "output_type": "execute_result"
    }
   ],
   "source": [
    "df_data_2.tail()"
   ]
  },
  {
   "cell_type": "code",
   "execution_count": 41,
   "id": "bfbe89f2",
   "metadata": {
    "scrolled": true
   },
   "outputs": [
    {
     "name": "stdout",
     "output_type": "stream",
     "text": [
      "<class 'pandas.core.frame.DataFrame'>\n",
      "Int64Index: 46916 entries, 67212 to 886613\n",
      "Data columns (total 16 columns):\n",
      " #   Column                  Non-Null Count  Dtype  \n",
      "---  ------                  --------------  -----  \n",
      " 0   Country Name            46916 non-null  object \n",
      " 1   Country Code            46916 non-null  object \n",
      " 2   Indicator Name          46916 non-null  object \n",
      " 3   Indicator Code          46916 non-null  object \n",
      " 4   2009                    46679 non-null  float64\n",
      " 5   2010                    46786 non-null  float64\n",
      " 6   2011                    46910 non-null  float64\n",
      " 7   2012                    46905 non-null  float64\n",
      " 8   2013                    46897 non-null  float64\n",
      " 9   2014                    46892 non-null  float64\n",
      " 10  2015                    46712 non-null  float64\n",
      " 11  2016                    13651 non-null  float64\n",
      " 12  2017                    0 non-null      float64\n",
      " 13  2020                    0 non-null      float64\n",
      " 14  Total_non_manquants     46916 non-null  int64  \n",
      " 15  Total_non_manquants_pc  46916 non-null  float64\n",
      "dtypes: float64(11), int64(1), object(4)\n",
      "memory usage: 6.1+ MB\n"
     ]
    }
   ],
   "source": [
    "df_data_2.info()"
   ]
  },
  {
   "cell_type": "code",
   "execution_count": 42,
   "id": "4625d73a",
   "metadata": {},
   "outputs": [],
   "source": [
    "# cond = (df_status_1['Total_non_manquants_pc'] >= 0.85)\n",
    "# df_status_1 = df_status_1.loc[cond, :]"
   ]
  },
  {
   "cell_type": "code",
   "execution_count": 43,
   "id": "ae41eab2",
   "metadata": {},
   "outputs": [
    {
     "name": "stdout",
     "output_type": "stream",
     "text": [
      "Liste pays avec seuil qualité satisfaisant: ['North America' 'South Asia' 'Afghanistan' 'Albania' 'Algeria'\n",
      " 'American Samoa' 'Andorra' 'Angola' 'Antigua and Barbuda' 'Argentina'\n",
      " 'Armenia' 'Aruba' 'Australia' 'Austria' 'Azerbaijan' 'Bahamas, The'\n",
      " 'Bahrain' 'Bangladesh' 'Barbados' 'Belarus' 'Belgium' 'Belize' 'Benin'\n",
      " 'Bermuda' 'Bhutan' 'Bolivia' 'Bosnia and Herzegovina' 'Botswana' 'Brazil'\n",
      " 'British Virgin Islands' 'Brunei Darussalam' 'Bulgaria' 'Burkina Faso'\n",
      " 'Burundi' 'Cabo Verde' 'Cambodia' 'Cameroon' 'Canada' 'Cayman Islands'\n",
      " 'Central African Republic' 'Chad' 'Channel Islands' 'Chile' 'China'\n",
      " 'Colombia' 'Comoros' 'Congo, Dem. Rep.' 'Congo, Rep.' 'Costa Rica'\n",
      " \"Cote d'Ivoire\" 'Croatia' 'Cuba' 'Curacao' 'Cyprus' 'Czech Republic'\n",
      " 'Denmark' 'Djibouti' 'Dominica' 'Dominican Republic' 'Ecuador'\n",
      " 'Egypt, Arab Rep.' 'El Salvador' 'Equatorial Guinea' 'Eritrea' 'Estonia'\n",
      " 'Ethiopia' 'Faroe Islands' 'Fiji' 'Finland' 'France' 'French Polynesia'\n",
      " 'Gabon' 'Gambia, The' 'Georgia' 'Germany' 'Ghana' 'Gibraltar' 'Greece'\n",
      " 'Greenland' 'Grenada' 'Guam' 'Guatemala' 'Guinea' 'Guinea-Bissau'\n",
      " 'Guyana' 'Haiti' 'Honduras' 'Hong Kong SAR, China' 'Hungary' 'Iceland'\n",
      " 'India' 'Indonesia' 'Iran, Islamic Rep.' 'Iraq' 'Ireland' 'Isle of Man'\n",
      " 'Israel' 'Italy' 'Jamaica' 'Japan' 'Jordan' 'Kazakhstan' 'Kenya'\n",
      " 'Kiribati' 'Korea, Dem. People’s Rep.' 'Korea, Rep.' 'Kosovo' 'Kuwait'\n",
      " 'Kyrgyz Republic' 'Lao PDR' 'Latvia' 'Lebanon' 'Lesotho' 'Liberia'\n",
      " 'Libya' 'Liechtenstein' 'Lithuania' 'Luxembourg' 'Macao SAR, China'\n",
      " 'Macedonia, FYR' 'Madagascar' 'Malawi' 'Malaysia' 'Maldives' 'Mali'\n",
      " 'Malta' 'Marshall Islands' 'Mauritania' 'Mauritius' 'Mexico'\n",
      " 'Micronesia, Fed. Sts.' 'Moldova' 'Monaco' 'Mongolia' 'Montenegro'\n",
      " 'Morocco' 'Mozambique' 'Myanmar' 'Namibia' 'Nauru' 'Nepal' 'Netherlands'\n",
      " 'New Caledonia' 'New Zealand' 'Nicaragua' 'Niger' 'Nigeria'\n",
      " 'Northern Mariana Islands' 'Norway' 'Oman' 'Pakistan' 'Palau' 'Panama'\n",
      " 'Papua New Guinea' 'Paraguay' 'Peru' 'Philippines' 'Poland' 'Portugal'\n",
      " 'Puerto Rico' 'Qatar' 'Romania' 'Russian Federation' 'Rwanda' 'Samoa'\n",
      " 'San Marino' 'Sao Tome and Principe' 'Saudi Arabia' 'Senegal' 'Serbia'\n",
      " 'Seychelles' 'Sierra Leone' 'Singapore' 'Sint Maarten (Dutch part)'\n",
      " 'Slovak Republic' 'Slovenia' 'Solomon Islands' 'Somalia' 'South Africa'\n",
      " 'South Sudan' 'Spain' 'Sri Lanka' 'St. Kitts and Nevis' 'St. Lucia'\n",
      " 'St. Vincent and the Grenadines' 'Sudan' 'Suriname' 'Swaziland' 'Sweden'\n",
      " 'Switzerland' 'Syrian Arab Republic' 'Tajikistan' 'Tanzania' 'Thailand'\n",
      " 'Timor-Leste' 'Togo' 'Tonga' 'Trinidad and Tobago' 'Tunisia' 'Turkey'\n",
      " 'Turkmenistan' 'Turks and Caicos Islands' 'Tuvalu' 'Uganda' 'Ukraine'\n",
      " 'United Kingdom' 'United States' 'Uruguay' 'Uzbekistan' 'Vanuatu'\n",
      " 'Venezuela, RB' 'Vietnam' 'Virgin Islands (U.S.)' 'West Bank and Gaza'\n",
      " 'Yemen, Rep.' 'Zambia' 'Zimbabwe']\n",
      "Nombre pays avec seuil qualité satisfaisant: 217\n"
     ]
    }
   ],
   "source": [
    "l_countries = df_data_2['Country Name'].unique()\n",
    "nb_countries = df_data_2['Country Name'].nunique()\n",
    "print(\"Liste pays avec seuil qualité satisfaisant: {}\".format(l_countries))\n",
    "print(\"Nombre pays avec seuil qualité satisfaisant: {}\".format(nb_countries))"
   ]
  },
  {
   "cell_type": "markdown",
   "id": "895d6dc6",
   "metadata": {
    "id": "895d6dc6"
   },
   "source": [
    "### Sélection des pays selon le niveau de qualité de leur dataset."
   ]
  },
  {
   "cell_type": "markdown",
   "id": "6fda50ad",
   "metadata": {
    "id": "6fda50ad"
   },
   "source": [
    "###### A ce stade, chacun des indicateurs pris en compte dans df_status a un niveau de valeurs non manquantes supérieur ou égal à 60%. "
   ]
  },
  {
   "cell_type": "markdown",
   "id": "2595af33",
   "metadata": {
    "id": "2595af33"
   },
   "source": [
    "## 2. Etude des indicateurs"
   ]
  },
  {
   "cell_type": "markdown",
   "id": "2f1cf172",
   "metadata": {
    "id": "2f1cf172"
   },
   "source": [
    "### Typologie des indicateurs"
   ]
  },
  {
   "cell_type": "markdown",
   "id": "xJ5vTqyzCPdN",
   "metadata": {
    "id": "xJ5vTqyzCPdN"
   },
   "source": [
    "Les sous-indicateurs qui caractérisent le système éducatif appartiennent à plusieurs typologies d'indicateurs. Ces typologies sont recencées sur le lien [EdStats - Available Indicators](https://datatopics.worldbank.org/education/indicators)."
   ]
  },
  {
   "cell_type": "markdown",
   "id": "Bv88_YAgEBrX",
   "metadata": {
    "id": "Bv88_YAgEBrX"
   },
   "source": [
    "Il y a 19 typologies. Il est question ici de les passer en revue et de considérer leur intérêt dans la perspective de leur pertinence vis à vis des objectifs business:\n",
    "- Développement international\n",
    "- Métier entreprise:\n",
    "  - Formation en ligne\n",
    "  - Contenu orienté Tech\n",
    "  - Public: secondaire et universitaire\n",
    "\n",
    "\n"
   ]
  },
  {
   "cell_type": "markdown",
   "id": "mQg2YA3-PXrm",
   "metadata": {
    "id": "mQg2YA3-PXrm"
   },
   "source": [
    "### Principes de pertinence des sous-dicateurs vis à vis des objectifs business"
   ]
  },
  {
   "cell_type": "markdown",
   "id": "n1GWauaqjbmb",
   "metadata": {
    "id": "n1GWauaqjbmb"
   },
   "source": [
    "![Diapositive2.jpeg](data:image/jpeg;base64,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)"
   ]
  },
  {
   "cell_type": "markdown",
   "id": "CyCfHNrkGdkL",
   "metadata": {
    "id": "CyCfHNrkGdkL"
   },
   "source": [
    "Par rapport aux objectifs business, quels sont à priori les indicateurs qui pourraient permettre de caractériser suffisamment un pays \"prioritaire\"?\n",
    "> - Les pays où la demande de métiers avec une expertise Tech se développe. Ces pays ont une économie tirée par les secteurs des services, de l'industrie, du tourisme en particulier. Les pays dont l'économie repose essentiellement sur l'agriculture avec une ruralité forte ne sont donc pas des cibles.\n",
    "> - Pays avec une stabilité politique reconnue par les autres pays.\n",
    "> - Pays avec une fiscalité stable qui donne confiance aux investisseurs.\n",
    "> - Pays ayant une stratégie de développement économique.\n",
    "> - Pays où l'éducation supérieure (lycée, universitaire) est développée: C'est une conséquence du niveau de développement d'un pays. Plus le pays est développé, meilleure est son système d'éducation, notamment pour les niveaux collège, lycée et universitaire.\n",
    "> - Pays où l'éducation supérieure consacrée aux sciences, à la tech, en particulier, se développe. Ceci traduit le développement économique du pays au travers des secteurs des services et de l'industrie en particulier.\n",
    "> - Un bon niveau de formation des enseignants.\n",
    "> - Un nombre d'enseignants important, notamment pour les niveaux collège, lycée et universitaire.\n",
    "\n",
    "L'analyse requiert une information relative au PIB pays. Information qui traduit un niveau de développement social, économique, culturel et par voie de conséquence un niveau de développement du système éducatif.\n",
    "On va donc compléter les datasets en important des données économiques."
   ]
  },
  {
   "cell_type": "markdown",
   "id": "kaxM_7h-QNga",
   "metadata": {
    "id": "kaxM_7h-QNga"
   },
   "source": [
    "### Sélection des sous-indicateurs"
   ]
  },
  {
   "cell_type": "markdown",
   "id": "jdAgVXI1KzEU",
   "metadata": {
    "id": "jdAgVXI1KzEU"
   },
   "source": [
    "Avant l'import du dataset PIB, regardons les typologies d'indicateurs et leurs sous-indicateurs.\n",
    "\n",
    "**Typologies des indicateurs consultés et sous-indicateurs présentant un interêt:**\n",
    "\n",
    "Early Childhood Education\n",
    "rien d'interessant\n",
    "\n",
    "Primary:\n",
    "rien d'interessant\n",
    "\n",
    "Secondary:\n",
    "rien d'interessant\n",
    "\n",
    "Vocational & Post-secondary Non-Tertiary:\n",
    "rien d'interessant\n",
    "\n",
    "Tertiary:\n",
    " Percentage of graduates from Science, Technology, Engineering and Mathematics programmes in tertiary education, both sexes (%)\n",
    "https://databank.worldbank.org/indicator/UIS.FOSGP.5T8.F500600700?id=c755d342&report_name=EdStats_Indicators_Report&populartype=series\n",
    "\n",
    "\n",
    "Teachers.\n",
    "Teachers in secondary education, both sexes (number):\n",
    "https://databank.worldbank.org/indicator/SE.SEC.TCHR?id=c755d342&report_name=EdStats_Indicators_Report&populartype=series\n",
    "\n",
    "Teachers in tertiary education programmes, both sexes (number):\n",
    "https://databank.worldbank.org/indicator/SE.TER.TCHR?id=c755d342&report_name=EdStats_Indicators_Report&populartype=series\n",
    "\n",
    "Teachers in upper secondary education, both sexes (number):\n",
    "https://databank.worldbank.org/indicator/UIS.T.3?id=c755d342&report_name=EdStats_Indicators_Report&populartype=series\n",
    "\n",
    "Expenditures: rien d'intéressant\n",
    "\n",
    "Literacy: rien d'intéressant\n",
    "\n",
    "Learning outcomes: rien d'interessant\n",
    "\n",
    "Attainment: rien d'intéressant\n",
    "\n",
    "Technology skills:\n",
    " Proportion of youth and adults who have wrote a computer program using a specialised programming language, both sexes (%):\n",
    " Pas d'info. disponible.\n",
    "\n",
    "Population:\n",
    "Population of the official entrance age to secondary general education, both sexes (number):\n",
    "https://databank.worldbank.org/indicator/UIS.SAP.23.GPV.G1?id=c755d342&report_name=EdStats_Indicators_Report&populartype=series\n",
    "\n",
    "School age population, tertiary education, both sexes (number):\n",
    "https://databank.worldbank.org/indicator/SP.TER.TOTL.IN?id=c755d342&report_name=EdStats_Indicators_Report&populartype=series\n",
    "\n",
    "School age population, upper secondary education, both sexes (number):\n",
    "https://databank.worldbank.org/indicator/SP.SEC.UTOT.IN?id=c755d342&report_name=EdStats_Indicators_Report&populartype=series\n",
    "\n",
    "Labor:\n",
    "Labor force with advanced education (% of total labor force):\n",
    "https://databank.worldbank.org/indicator/SL.TLF.ADVN.ZS?id=c755d342&report_name=EdStats_Indicators_Report&populartype=series\n",
    "\n",
    "Background:\n",
    "Internet users (per 100):\n",
    "https://databank.worldbank.org/indicator/IT.NET.USER.P2?id=c755d342&report_name=EdStats_Indicators_Report&populartype=series\n",
    "\n",
    "Personal computers (per 100 people):\n",
    "Pas d'info.\n",
    "\n",
    "SABER:\n",
    "rien d'intéressant\n",
    "\n",
    "Global Achievement:\n",
    "rien d'intéressant\n",
    "\n",
    "Learning Poverty:\n",
    "rien d'intéressant\n",
    "\n",
    "Education Equality:\n",
    "rien d'intéressant\n",
    "\n",
    "---\n",
    "\n",
    "\n",
    "\n",
    "---\n",
    "\n",
    "\n",
    "\n",
    "\n",
    "\n",
    "\n",
    "\n",
    "\n",
    "\n",
    "\n",
    "\n"
   ]
  },
  {
   "cell_type": "code",
   "execution_count": 45,
   "id": "E0y1hgxxpQ16",
   "metadata": {
    "id": "E0y1hgxxpQ16"
   },
   "outputs": [],
   "source": [
    "# Création liste des sous indicateurs.\n",
    "l_kpi = ['Percentage of graduates from Science, Technology, Engineering and Mathematics programmes in tertiary education, both sexes (%)',\n",
    "         'Teachers in secondary education, both sexes (number)',\n",
    "         'Teachers in tertiary education programmes, both sexes (number)',\n",
    "         'Teachers in upper secondary education, both sexes (number)',\n",
    "         'School age population, upper secondary education, both sexes (number)',\n",
    "         'School age population, tertiary education, both sexes (number)',\n",
    "         'Labor force with advanced education (% of total labor force)',\n",
    "         'Internet users (per 100)']"
   ]
  },
  {
   "cell_type": "code",
   "execution_count": 46,
   "id": "a2ae0a2b",
   "metadata": {},
   "outputs": [
    {
     "name": "stdout",
     "output_type": "stream",
     "text": [
      "0    [Percentage, of, graduates, from, Science,, Te...\n",
      "1    [Teachers, in, secondary, education,, both, se...\n",
      "2    [Teachers, in, tertiary, education, programmes...\n",
      "dtype: object\n"
     ]
    }
   ],
   "source": [
    "# Création serie à partir de l_kpi\n",
    "s_kpi = pd.Series(l_kpi)\n",
    "# Pour chaque ligne, faire un split pour restituer chaque mot et ensuite enlever ceux qui ne sont pas pertinents\n",
    "s_kpi = s_kpi.str.split(' ')\n",
    "print(s_kpi[0:3])"
   ]
  },
  {
   "cell_type": "markdown",
   "id": "cb02a82c",
   "metadata": {},
   "source": [
    "###### A partir de cette liste, on vérifie si l'un de ces indicateurs est présent dans la colonne 'Indicator Name' de df_data_2"
   ]
  },
  {
   "cell_type": "markdown",
   "id": "4cf8fbc6",
   "metadata": {},
   "source": [
    "Extraction de la colonne 'Indicator Name'"
   ]
  },
  {
   "cell_type": "markdown",
   "id": "57a4fa7b",
   "metadata": {},
   "source": [
    "Test du 1er élément de la liste 'l_kpi': est ce que cet élément est dans l'objet 's_ind_name' ?\n",
    "- 1ère étape: charger la liste des stop words (enlever les mots non pertinents de la recherche)"
   ]
  },
  {
   "cell_type": "code",
   "execution_count": 47,
   "id": "828b3820",
   "metadata": {},
   "outputs": [],
   "source": [
    "def reading_file(path):\n",
    "    path_stop_words = \"/Users/olivierdebeyssac/Open Classrooms/Data_scientist/Projet_2_Analysez des données de systèmes éducatifs/Stop_words_Regex/Stop_words/stop_words\"\n",
    "    with open (path, \"r\") as myfile:\n",
    "        data = myfile.read().splitlines()\n",
    "    return data"
   ]
  },
  {
   "cell_type": "code",
   "execution_count": 48,
   "id": "746669c1",
   "metadata": {},
   "outputs": [],
   "source": [
    "path_stop_words = \"/Users/olivierdebeyssac/Open Classrooms/Data_scientist/Projet_2_Analysez des données de systèmes éducatifs/Stop_words_Regex/Stop_words/stop_words\""
   ]
  },
  {
   "cell_type": "code",
   "execution_count": 49,
   "id": "76dec96c",
   "metadata": {},
   "outputs": [],
   "source": [
    "liste_stop_words = reading_file(path_stop_words)"
   ]
  },
  {
   "cell_type": "code",
   "execution_count": 50,
   "id": "27f41c1b",
   "metadata": {},
   "outputs": [
    {
     "name": "stdout",
     "output_type": "stream",
     "text": [
      "['i', 'me', 'my', 'myself', 'we', 'our', 'ours', 'ourselves', 'you', 'your']\n"
     ]
    }
   ],
   "source": [
    "print(liste_stop_words[0:10])"
   ]
  },
  {
   "cell_type": "code",
   "execution_count": 51,
   "id": "72c4dceb",
   "metadata": {},
   "outputs": [],
   "source": [
    "def remove_stopwords(texte):\n",
    "    clean_text = [word for word in texte if word not in liste_stop_words]\n",
    "    return clean_text\n",
    "    "
   ]
  },
  {
   "cell_type": "code",
   "execution_count": 52,
   "id": "87a09652",
   "metadata": {},
   "outputs": [],
   "source": [
    "cleaned_kpi = s_kpi.apply(lambda x: remove_stopwords(x))"
   ]
  },
  {
   "cell_type": "code",
   "execution_count": 53,
   "id": "40ae4dc0",
   "metadata": {
    "scrolled": true
   },
   "outputs": [
    {
     "data": {
      "text/plain": [
       "0    [Percentage, graduates, Science,, Technology,,...\n",
       "1    [Teachers, secondary, education,, sexes, (numb...\n",
       "2    [Teachers, tertiary, education, programmes,, s...\n",
       "3    [Teachers, upper, secondary, education,, sexes...\n",
       "4    [School, age, population,, upper, secondary, e...\n",
       "5    [School, age, population,, tertiary, education...\n",
       "6    [Labor, force, advanced, education, (%, total,...\n",
       "7                        [Internet, users, (per, 100)]\n",
       "dtype: object"
      ]
     },
     "execution_count": 53,
     "metadata": {},
     "output_type": "execute_result"
    }
   ],
   "source": [
    "cleaned_kpi"
   ]
  },
  {
   "cell_type": "markdown",
   "id": "269205ce",
   "metadata": {},
   "source": [
    "- Enlever les virgules non nécessaires et convertir la série en liste"
   ]
  },
  {
   "cell_type": "code",
   "execution_count": 54,
   "id": "1092f78f",
   "metadata": {},
   "outputs": [],
   "source": [
    "cleaned_kpi = cleaned_kpi.apply(lambda x: [i.replace(\",\", \".\") for i in x])\n",
    "cleaned_kpi = cleaned_kpi.apply(lambda x: [i.replace(\".\", \"\") for i in x])\n"
   ]
  },
  {
   "cell_type": "code",
   "execution_count": 55,
   "id": "c9fa2167",
   "metadata": {},
   "outputs": [
    {
     "data": {
      "text/plain": [
       "pandas.core.series.Series"
      ]
     },
     "execution_count": 55,
     "metadata": {},
     "output_type": "execute_result"
    }
   ],
   "source": [
    "type(cleaned_kpi)"
   ]
  },
  {
   "cell_type": "code",
   "execution_count": 56,
   "id": "4f9d1e6a",
   "metadata": {
    "scrolled": true
   },
   "outputs": [
    {
     "data": {
      "text/plain": [
       "0    [Percentage, graduates, Science, Technology, E...\n",
       "1    [Teachers, secondary, education, sexes, (number)]\n",
       "2    [Teachers, tertiary, education, programmes, se...\n",
       "3    [Teachers, upper, secondary, education, sexes,...\n",
       "4    [School, age, population, upper, secondary, ed...\n",
       "5    [School, age, population, tertiary, education,...\n",
       "6    [Labor, force, advanced, education, (%, total,...\n",
       "7                        [Internet, users, (per, 100)]\n",
       "dtype: object"
      ]
     },
     "execution_count": 56,
     "metadata": {},
     "output_type": "execute_result"
    }
   ],
   "source": [
    "cleaned_kpi"
   ]
  },
  {
   "cell_type": "code",
   "execution_count": 57,
   "id": "b7c0f135",
   "metadata": {},
   "outputs": [],
   "source": [
    "cleaned_kpi = cleaned_kpi.tolist()"
   ]
  },
  {
   "cell_type": "code",
   "execution_count": 58,
   "id": "b7ad01c3",
   "metadata": {
    "scrolled": true
   },
   "outputs": [
    {
     "data": {
      "text/plain": [
       "[['Percentage',\n",
       "  'graduates',\n",
       "  'Science',\n",
       "  'Technology',\n",
       "  'Engineering',\n",
       "  'Mathematics',\n",
       "  'programmes',\n",
       "  'tertiary',\n",
       "  'education',\n",
       "  'sexes',\n",
       "  '(%)'],\n",
       " ['Teachers', 'secondary', 'education', 'sexes', '(number)'],\n",
       " ['Teachers', 'tertiary', 'education', 'programmes', 'sexes', '(number)'],\n",
       " ['Teachers', 'upper', 'secondary', 'education', 'sexes', '(number)'],\n",
       " ['School',\n",
       "  'age',\n",
       "  'population',\n",
       "  'upper',\n",
       "  'secondary',\n",
       "  'education',\n",
       "  'sexes',\n",
       "  '(number)'],\n",
       " ['School', 'age', 'population', 'tertiary', 'education', 'sexes', '(number)'],\n",
       " ['Labor', 'force', 'advanced', 'education', '(%', 'total', 'labor', 'force)'],\n",
       " ['Internet', 'users', '(per', '100)']]"
      ]
     },
     "execution_count": 58,
     "metadata": {},
     "output_type": "execute_result"
    }
   ],
   "source": [
    "cleaned_kpi"
   ]
  },
  {
   "cell_type": "markdown",
   "id": "vq-OIb9yxPne",
   "metadata": {
    "id": "vq-OIb9yxPne"
   },
   "source": [
    "### 3. Dataset complémentaire"
   ]
  },
  {
   "cell_type": "markdown",
   "id": "bXOkxrBExh4-",
   "metadata": {
    "id": "bXOkxrBExh4-"
   },
   "source": [
    "#### Import GDP data"
   ]
  },
  {
   "cell_type": "code",
   "execution_count": 59,
   "id": "27629ce7",
   "metadata": {
    "id": "27629ce7"
   },
   "outputs": [],
   "source": [
    "path_gdp = '/Users/olivierdebeyssac/Open Classrooms/Data_scientist/Projet_2_Analysez des données de systèmes éducatifs/Data/Projet+Python_Dataset_Edstats_csv/data supplémentaire/API_NY.GDP.PCAP.CD_DS2_en_csv_v2_4701206/API_NY_GDP_PCAP.csv'"
   ]
  },
  {
   "cell_type": "code",
   "execution_count": 60,
   "id": "MBY1bLYX2T8v",
   "metadata": {
    "id": "MBY1bLYX2T8v"
   },
   "outputs": [],
   "source": [
    "df_gdp = pd.read_csv(path_gdp, sep=';')"
   ]
  },
  {
   "cell_type": "code",
   "execution_count": 61,
   "id": "cizXUCvIC8YA",
   "metadata": {
    "colab": {
     "base_uri": "https://localhost:8080/",
     "height": 569
    },
    "id": "cizXUCvIC8YA",
    "outputId": "ce5c8d85-bea5-45c6-95e9-4e686e1b7e1a",
    "scrolled": true
   },
   "outputs": [
    {
     "data": {
      "text/html": [
       "<div>\n",
       "<style scoped>\n",
       "    .dataframe tbody tr th:only-of-type {\n",
       "        vertical-align: middle;\n",
       "    }\n",
       "\n",
       "    .dataframe tbody tr th {\n",
       "        vertical-align: top;\n",
       "    }\n",
       "\n",
       "    .dataframe thead th {\n",
       "        text-align: right;\n",
       "    }\n",
       "</style>\n",
       "<table border=\"1\" class=\"dataframe\">\n",
       "  <thead>\n",
       "    <tr style=\"text-align: right;\">\n",
       "      <th></th>\n",
       "      <th>Country Name</th>\n",
       "      <th>Country Code</th>\n",
       "      <th>Indicator Name</th>\n",
       "      <th>Indicator Code</th>\n",
       "      <th>1960</th>\n",
       "      <th>1961</th>\n",
       "      <th>1962</th>\n",
       "      <th>1963</th>\n",
       "      <th>1964</th>\n",
       "      <th>1965</th>\n",
       "      <th>...</th>\n",
       "      <th>2013</th>\n",
       "      <th>2014</th>\n",
       "      <th>2015</th>\n",
       "      <th>2016</th>\n",
       "      <th>2017</th>\n",
       "      <th>2018</th>\n",
       "      <th>2019</th>\n",
       "      <th>2020</th>\n",
       "      <th>2021</th>\n",
       "      <th>Unnamed: 66</th>\n",
       "    </tr>\n",
       "  </thead>\n",
       "  <tbody>\n",
       "    <tr>\n",
       "      <th>0</th>\n",
       "      <td>Aruba</td>\n",
       "      <td>ABW</td>\n",
       "      <td>GDP per capita (current US$)</td>\n",
       "      <td>NY.GDP.PCAP.CD</td>\n",
       "      <td>NaN</td>\n",
       "      <td>NaN</td>\n",
       "      <td>NaN</td>\n",
       "      <td>NaN</td>\n",
       "      <td>NaN</td>\n",
       "      <td>NaN</td>\n",
       "      <td>...</td>\n",
       "      <td>26442.426801</td>\n",
       "      <td>26895.057167</td>\n",
       "      <td>28399.050131</td>\n",
       "      <td>28453.715565</td>\n",
       "      <td>29348.418969</td>\n",
       "      <td>30253.714235</td>\n",
       "      <td>31135.884356</td>\n",
       "      <td>23384.298791</td>\n",
       "      <td>NaN</td>\n",
       "      <td>NaN</td>\n",
       "    </tr>\n",
       "    <tr>\n",
       "      <th>1</th>\n",
       "      <td>Africa Eastern and Southern</td>\n",
       "      <td>AFE</td>\n",
       "      <td>GDP per capita (current US$)</td>\n",
       "      <td>NY.GDP.PCAP.CD</td>\n",
       "      <td>162.726325</td>\n",
       "      <td>162.555968</td>\n",
       "      <td>172.271022</td>\n",
       "      <td>199.784916</td>\n",
       "      <td>180.228774</td>\n",
       "      <td>199.517228</td>\n",
       "      <td>...</td>\n",
       "      <td>1748.905594</td>\n",
       "      <td>1736.242220</td>\n",
       "      <td>1556.316469</td>\n",
       "      <td>1446.533624</td>\n",
       "      <td>1629.404273</td>\n",
       "      <td>1541.031661</td>\n",
       "      <td>1511.309259</td>\n",
       "      <td>1360.878645</td>\n",
       "      <td>1557.722682</td>\n",
       "      <td>NaN</td>\n",
       "    </tr>\n",
       "    <tr>\n",
       "      <th>2</th>\n",
       "      <td>Afghanistan</td>\n",
       "      <td>AFG</td>\n",
       "      <td>GDP per capita (current US$)</td>\n",
       "      <td>NY.GDP.PCAP.CD</td>\n",
       "      <td>59.773234</td>\n",
       "      <td>59.860900</td>\n",
       "      <td>58.458009</td>\n",
       "      <td>78.706429</td>\n",
       "      <td>82.095307</td>\n",
       "      <td>101.108325</td>\n",
       "      <td>...</td>\n",
       "      <td>624.315455</td>\n",
       "      <td>614.223342</td>\n",
       "      <td>556.007221</td>\n",
       "      <td>512.012778</td>\n",
       "      <td>516.679862</td>\n",
       "      <td>485.668419</td>\n",
       "      <td>494.179350</td>\n",
       "      <td>516.747871</td>\n",
       "      <td>NaN</td>\n",
       "      <td>NaN</td>\n",
       "    </tr>\n",
       "    <tr>\n",
       "      <th>3</th>\n",
       "      <td>Africa Western and Central</td>\n",
       "      <td>AFW</td>\n",
       "      <td>GDP per capita (current US$)</td>\n",
       "      <td>NY.GDP.PCAP.CD</td>\n",
       "      <td>107.930722</td>\n",
       "      <td>113.080062</td>\n",
       "      <td>118.829461</td>\n",
       "      <td>123.441089</td>\n",
       "      <td>131.852423</td>\n",
       "      <td>138.524029</td>\n",
       "      <td>...</td>\n",
       "      <td>2157.494584</td>\n",
       "      <td>2212.914095</td>\n",
       "      <td>1894.322115</td>\n",
       "      <td>1673.843681</td>\n",
       "      <td>1613.490478</td>\n",
       "      <td>1704.135698</td>\n",
       "      <td>1777.852822</td>\n",
       "      <td>1709.764129</td>\n",
       "      <td>1774.921218</td>\n",
       "      <td>NaN</td>\n",
       "    </tr>\n",
       "    <tr>\n",
       "      <th>4</th>\n",
       "      <td>Angola</td>\n",
       "      <td>AGO</td>\n",
       "      <td>GDP per capita (current US$)</td>\n",
       "      <td>NY.GDP.PCAP.CD</td>\n",
       "      <td>NaN</td>\n",
       "      <td>NaN</td>\n",
       "      <td>NaN</td>\n",
       "      <td>NaN</td>\n",
       "      <td>NaN</td>\n",
       "      <td>NaN</td>\n",
       "      <td>...</td>\n",
       "      <td>5127.717243</td>\n",
       "      <td>5094.112329</td>\n",
       "      <td>3127.890598</td>\n",
       "      <td>1728.023754</td>\n",
       "      <td>2313.220584</td>\n",
       "      <td>2524.942483</td>\n",
       "      <td>2177.799015</td>\n",
       "      <td>1631.431691</td>\n",
       "      <td>2137.909393</td>\n",
       "      <td>NaN</td>\n",
       "    </tr>\n",
       "  </tbody>\n",
       "</table>\n",
       "<p>5 rows × 67 columns</p>\n",
       "</div>"
      ],
      "text/plain": [
       "                  Country Name Country Code                Indicator Name  \\\n",
       "0                        Aruba          ABW  GDP per capita (current US$)   \n",
       "1  Africa Eastern and Southern          AFE  GDP per capita (current US$)   \n",
       "2                  Afghanistan          AFG  GDP per capita (current US$)   \n",
       "3   Africa Western and Central          AFW  GDP per capita (current US$)   \n",
       "4                       Angola          AGO  GDP per capita (current US$)   \n",
       "\n",
       "   Indicator Code        1960        1961        1962        1963        1964  \\\n",
       "0  NY.GDP.PCAP.CD         NaN         NaN         NaN         NaN         NaN   \n",
       "1  NY.GDP.PCAP.CD  162.726325  162.555968  172.271022  199.784916  180.228774   \n",
       "2  NY.GDP.PCAP.CD   59.773234   59.860900   58.458009   78.706429   82.095307   \n",
       "3  NY.GDP.PCAP.CD  107.930722  113.080062  118.829461  123.441089  131.852423   \n",
       "4  NY.GDP.PCAP.CD         NaN         NaN         NaN         NaN         NaN   \n",
       "\n",
       "         1965  ...          2013          2014          2015          2016  \\\n",
       "0         NaN  ...  26442.426801  26895.057167  28399.050131  28453.715565   \n",
       "1  199.517228  ...   1748.905594   1736.242220   1556.316469   1446.533624   \n",
       "2  101.108325  ...    624.315455    614.223342    556.007221    512.012778   \n",
       "3  138.524029  ...   2157.494584   2212.914095   1894.322115   1673.843681   \n",
       "4         NaN  ...   5127.717243   5094.112329   3127.890598   1728.023754   \n",
       "\n",
       "           2017          2018          2019          2020         2021  \\\n",
       "0  29348.418969  30253.714235  31135.884356  23384.298791          NaN   \n",
       "1   1629.404273   1541.031661   1511.309259   1360.878645  1557.722682   \n",
       "2    516.679862    485.668419    494.179350    516.747871          NaN   \n",
       "3   1613.490478   1704.135698   1777.852822   1709.764129  1774.921218   \n",
       "4   2313.220584   2524.942483   2177.799015   1631.431691  2137.909393   \n",
       "\n",
       "   Unnamed: 66  \n",
       "0          NaN  \n",
       "1          NaN  \n",
       "2          NaN  \n",
       "3          NaN  \n",
       "4          NaN  \n",
       "\n",
       "[5 rows x 67 columns]"
      ]
     },
     "execution_count": 61,
     "metadata": {},
     "output_type": "execute_result"
    }
   ],
   "source": [
    "df_gdp.head()"
   ]
  },
  {
   "cell_type": "markdown",
   "id": "061a03ac",
   "metadata": {},
   "source": [
    "#### Nettoyage des données"
   ]
  },
  {
   "cell_type": "code",
   "execution_count": 62,
   "id": "ghsgfs3bAvud",
   "metadata": {
    "colab": {
     "base_uri": "https://localhost:8080/"
    },
    "id": "ghsgfs3bAvud",
    "outputId": "42aaec24-4ed5-4db5-c240-ff639f61445e"
   },
   "outputs": [
    {
     "name": "stdout",
     "output_type": "stream",
     "text": [
      "[1960, 1961, 1962, 1963, 1964, 1965, 1966, 1967, 1968, 1969, 1970, 1971, 1972, 1973, 1974, 1975, 1976, 1977, 1978, 1979, 1980, 1981, 1982, 1983, 1984, 1985, 1986, 1987, 1988, 1989, 1990, 1991, 1992, 1993, 1994, 1995, 1996, 1997, 1998, 1999, 2000, 2001, 2002, 2003, 2004, 2005, 2006, 2007, 2008]\n"
     ]
    }
   ],
   "source": [
    "# Colonnes à supprimer\n",
    "years = [i for i in range(1960,2009,1)]\n",
    "print((years))"
   ]
  },
  {
   "cell_type": "code",
   "execution_count": 63,
   "id": "y8u3lkFKSX-C",
   "metadata": {
    "id": "y8u3lkFKSX-C",
    "scrolled": true
   },
   "outputs": [],
   "source": [
    "# Suppression des colonnes\n",
    "for year in years:\n",
    "    year = str(year)\n",
    "    df_gdp.drop(year, axis=1, inplace=True)"
   ]
  },
  {
   "cell_type": "code",
   "execution_count": 64,
   "id": "e6dcfcd9",
   "metadata": {},
   "outputs": [],
   "source": [
    "df_gdp.drop(['2018','2019','2021'], axis=1, inplace=True)\n",
    "df_gdp.drop(df_gdp.columns[-1],axis= 1, inplace= True)\n"
   ]
  },
  {
   "cell_type": "code",
   "execution_count": 65,
   "id": "d94ec568",
   "metadata": {
    "scrolled": true
   },
   "outputs": [
    {
     "data": {
      "text/html": [
       "<div>\n",
       "<style scoped>\n",
       "    .dataframe tbody tr th:only-of-type {\n",
       "        vertical-align: middle;\n",
       "    }\n",
       "\n",
       "    .dataframe tbody tr th {\n",
       "        vertical-align: top;\n",
       "    }\n",
       "\n",
       "    .dataframe thead th {\n",
       "        text-align: right;\n",
       "    }\n",
       "</style>\n",
       "<table border=\"1\" class=\"dataframe\">\n",
       "  <thead>\n",
       "    <tr style=\"text-align: right;\">\n",
       "      <th></th>\n",
       "      <th>Country Name</th>\n",
       "      <th>Country Code</th>\n",
       "      <th>Indicator Name</th>\n",
       "      <th>Indicator Code</th>\n",
       "      <th>2009</th>\n",
       "      <th>2010</th>\n",
       "      <th>2011</th>\n",
       "      <th>2012</th>\n",
       "      <th>2013</th>\n",
       "      <th>2014</th>\n",
       "      <th>2015</th>\n",
       "      <th>2016</th>\n",
       "      <th>2017</th>\n",
       "      <th>2020</th>\n",
       "    </tr>\n",
       "  </thead>\n",
       "  <tbody>\n",
       "    <tr>\n",
       "      <th>0</th>\n",
       "      <td>Aruba</td>\n",
       "      <td>ABW</td>\n",
       "      <td>GDP per capita (current US$)</td>\n",
       "      <td>NY.GDP.PCAP.CD</td>\n",
       "      <td>25170.832363</td>\n",
       "      <td>24134.473859</td>\n",
       "      <td>25849.964006</td>\n",
       "      <td>25496.843942</td>\n",
       "      <td>26442.426801</td>\n",
       "      <td>26895.057167</td>\n",
       "      <td>28399.050131</td>\n",
       "      <td>28453.715565</td>\n",
       "      <td>29348.418969</td>\n",
       "      <td>23384.298791</td>\n",
       "    </tr>\n",
       "    <tr>\n",
       "      <th>1</th>\n",
       "      <td>Africa Eastern and Southern</td>\n",
       "      <td>AFE</td>\n",
       "      <td>GDP per capita (current US$)</td>\n",
       "      <td>NY.GDP.PCAP.CD</td>\n",
       "      <td>1425.307168</td>\n",
       "      <td>1659.654922</td>\n",
       "      <td>1810.229164</td>\n",
       "      <td>1777.303950</td>\n",
       "      <td>1748.905594</td>\n",
       "      <td>1736.242220</td>\n",
       "      <td>1556.316469</td>\n",
       "      <td>1446.533624</td>\n",
       "      <td>1629.404273</td>\n",
       "      <td>1360.878645</td>\n",
       "    </tr>\n",
       "    <tr>\n",
       "      <th>2</th>\n",
       "      <td>Afghanistan</td>\n",
       "      <td>AFG</td>\n",
       "      <td>GDP per capita (current US$)</td>\n",
       "      <td>NY.GDP.PCAP.CD</td>\n",
       "      <td>437.268740</td>\n",
       "      <td>543.306526</td>\n",
       "      <td>591.190030</td>\n",
       "      <td>638.845852</td>\n",
       "      <td>624.315455</td>\n",
       "      <td>614.223342</td>\n",
       "      <td>556.007221</td>\n",
       "      <td>512.012778</td>\n",
       "      <td>516.679862</td>\n",
       "      <td>516.747871</td>\n",
       "    </tr>\n",
       "  </tbody>\n",
       "</table>\n",
       "</div>"
      ],
      "text/plain": [
       "                  Country Name Country Code                Indicator Name  \\\n",
       "0                        Aruba          ABW  GDP per capita (current US$)   \n",
       "1  Africa Eastern and Southern          AFE  GDP per capita (current US$)   \n",
       "2                  Afghanistan          AFG  GDP per capita (current US$)   \n",
       "\n",
       "   Indicator Code          2009          2010          2011          2012  \\\n",
       "0  NY.GDP.PCAP.CD  25170.832363  24134.473859  25849.964006  25496.843942   \n",
       "1  NY.GDP.PCAP.CD   1425.307168   1659.654922   1810.229164   1777.303950   \n",
       "2  NY.GDP.PCAP.CD    437.268740    543.306526    591.190030    638.845852   \n",
       "\n",
       "           2013          2014          2015          2016          2017  \\\n",
       "0  26442.426801  26895.057167  28399.050131  28453.715565  29348.418969   \n",
       "1   1748.905594   1736.242220   1556.316469   1446.533624   1629.404273   \n",
       "2    624.315455    614.223342    556.007221    512.012778    516.679862   \n",
       "\n",
       "           2020  \n",
       "0  23384.298791  \n",
       "1   1360.878645  \n",
       "2    516.747871  "
      ]
     },
     "execution_count": 65,
     "metadata": {},
     "output_type": "execute_result"
    }
   ],
   "source": [
    "df_gdp.loc[0:2,:]"
   ]
  },
  {
   "cell_type": "code",
   "execution_count": 66,
   "id": "ce4b69e9",
   "metadata": {},
   "outputs": [
    {
     "name": "stdout",
     "output_type": "stream",
     "text": [
      "['GDP', 'per', 'capita', '(current', 'US$)']\n"
     ]
    }
   ],
   "source": [
    "gdp_ind_name = df_gdp.loc[:,'Indicator Name'].unique()\n",
    "gdp_ind_name = pd.Series(gdp_ind_name)\n",
    "gdp_ind_name = gdp_ind_name.str.split(' ')\n",
    "gdp_ind_name = list(gdp_ind_name)[0]\n",
    "print(gdp_ind_name)\n"
   ]
  },
  {
   "cell_type": "code",
   "execution_count": 67,
   "id": "1e907485",
   "metadata": {},
   "outputs": [],
   "source": [
    "cleaned_kpi.append(gdp_ind_name)"
   ]
  },
  {
   "cell_type": "code",
   "execution_count": 68,
   "id": "f0b918c9",
   "metadata": {
    "scrolled": true
   },
   "outputs": [
    {
     "data": {
      "text/plain": [
       "[['Percentage',\n",
       "  'graduates',\n",
       "  'Science',\n",
       "  'Technology',\n",
       "  'Engineering',\n",
       "  'Mathematics',\n",
       "  'programmes',\n",
       "  'tertiary',\n",
       "  'education',\n",
       "  'sexes',\n",
       "  '(%)'],\n",
       " ['Teachers', 'secondary', 'education', 'sexes', '(number)'],\n",
       " ['Teachers', 'tertiary', 'education', 'programmes', 'sexes', '(number)'],\n",
       " ['Teachers', 'upper', 'secondary', 'education', 'sexes', '(number)'],\n",
       " ['School',\n",
       "  'age',\n",
       "  'population',\n",
       "  'upper',\n",
       "  'secondary',\n",
       "  'education',\n",
       "  'sexes',\n",
       "  '(number)'],\n",
       " ['School', 'age', 'population', 'tertiary', 'education', 'sexes', '(number)'],\n",
       " ['Labor', 'force', 'advanced', 'education', '(%', 'total', 'labor', 'force)'],\n",
       " ['Internet', 'users', '(per', '100)'],\n",
       " ['GDP', 'per', 'capita', '(current', 'US$)']]"
      ]
     },
     "execution_count": 68,
     "metadata": {},
     "output_type": "execute_result"
    }
   ],
   "source": [
    "cleaned_kpi"
   ]
  },
  {
   "cell_type": "code",
   "execution_count": 69,
   "id": "59d29ac3",
   "metadata": {},
   "outputs": [
    {
     "name": "stdout",
     "output_type": "stream",
     "text": [
      "<class 'list'>\n"
     ]
    }
   ],
   "source": [
    "print(type(cleaned_kpi))\n"
   ]
  },
  {
   "cell_type": "code",
   "execution_count": 70,
   "id": "D9wQr7qhSX0N",
   "metadata": {
    "colab": {
     "base_uri": "https://localhost:8080/"
    },
    "id": "D9wQr7qhSX0N",
    "outputId": "36cf0ad3-bb19-4ef3-f7bc-ffe877ab83cf"
   },
   "outputs": [
    {
     "name": "stdout",
     "output_type": "stream",
     "text": [
      "<class 'pandas.core.frame.DataFrame'>\n",
      "RangeIndex: 266 entries, 0 to 265\n",
      "Data columns (total 14 columns):\n",
      " #   Column          Non-Null Count  Dtype  \n",
      "---  ------          --------------  -----  \n",
      " 0   Country Name    266 non-null    object \n",
      " 1   Country Code    266 non-null    object \n",
      " 2   Indicator Name  266 non-null    object \n",
      " 3   Indicator Code  266 non-null    object \n",
      " 4   2009            255 non-null    float64\n",
      " 5   2010            256 non-null    float64\n",
      " 6   2011            259 non-null    float64\n",
      " 7   2012            257 non-null    float64\n",
      " 8   2013            258 non-null    float64\n",
      " 9   2014            259 non-null    float64\n",
      " 10  2015            258 non-null    float64\n",
      " 11  2016            257 non-null    float64\n",
      " 12  2017            257 non-null    float64\n",
      " 13  2020            251 non-null    float64\n",
      "dtypes: float64(10), object(4)\n",
      "memory usage: 29.2+ KB\n"
     ]
    }
   ],
   "source": [
    "df_gdp.info()"
   ]
  },
  {
   "cell_type": "code",
   "execution_count": 71,
   "id": "KNWsLNA1CAQm",
   "metadata": {
    "id": "KNWsLNA1CAQm"
   },
   "outputs": [],
   "source": [
    "# Suppression des pays qui sont dans df_gdp et pas dans df_data_2\n",
    "df_data_3 = df_data_2[df_data_2['Country Name'].isin(df_gdp['Country Name'])]"
   ]
  },
  {
   "cell_type": "code",
   "execution_count": 72,
   "id": "Btxwi9vaCAKJ",
   "metadata": {
    "colab": {
     "base_uri": "https://localhost:8080/"
    },
    "id": "Btxwi9vaCAKJ",
    "outputId": "7f485e02-49a1-4baa-e435-ccb10428840e"
   },
   "outputs": [
    {
     "name": "stdout",
     "output_type": "stream",
     "text": [
      "<class 'pandas.core.frame.DataFrame'>\n",
      "Int64Index: 45652 entries, 67212 to 886613\n",
      "Data columns (total 16 columns):\n",
      " #   Column                  Non-Null Count  Dtype  \n",
      "---  ------                  --------------  -----  \n",
      " 0   Country Name            45652 non-null  object \n",
      " 1   Country Code            45652 non-null  object \n",
      " 2   Indicator Name          45652 non-null  object \n",
      " 3   Indicator Code          45652 non-null  object \n",
      " 4   2009                    45416 non-null  float64\n",
      " 5   2010                    45522 non-null  float64\n",
      " 6   2011                    45646 non-null  float64\n",
      " 7   2012                    45641 non-null  float64\n",
      " 8   2013                    45633 non-null  float64\n",
      " 9   2014                    45628 non-null  float64\n",
      " 10  2015                    45448 non-null  float64\n",
      " 11  2016                    13336 non-null  float64\n",
      " 12  2017                    0 non-null      float64\n",
      " 13  2020                    0 non-null      float64\n",
      " 14  Total_non_manquants     45652 non-null  int64  \n",
      " 15  Total_non_manquants_pc  45652 non-null  float64\n",
      "dtypes: float64(11), int64(1), object(4)\n",
      "memory usage: 5.9+ MB\n"
     ]
    }
   ],
   "source": [
    "df_data_3.info()"
   ]
  },
  {
   "cell_type": "markdown",
   "id": "73fc5b08",
   "metadata": {},
   "source": [
    "### 4. Filtrage dataset: Indicateur pertinents."
   ]
  },
  {
   "cell_type": "markdown",
   "id": "edee7Ifhw5gD",
   "metadata": {
    "id": "edee7Ifhw5gD"
   },
   "source": [
    "On a maintenant un dataset (df_data_3) avec plusieurs indicateurs dont GDP ajouté en dernier lieu.\n",
    "C'est à partir de cette liste de kpi que l'on va sélectionner les pays qui correspondent aux objectifs business.\n",
    "On va donc filtrer df_data_3 pour ne retenir que ces kpi et constituer un nouveau df avec le résultat du filtre."
   ]
  },
  {
   "cell_type": "markdown",
   "id": "33224455",
   "metadata": {},
   "source": [
    "#### Etapes successives nettoyage indicateurs"
   ]
  },
  {
   "cell_type": "code",
   "execution_count": 73,
   "id": "d63b8b12",
   "metadata": {},
   "outputs": [
    {
     "name": "stderr",
     "output_type": "stream",
     "text": [
      "/var/folders/vz/jqhjcz3j0xn4_ssg6jb109h00000gn/T/ipykernel_59826/1542170445.py:2: SettingWithCopyWarning: \n",
      "A value is trying to be set on a copy of a slice from a DataFrame.\n",
      "Try using .loc[row_indexer,col_indexer] = value instead\n",
      "\n",
      "See the caveats in the documentation: https://pandas.pydata.org/pandas-docs/stable/user_guide/indexing.html#returning-a-view-versus-a-copy\n",
      "  df_data_3['Indicator Name'] = df_data_3['Indicator Name'].str.lower()\n"
     ]
    }
   ],
   "source": [
    "# Passer la colonne \"Indicator Name\" en lowercase\n",
    "df_data_3['Indicator Name'] = df_data_3['Indicator Name'].str.lower()"
   ]
  },
  {
   "cell_type": "code",
   "execution_count": 74,
   "id": "51f2fe8f",
   "metadata": {
    "scrolled": false
   },
   "outputs": [
    {
     "data": {
      "text/plain": [
       "67212    gdp at market prices (constant 2005 us$)\n",
       "67213          gdp at market prices (current us$)\n",
       "Name: Indicator Name, dtype: object"
      ]
     },
     "execution_count": 74,
     "metadata": {},
     "output_type": "execute_result"
    }
   ],
   "source": [
    "df_data_3['Indicator Name'][0:2]"
   ]
  },
  {
   "cell_type": "code",
   "execution_count": 75,
   "id": "26163df0",
   "metadata": {
    "scrolled": true
   },
   "outputs": [],
   "source": [
    "lower_kpi = [str(x).lower() for x in cleaned_kpi]"
   ]
  },
  {
   "cell_type": "code",
   "execution_count": 76,
   "id": "a91e1132",
   "metadata": {
    "scrolled": true
   },
   "outputs": [
    {
     "data": {
      "text/plain": [
       "[\"['percentage', 'graduates', 'science', 'technology', 'engineering', 'mathematics', 'programmes', 'tertiary', 'education', 'sexes', '(%)']\",\n",
       " \"['teachers', 'secondary', 'education', 'sexes', '(number)']\",\n",
       " \"['teachers', 'tertiary', 'education', 'programmes', 'sexes', '(number)']\",\n",
       " \"['teachers', 'upper', 'secondary', 'education', 'sexes', '(number)']\",\n",
       " \"['school', 'age', 'population', 'upper', 'secondary', 'education', 'sexes', '(number)']\",\n",
       " \"['school', 'age', 'population', 'tertiary', 'education', 'sexes', '(number)']\",\n",
       " \"['labor', 'force', 'advanced', 'education', '(%', 'total', 'labor', 'force)']\",\n",
       " \"['internet', 'users', '(per', '100)']\",\n",
       " \"['gdp', 'per', 'capita', '(current', 'us$)']\"]"
      ]
     },
     "execution_count": 76,
     "metadata": {},
     "output_type": "execute_result"
    }
   ],
   "source": [
    "lower_kpi"
   ]
  },
  {
   "cell_type": "code",
   "execution_count": 77,
   "id": "e2d5c849",
   "metadata": {
    "scrolled": false
   },
   "outputs": [],
   "source": [
    "def split_sentence(l): # liste de liste de kpi\n",
    "    l_kpi = []\n",
    "    l_df = []\n",
    "    for i in range(len(l)):\n",
    "        sentence = l[i]\n",
    "        s_matching = df_data_3['Indicator Name'].str.contains('|'.join(sentence))\n",
    "        df_data_3[s_matching]\n",
    "        \n",
    "    return df_data_3\n",
    "    "
   ]
  },
  {
   "cell_type": "code",
   "execution_count": 78,
   "id": "073ac760",
   "metadata": {},
   "outputs": [],
   "source": [
    "df_matching = split_sentence(lower_kpi)"
   ]
  },
  {
   "cell_type": "code",
   "execution_count": 79,
   "id": "775fd7bb",
   "metadata": {
    "scrolled": true
   },
   "outputs": [
    {
     "data": {
      "text/html": [
       "<div>\n",
       "<style scoped>\n",
       "    .dataframe tbody tr th:only-of-type {\n",
       "        vertical-align: middle;\n",
       "    }\n",
       "\n",
       "    .dataframe tbody tr th {\n",
       "        vertical-align: top;\n",
       "    }\n",
       "\n",
       "    .dataframe thead th {\n",
       "        text-align: right;\n",
       "    }\n",
       "</style>\n",
       "<table border=\"1\" class=\"dataframe\">\n",
       "  <thead>\n",
       "    <tr style=\"text-align: right;\">\n",
       "      <th></th>\n",
       "      <th>Country Name</th>\n",
       "      <th>Country Code</th>\n",
       "      <th>Indicator Name</th>\n",
       "      <th>Indicator Code</th>\n",
       "      <th>2009</th>\n",
       "      <th>2010</th>\n",
       "      <th>2011</th>\n",
       "      <th>2012</th>\n",
       "      <th>2013</th>\n",
       "      <th>2014</th>\n",
       "      <th>2015</th>\n",
       "      <th>2016</th>\n",
       "      <th>2017</th>\n",
       "      <th>2020</th>\n",
       "      <th>Total_non_manquants</th>\n",
       "      <th>Total_non_manquants_pc</th>\n",
       "    </tr>\n",
       "  </thead>\n",
       "  <tbody>\n",
       "    <tr>\n",
       "      <th>67212</th>\n",
       "      <td>North America</td>\n",
       "      <td>NAC</td>\n",
       "      <td>gdp at market prices (constant 2005 us$)</td>\n",
       "      <td>NY.GDP.MKTP.KD</td>\n",
       "      <td>1.616591e+13</td>\n",
       "      <td>1.658358e+13</td>\n",
       "      <td>1.687372e+13</td>\n",
       "      <td>1.724064e+13</td>\n",
       "      <td>1.754311e+13</td>\n",
       "      <td>1.796234e+13</td>\n",
       "      <td>1.844217e+13</td>\n",
       "      <td>1.871577e+13</td>\n",
       "      <td>NaN</td>\n",
       "      <td>NaN</td>\n",
       "      <td>8</td>\n",
       "      <td>0.727273</td>\n",
       "    </tr>\n",
       "    <tr>\n",
       "      <th>67213</th>\n",
       "      <td>North America</td>\n",
       "      <td>NAC</td>\n",
       "      <td>gdp at market prices (current us$)</td>\n",
       "      <td>NY.GDP.MKTP.CD</td>\n",
       "      <td>1.579570e+13</td>\n",
       "      <td>1.658358e+13</td>\n",
       "      <td>1.731212e+13</td>\n",
       "      <td>1.798508e+13</td>\n",
       "      <td>1.853972e+13</td>\n",
       "      <td>1.919176e+13</td>\n",
       "      <td>1.967944e+13</td>\n",
       "      <td>2.016030e+13</td>\n",
       "      <td>NaN</td>\n",
       "      <td>NaN</td>\n",
       "      <td>8</td>\n",
       "      <td>0.727273</td>\n",
       "    </tr>\n",
       "    <tr>\n",
       "      <th>67214</th>\n",
       "      <td>North America</td>\n",
       "      <td>NAC</td>\n",
       "      <td>gdp per capita (constant 2005 us$)</td>\n",
       "      <td>NY.GDP.PCAP.KD</td>\n",
       "      <td>4.748176e+04</td>\n",
       "      <td>4.828970e+04</td>\n",
       "      <td>4.875801e+04</td>\n",
       "      <td>4.942650e+04</td>\n",
       "      <td>4.991987e+04</td>\n",
       "      <td>5.071627e+04</td>\n",
       "      <td>5.168619e+04</td>\n",
       "      <td>5.206357e+04</td>\n",
       "      <td>NaN</td>\n",
       "      <td>NaN</td>\n",
       "      <td>8</td>\n",
       "      <td>0.727273</td>\n",
       "    </tr>\n",
       "    <tr>\n",
       "      <th>67215</th>\n",
       "      <td>North America</td>\n",
       "      <td>NAC</td>\n",
       "      <td>gdp per capita (current us$)</td>\n",
       "      <td>NY.GDP.PCAP.CD</td>\n",
       "      <td>4.639438e+04</td>\n",
       "      <td>4.828970e+04</td>\n",
       "      <td>5.002482e+04</td>\n",
       "      <td>5.156070e+04</td>\n",
       "      <td>5.275578e+04</td>\n",
       "      <td>5.418749e+04</td>\n",
       "      <td>5.515376e+04</td>\n",
       "      <td>5.608194e+04</td>\n",
       "      <td>NaN</td>\n",
       "      <td>NaN</td>\n",
       "      <td>8</td>\n",
       "      <td>0.727273</td>\n",
       "    </tr>\n",
       "    <tr>\n",
       "      <th>67216</th>\n",
       "      <td>North America</td>\n",
       "      <td>NAC</td>\n",
       "      <td>gdp per capita, ppp (constant 2011 internation...</td>\n",
       "      <td>NY.GDP.PCAP.PP.KD</td>\n",
       "      <td>4.770676e+04</td>\n",
       "      <td>4.851513e+04</td>\n",
       "      <td>4.897538e+04</td>\n",
       "      <td>4.965060e+04</td>\n",
       "      <td>5.014080e+04</td>\n",
       "      <td>5.093932e+04</td>\n",
       "      <td>5.192756e+04</td>\n",
       "      <td>5.230684e+04</td>\n",
       "      <td>NaN</td>\n",
       "      <td>NaN</td>\n",
       "      <td>8</td>\n",
       "      <td>0.727273</td>\n",
       "    </tr>\n",
       "  </tbody>\n",
       "</table>\n",
       "</div>"
      ],
      "text/plain": [
       "        Country Name Country Code  \\\n",
       "67212  North America          NAC   \n",
       "67213  North America          NAC   \n",
       "67214  North America          NAC   \n",
       "67215  North America          NAC   \n",
       "67216  North America          NAC   \n",
       "\n",
       "                                          Indicator Name     Indicator Code  \\\n",
       "67212           gdp at market prices (constant 2005 us$)     NY.GDP.MKTP.KD   \n",
       "67213                 gdp at market prices (current us$)     NY.GDP.MKTP.CD   \n",
       "67214                 gdp per capita (constant 2005 us$)     NY.GDP.PCAP.KD   \n",
       "67215                       gdp per capita (current us$)     NY.GDP.PCAP.CD   \n",
       "67216  gdp per capita, ppp (constant 2011 internation...  NY.GDP.PCAP.PP.KD   \n",
       "\n",
       "               2009          2010          2011          2012          2013  \\\n",
       "67212  1.616591e+13  1.658358e+13  1.687372e+13  1.724064e+13  1.754311e+13   \n",
       "67213  1.579570e+13  1.658358e+13  1.731212e+13  1.798508e+13  1.853972e+13   \n",
       "67214  4.748176e+04  4.828970e+04  4.875801e+04  4.942650e+04  4.991987e+04   \n",
       "67215  4.639438e+04  4.828970e+04  5.002482e+04  5.156070e+04  5.275578e+04   \n",
       "67216  4.770676e+04  4.851513e+04  4.897538e+04  4.965060e+04  5.014080e+04   \n",
       "\n",
       "               2014          2015          2016  2017  2020  \\\n",
       "67212  1.796234e+13  1.844217e+13  1.871577e+13   NaN   NaN   \n",
       "67213  1.919176e+13  1.967944e+13  2.016030e+13   NaN   NaN   \n",
       "67214  5.071627e+04  5.168619e+04  5.206357e+04   NaN   NaN   \n",
       "67215  5.418749e+04  5.515376e+04  5.608194e+04   NaN   NaN   \n",
       "67216  5.093932e+04  5.192756e+04  5.230684e+04   NaN   NaN   \n",
       "\n",
       "       Total_non_manquants  Total_non_manquants_pc  \n",
       "67212                    8                0.727273  \n",
       "67213                    8                0.727273  \n",
       "67214                    8                0.727273  \n",
       "67215                    8                0.727273  \n",
       "67216                    8                0.727273  "
      ]
     },
     "execution_count": 79,
     "metadata": {},
     "output_type": "execute_result"
    }
   ],
   "source": [
    "df_matching.head()"
   ]
  },
  {
   "cell_type": "code",
   "execution_count": 80,
   "id": "f89eb39f",
   "metadata": {},
   "outputs": [
    {
     "name": "stdout",
     "output_type": "stream",
     "text": [
      "<class 'pandas.core.frame.DataFrame'>\n",
      "Int64Index: 45652 entries, 67212 to 886613\n",
      "Data columns (total 16 columns):\n",
      " #   Column                  Non-Null Count  Dtype  \n",
      "---  ------                  --------------  -----  \n",
      " 0   Country Name            45652 non-null  object \n",
      " 1   Country Code            45652 non-null  object \n",
      " 2   Indicator Name          45652 non-null  object \n",
      " 3   Indicator Code          45652 non-null  object \n",
      " 4   2009                    45416 non-null  float64\n",
      " 5   2010                    45522 non-null  float64\n",
      " 6   2011                    45646 non-null  float64\n",
      " 7   2012                    45641 non-null  float64\n",
      " 8   2013                    45633 non-null  float64\n",
      " 9   2014                    45628 non-null  float64\n",
      " 10  2015                    45448 non-null  float64\n",
      " 11  2016                    13336 non-null  float64\n",
      " 12  2017                    0 non-null      float64\n",
      " 13  2020                    0 non-null      float64\n",
      " 14  Total_non_manquants     45652 non-null  int64  \n",
      " 15  Total_non_manquants_pc  45652 non-null  float64\n",
      "dtypes: float64(11), int64(1), object(4)\n",
      "memory usage: 5.9+ MB\n"
     ]
    }
   ],
   "source": [
    "df_matching.info()"
   ]
  },
  {
   "cell_type": "code",
   "execution_count": 81,
   "id": "3d7d6b0f",
   "metadata": {},
   "outputs": [
    {
     "name": "stdout",
     "output_type": "stream",
     "text": [
      "['gdp at market prices (constant 2005 us$)'\n",
      " 'gdp at market prices (current us$)' 'gdp per capita (constant 2005 us$)'\n",
      " 'gdp per capita (current us$)'\n",
      " 'gdp per capita, ppp (constant 2011 international $)'\n",
      " 'gdp per capita, ppp (current international $)'\n",
      " 'gdp, ppp (constant 2011 international $)'\n",
      " 'gdp, ppp (current international $)' 'gni (current us$)'\n",
      " 'gni per capita, atlas method (current us$)'\n",
      " 'gni per capita, ppp (current international $)'\n",
      " 'gni, ppp (current international $)' 'internet users (per 100 people)'\n",
      " 'labor force with advanced education (% of total)'\n",
      " 'labor force with basic education (% of total)'\n",
      " 'labor force with intermediate education (% of total)'\n",
      " 'labor force, female (% of total labor force)' 'labor force, total'\n",
      " 'mortality rate, under-5 (per 1,000)' 'population growth (annual %)'\n",
      " 'population, ages 0-14 (% of total)' 'population, ages 0-14, female'\n",
      " 'population, ages 0-14, male' 'population, ages 0-14, total'\n",
      " 'population, ages 15-64 (% of total)' 'population, ages 15-64, female'\n",
      " 'population, ages 15-64, male' 'population, ages 15-64, total'\n",
      " 'population, female' 'population, female (% of total)' 'population, male'\n",
      " 'population, male (% of total)' 'population, total'\n",
      " 'unemployment, female (% of female labor force)'\n",
      " 'unemployment, male (% of male labor force)'\n",
      " 'unemployment, total (% of total labor force)'\n",
      " 'prevalence of hiv, total (% of population ages 15-49)'\n",
      " 'duration of compulsory education (years)'\n",
      " 'enrolment in primary education, both sexes (number)'\n",
      " 'enrolment in primary education, female (number)'\n",
      " 'enrolment in secondary education, both sexes (number)'\n",
      " 'enrolment in secondary education, female (number)'\n",
      " 'enrolment in secondary general, both sexes (number)'\n",
      " 'enrolment in secondary general, female (number)'\n",
      " 'gross enrolment ratio, lower secondary, both sexes (%)'\n",
      " 'gross enrolment ratio, lower secondary, female (%)'\n",
      " 'gross enrolment ratio, lower secondary, male (%)'\n",
      " 'gross enrolment ratio, primary and secondary, gender parity index (gpi)'\n",
      " 'gross enrolment ratio, primary, both sexes (%)'\n",
      " 'gross enrolment ratio, primary, female (%)'\n",
      " 'gross enrolment ratio, primary, gender parity index (gpi)'\n",
      " 'gross enrolment ratio, primary, male (%)'\n",
      " 'gross enrolment ratio, secondary, both sexes (%)'\n",
      " 'gross enrolment ratio, secondary, female (%)'\n",
      " 'gross enrolment ratio, secondary, gender parity index (gpi)'\n",
      " 'gross enrolment ratio, secondary, male (%)'\n",
      " 'gross enrolment ratio, upper secondary, both sexes (%)'\n",
      " 'gross enrolment ratio, upper secondary, female (%)'\n",
      " 'gross enrolment ratio, upper secondary, male (%)'\n",
      " 'gross intake ratio to grade 1 of primary education, both sexes (%)'\n",
      " 'gross intake ratio to grade 1 of primary education, female (%)'\n",
      " 'gross intake ratio to grade 1 of primary education, male (%)'\n",
      " 'official entrance age to lower secondary education (years)'\n",
      " 'official entrance age to pre-primary education (years)'\n",
      " 'official entrance age to primary education (years)'\n",
      " 'official entrance age to upper secondary education (years)'\n",
      " 'percentage of students in primary education who are female (%)'\n",
      " 'percentage of students in secondary education who are female (%)'\n",
      " 'percentage of students in secondary general education who are female (%)'\n",
      " 'population of the official age for lower secondary education, both sexes (number)'\n",
      " 'population of the official age for lower secondary education, female (number)'\n",
      " 'population of the official age for lower secondary education, male (number)'\n",
      " 'population of the official age for pre-primary education, both sexes (number)'\n",
      " 'population of the official age for pre-primary education, female (number)'\n",
      " 'population of the official age for pre-primary education, male (number)'\n",
      " 'population of the official age for primary education, both sexes (number)'\n",
      " 'population of the official age for primary education, female (number)'\n",
      " 'population of the official age for primary education, male (number)'\n",
      " 'population of the official age for secondary education, both sexes (number)'\n",
      " 'population of the official age for secondary education, female (number)'\n",
      " 'population of the official age for secondary education, male (number)'\n",
      " 'population of the official age for tertiary education, both sexes (number)'\n",
      " 'population of the official age for tertiary education, female (number)'\n",
      " 'population of the official age for tertiary education, male (number)'\n",
      " 'population of the official age for the last grade of primary education, both sexes (number)'\n",
      " 'population of the official age for the last grade of primary education, female (number)'\n",
      " 'population of the official age for the last grade of primary education, male (number)'\n",
      " 'population of the official age for upper secondary education, both sexes (number)'\n",
      " 'population of the official age for upper secondary education, female (number)'\n",
      " 'population of the official age for upper secondary education, male (number)'\n",
      " 'population of the official entrance age to primary education, both sexes (number)'\n",
      " 'population of the official entrance age to primary education, female (number)'\n",
      " 'population of the official entrance age to primary education, male (number)'\n",
      " 'population of the official entrance age to secondary general education, both sexes (number)'\n",
      " 'population of the official entrance age to secondary general education, female (number)'\n",
      " 'population of the official entrance age to secondary general education, male (number)'\n",
      " 'population, age 0, male' 'population, age 1, male'\n",
      " 'population, age 10, male' 'population, age 11, male'\n",
      " 'population, age 12, male' 'population, age 13, male'\n",
      " 'population, age 14, male' 'population, age 15, male'\n",
      " 'population, age 16, male' 'population, age 17, male'\n",
      " 'population, age 18, male' 'population, age 19, male'\n",
      " 'population, age 2, male' 'population, age 20, male'\n",
      " 'population, age 21, male' 'population, age 22, male'\n",
      " 'population, age 23, male' 'population, age 24, male'\n",
      " 'population, age 25, male' 'population, age 3, male'\n",
      " 'population, age 4, male' 'population, age 5, male'\n",
      " 'population, age 6, male' 'population, age 7, male'\n",
      " 'population, age 8, male' 'population, age 9, male'\n",
      " 'population, ages 10-14, female' 'population, ages 10-14, male'\n",
      " 'population, ages 10-14, total' 'population, ages 10-15, female'\n",
      " 'population, ages 10-15, male' 'population, ages 10-15, total'\n",
      " 'population, ages 10-16, female' 'population, ages 10-16, male'\n",
      " 'population, ages 10-16, total' 'population, ages 10-17, female'\n",
      " 'population, ages 10-17, male' 'population, ages 10-17, total'\n",
      " 'population, ages 10-18, female' 'population, ages 10-18, male'\n",
      " 'population, ages 10-18, total' 'population, ages 11-15, female'\n",
      " 'population, ages 11-15, male' 'population, ages 11-15, total'\n",
      " 'population, ages 11-16, female' 'population, ages 11-16, male'\n",
      " 'population, ages 11-16, total' 'population, ages 11-17, female'\n",
      " 'population, ages 11-17, male' 'population, ages 11-17, total'\n",
      " 'population, ages 11-18, female' 'population, ages 11-18, male'\n",
      " 'population, ages 11-18, total' 'population, ages 12-15, female'\n",
      " 'population, ages 12-15, male' 'population, ages 12-15, total'\n",
      " 'population, ages 12-16, female' 'population, ages 12-16, male'\n",
      " 'population, ages 12-16, total' 'population, ages 12-17, female'\n",
      " 'population, ages 12-17, male' 'population, ages 12-17, total'\n",
      " 'population, ages 12-18, female' 'population, ages 12-18, male'\n",
      " 'population, ages 12-18, total' 'population, ages 13-16, female'\n",
      " 'population, ages 13-16, male' 'population, ages 13-16, total'\n",
      " 'population, ages 13-17, female' 'population, ages 13-17, male'\n",
      " 'population, ages 13-17, total' 'population, ages 13-18, female'\n",
      " 'population, ages 13-18, male' 'population, ages 13-18, total'\n",
      " 'population, ages 13-19, female' 'population, ages 13-19, male'\n",
      " 'population, ages 13-19, total' 'population, ages 14-18, female'\n",
      " 'population, ages 14-18, male' 'population, ages 14-18, total'\n",
      " 'population, ages 14-19, female' 'population, ages 14-19, male'\n",
      " 'population, ages 14-19, total' 'population, ages 15-24, female'\n",
      " 'population, ages 15-24, male' 'population, ages 15-24, total'\n",
      " 'population, ages 3-5, female' 'population, ages 3-5, male'\n",
      " 'population, ages 3-5, total' 'population, ages 4-6, female'\n",
      " 'population, ages 4-6, male' 'population, ages 4-6, total'\n",
      " 'population, ages 5-10, female' 'population, ages 5-10, male'\n",
      " 'population, ages 5-10, total' 'population, ages 5-11, female'\n",
      " 'population, ages 5-11, male' 'population, ages 5-11, total'\n",
      " 'population, ages 5-9, female' 'population, ages 5-9, male'\n",
      " 'population, ages 5-9, total' 'population, ages 6-10, female'\n",
      " 'population, ages 6-10, male' 'population, ages 6-10, total'\n",
      " 'population, ages 6-11, female' 'population, ages 6-11, male'\n",
      " 'population, ages 6-11, total' 'population, ages 6-12, female'\n",
      " 'population, ages 6-12, male' 'population, ages 6-12, total'\n",
      " 'population, ages 6-9, female' 'population, ages 6-9, male'\n",
      " 'population, ages 6-9, total' 'population, ages 7-10, female'\n",
      " 'population, ages 7-10, male' 'population, ages 7-10, total'\n",
      " 'population, ages 7-11, female' 'population, ages 7-11, male'\n",
      " 'population, ages 7-11, total' 'population, ages 7-12, female'\n",
      " 'population, ages 7-12, male' 'population, ages 7-12, total'\n",
      " 'population, ages 7-13, female' 'population, ages 7-13, male'\n",
      " 'population, ages 7-13, total' 'population, ages 7-9, female'\n",
      " 'population, ages 7-9, male' 'population, ages 7-9, total'\n",
      " 'theoretical duration of lower secondary education (years)'\n",
      " 'theoretical duration of pre-primary education (years)'\n",
      " 'theoretical duration of primary education (years)'\n",
      " 'theoretical duration of secondary education (years)'\n",
      " 'theoretical duration of upper secondary education (years)'\n",
      " 'enrolment in pre-primary education, both sexes (number)'\n",
      " 'enrolment in pre-primary education, female (number)'\n",
      " 'enrolment in secondary vocational, both sexes (number)'\n",
      " 'enrolment in secondary vocational, female (number)'\n",
      " 'enrolment in tertiary education, all programmes, both sexes (number)'\n",
      " 'enrolment in tertiary education, all programmes, female (number)'\n",
      " 'gross enrolment ratio, pre-primary, both sexes (%)'\n",
      " 'gross enrolment ratio, pre-primary, female (%)'\n",
      " 'gross enrolment ratio, pre-primary, male (%)'\n",
      " 'gross enrolment ratio, primary to tertiary, both sexes (%)'\n",
      " 'gross enrolment ratio, tertiary, both sexes (%)'\n",
      " 'gross enrolment ratio, tertiary, female (%)'\n",
      " 'gross enrolment ratio, tertiary, gender parity index (gpi)'\n",
      " 'gross enrolment ratio, tertiary, male (%)'\n",
      " 'gross graduation ratio from primary education, both sexes (%)'\n",
      " 'gross graduation ratio from primary education, female (%)'\n",
      " 'gross graduation ratio from primary education, male (%)'\n",
      " 'lower secondary completion rate, both sexes (%)'\n",
      " 'lower secondary completion rate, female (%)'\n",
      " 'lower secondary completion rate, male (%)'\n",
      " 'net enrolment rate, pre-primary, both sexes (%)'\n",
      " 'net enrolment rate, pre-primary, female (%)'\n",
      " 'net enrolment rate, pre-primary, male (%)'\n",
      " 'percentage of enrolment in pre-primary education in private institutions (%)'\n",
      " 'percentage of enrolment in primary education in private institutions (%)'\n",
      " 'percentage of enrolment in secondary education in private institutions (%)'\n",
      " 'percentage of enrolment in tertiary education in private institutions (%)'\n",
      " 'percentage of female students enrolled in primary education who are over-age, female (%)'\n",
      " 'percentage of female students in secondary education enrolled in vocational programmes, female (%)'\n",
      " 'percentage of male students enrolled in primary education who are over-age, male (%)'\n",
      " 'percentage of male students in secondary education enrolled in vocational programmes, male (%)'\n",
      " 'percentage of repeaters in primary education, all grades, both sexes (%)'\n",
      " 'percentage of repeaters in primary education, all grades, female (%)'\n",
      " 'percentage of repeaters in primary education, all grades, male (%)'\n",
      " 'percentage of students enrolled in primary education who are over-age, both sexes (%)'\n",
      " 'percentage of students in pre-primary education who are female (%)'\n",
      " 'percentage of students in secondary education enrolled in vocational programmes, both sexes (%)'\n",
      " 'percentage of students in secondary vocational education who are female (%)'\n",
      " 'percentage of students in tertiary education who are female (%)'\n",
      " 'percentage of teachers in pre-primary education who are female (%)'\n",
      " 'percentage of teachers in primary education who are female (%)'\n",
      " 'percentage of teachers in secondary education who are female (%)'\n",
      " 'primary completion rate, both sexes (%)'\n",
      " 'primary completion rate, female (%)' 'primary completion rate, male (%)'\n",
      " 'pupil-teacher ratio in lower secondary education (headcount basis)'\n",
      " 'pupil-teacher ratio in pre-primary education (headcount basis)'\n",
      " 'pupil-teacher ratio in primary education (headcount basis)'\n",
      " 'pupil-teacher ratio in secondary education (headcount basis)'\n",
      " 'pupil-teacher ratio in upper secondary education (headcount basis)'\n",
      " 'school life expectancy, primary to tertiary, both sexes (years)'\n",
      " 'school life expectancy, primary to tertiary, female (years)'\n",
      " 'school life expectancy, primary to tertiary, male (years)'\n",
      " 'teachers in pre-primary education, both sexes (number)'\n",
      " 'teachers in pre-primary education, female (number)'\n",
      " 'teachers in primary education, both sexes (number)'\n",
      " 'teachers in primary education, female (number)'\n",
      " 'teachers in secondary education, both sexes (number)'\n",
      " 'teachers in secondary education, female (number)'\n",
      " 'graduates from tertiary education, both sexes (number)'\n",
      " 'graduates from tertiary education, female (number)'\n",
      " 'percentage of graduates from tertiary education who are female (%)'\n",
      " 'percentage of teachers in tertiary education who are female (%)'\n",
      " 'pupil-teacher ratio in tertiary education (headcount basis)'\n",
      " 'teachers in tertiary education programmes, both sexes (number)'\n",
      " 'teachers in tertiary education programmes, female (number)'\n",
      " 'all staff compensation as % of total expenditure in primary public institutions (%)'\n",
      " 'all staff compensation as % of total expenditure in secondary public institutions (%)'\n",
      " 'current expenditure as % of total expenditure in primary public institutions (%)'\n",
      " 'current expenditure as % of total expenditure in secondary public institutions (%)'\n",
      " 'percentage of female teachers in pre-primary education who are trained, female (%)'\n",
      " 'percentage of female teachers in primary education who are trained, female (%)'\n",
      " 'percentage of male teachers in pre-primary education who are trained, male (%)'\n",
      " 'percentage of male teachers in primary education who are trained, male (%)'\n",
      " 'percentage of teachers in pre-primary education who are trained, both sexes (%)'\n",
      " 'percentage of teachers in primary education who are trained, both sexes (%)'\n",
      " 'official entrance age to compulsory education (years)'\n",
      " 'official entrance age to post-secondary non-tertiary education (years)'\n",
      " 'population of compulsory school age, both sexes (number)'\n",
      " 'population of compulsory school age, female (number)'\n",
      " 'population of compulsory school age, male (number)'\n",
      " 'population of the official age for post-secondary non-tertiary education, both sexes (number)'\n",
      " 'population of the official age for post-secondary non-tertiary education, female (number)'\n",
      " 'population of the official age for post-secondary non-tertiary education, male (number)'\n",
      " 'theoretical duration of post-secondary non-tertiary education (years)'\n",
      " 'expenditure on education as % of total government expenditure (%)'\n",
      " 'expenditure on tertiary as % of government expenditure on education (%)'\n",
      " 'government expenditure on education as % of gdp (%)'\n",
      " 'government expenditure per tertiary student as % of gdp per capita (%)'\n",
      " 'gross graduation ratio from first degree programmes (isced 6 and 7) in tertiary education, both sexes (%)'\n",
      " 'gross graduation ratio from first degree programmes (isced 6 and 7) in tertiary education, female (%)'\n",
      " 'gross graduation ratio from first degree programmes (isced 6 and 7) in tertiary education, male (%)'\n",
      " 'adjusted net enrolment rate, primary, both sexes (%)'\n",
      " 'adjusted net enrolment rate, primary, female (%)'\n",
      " 'adjusted net enrolment rate, primary, male (%)'\n",
      " 'annual statutory teacher salaries in public institutions in usd. lower secondary. 10 years of experience'\n",
      " 'annual statutory teacher salaries in public institutions in usd. lower secondary. 15 years of experience'\n",
      " 'annual statutory teacher salaries in public institutions in usd. lower secondary. starting salary'\n",
      " 'annual statutory teacher salaries in public institutions in usd. lower secondary. top of scale'\n",
      " 'annual statutory teacher salaries in public institutions in usd. primary. 10 years of experience'\n",
      " 'annual statutory teacher salaries in public institutions in usd. primary. 15 years of experience'\n",
      " 'annual statutory teacher salaries in public institutions in usd. primary. starting salary'\n",
      " 'annual statutory teacher salaries in public institutions in usd. primary. top of scale'\n",
      " 'annual statutory teacher salaries in public institutions in usd. upper secondary. 10 years of experience'\n",
      " 'annual statutory teacher salaries in public institutions in usd. upper secondary. 15 years of experience'\n",
      " 'annual statutory teacher salaries in public institutions in usd. upper secondary. starting salary'\n",
      " 'annual statutory teacher salaries in public institutions in usd. upper secondary. top of scale'\n",
      " 'net enrolment rate, primary, both sexes (%)'\n",
      " 'net enrolment rate, primary, female (%)'\n",
      " 'net enrolment rate, primary, male (%)'\n",
      " 'out-of-school children of primary school age, both sexes (number)'\n",
      " 'out-of-school children of primary school age, female (number)'\n",
      " 'out-of-school children of primary school age, male (number)'\n",
      " 'rate of out-of-school adolescents of lower secondary school age, both sexes (%)'\n",
      " 'rate of out-of-school children of primary school age, both sexes (%)'\n",
      " 'rate of out-of-school children of primary school age, female (%)'\n",
      " 'rate of out-of-school children of primary school age, male (%)'\n",
      " 'uis: percentage of population age 25+ with at least a completed short-cycle tertiary degree (isced 5 or higher). female'\n",
      " 'uis: percentage of population age 25+ with at least a completed short-cycle tertiary degree (isced 5 or higher). male'\n",
      " 'uis: percentage of population age 25+ with at least a completed short-cycle tertiary degree (isced 5 or higher). total'\n",
      " 'uis: percentage of population age 25+ with at least completed lower secondary education (isced 2 or higher). female'\n",
      " 'uis: percentage of population age 25+ with at least completed lower secondary education (isced 2 or higher). male'\n",
      " 'uis: percentage of population age 25+ with at least completed lower secondary education (isced 2 or higher). total'\n",
      " 'uis: percentage of population age 25+ with at least completed post-secondary education (isced 4 or higher). female'\n",
      " 'uis: percentage of population age 25+ with at least completed post-secondary education (isced 4 or higher). male'\n",
      " 'uis: percentage of population age 25+ with at least completed post-secondary education (isced 4 or higher). total'\n",
      " 'uis: percentage of population age 25+ with at least completed upper secondary education (isced 3 or higher). female'\n",
      " 'uis: percentage of population age 25+ with at least completed upper secondary education (isced 3 or higher). male'\n",
      " 'uis: percentage of population age 25+ with at least completed upper secondary education (isced 3 or higher). total'\n",
      " 'labor force with advanced education, female (% of female labor force)'\n",
      " 'labor force with advanced education, male (% of male labor force)'\n",
      " 'labor force with basic education, female (% of female labor force)'\n",
      " 'labor force with basic education, male (% of male labor force)'\n",
      " 'labor force with intermediate education, female (% of female labor force)'\n",
      " 'labor force with intermediate education, male (% of male labor force)'\n",
      " 'percentage of female graduates from tertiary education graduating from agriculture programmes, female (%)'\n",
      " 'percentage of female graduates from tertiary education graduating from engineering, manufacturing and construction programmes, female (%)'\n",
      " 'percentage of female graduates from tertiary education graduating from health and welfare programmes, female (%)'\n",
      " 'percentage of female graduates from tertiary education graduating from humanities and arts programmes, female (%)'\n",
      " 'percentage of female graduates from tertiary education graduating from programmes in unspecified fields, female (%)'\n",
      " 'percentage of female graduates from tertiary education graduating from science programmes, female (%)'\n",
      " 'percentage of female graduates from tertiary education graduating from services programmes, female (%)'\n",
      " 'percentage of female graduates from tertiary education graduating from social sciences, business and law programmes, female (%)'\n",
      " 'percentage of graduates from tertiary education graduating from agriculture programmes, both sexes (%)'\n",
      " 'percentage of graduates from tertiary education graduating from engineering, manufacturing and construction programmes, both sexes (%)'\n",
      " 'percentage of graduates from tertiary education graduating from health and welfare programmes, both sexes (%)'\n",
      " 'percentage of graduates from tertiary education graduating from humanities and arts programmes, both sexes (%)'\n",
      " 'percentage of graduates from tertiary education graduating from programmes in unspecified fields, both sexes (%)'\n",
      " 'percentage of graduates from tertiary education graduating from science programmes, both sexes (%)'\n",
      " 'percentage of graduates from tertiary education graduating from services programmes, both sexes (%)'\n",
      " 'percentage of graduates from tertiary education graduating from social sciences, business and law programmes, both sexes (%)'\n",
      " 'adult illiterate population, 15+ years, % female'\n",
      " 'adult illiterate population, 15+ years, both sexes (number)'\n",
      " 'adult illiterate population, 15+ years, female (number)'\n",
      " 'adult illiterate population, 15+ years, male (number)'\n",
      " 'adult literacy rate, population 15+ years, both sexes (%)'\n",
      " 'adult literacy rate, population 15+ years, female (%)'\n",
      " 'adult literacy rate, population 15+ years, gender parity index (gpi)'\n",
      " 'adult literacy rate, population 15+ years, male (%)'\n",
      " 'elderly illiterate population, 65+ years, % female'\n",
      " 'elderly illiterate population, 65+ years, both sexes (number)'\n",
      " 'elderly illiterate population, 65+ years, female (number)'\n",
      " 'elderly illiterate population, 65+ years, male (number)'\n",
      " 'elderly literacy rate, population 65+ years, both sexes (%)'\n",
      " 'elderly literacy rate, population 65+ years, female (%)'\n",
      " 'elderly literacy rate, population 65+ years, gender parity index (gpi)'\n",
      " 'elderly literacy rate, population 65+ years, male (%)'\n",
      " 'illiterate population, 25-64 years, % female'\n",
      " 'illiterate population, 25-64 years, both sexes (number)'\n",
      " 'illiterate population, 25-64 years, female (number)'\n",
      " 'illiterate population, 25-64 years, male (number)'\n",
      " 'literacy rate, population 25-64 years, both sexes (%)'\n",
      " 'literacy rate, population 25-64 years, female (%)'\n",
      " 'literacy rate, population 25-64 years, gender parity index (gpi)'\n",
      " 'literacy rate, population 25-64 years, male (%)'\n",
      " 'net intake rate to grade 1 of primary education, both sexes (%)'\n",
      " 'net intake rate to grade 1 of primary education, female (%)'\n",
      " 'net intake rate to grade 1 of primary education, male (%)'\n",
      " 'rate of out-of-school adolescents of lower secondary school age, female (%)'\n",
      " 'rate of out-of-school adolescents of lower secondary school age, male (%)'\n",
      " 'uis: percentage of population age 25+ with at least completed primary education (isced 1 or higher). female'\n",
      " 'uis: percentage of population age 25+ with at least completed primary education (isced 1 or higher). male'\n",
      " 'uis: percentage of population age 25+ with at least completed primary education (isced 1 or higher). total'\n",
      " 'youth illiterate population, 15-24 years, % female'\n",
      " 'youth illiterate population, 15-24 years, both sexes (number)'\n",
      " 'youth illiterate population, 15-24 years, female (number)'\n",
      " 'youth illiterate population, 15-24 years, male (number)'\n",
      " 'youth literacy rate, population 15-24 years, both sexes (%)'\n",
      " 'youth literacy rate, population 15-24 years, female (%)'\n",
      " 'youth literacy rate, population 15-24 years, gender parity index (gpi)'\n",
      " 'youth literacy rate, population 15-24 years, male (%)'\n",
      " 'net enrolment rate, secondary, both sexes (%)'\n",
      " 'net enrolment rate, secondary, female (%)'\n",
      " 'net enrolment rate, secondary, male (%)'\n",
      " 'all staff compensation as % of total expenditure in public institutions (%)'\n",
      " 'all staff compensation as % of total expenditure in tertiary public institutions (%)'\n",
      " 'current expenditure as % of total expenditure in public institutions (%)'\n",
      " 'current expenditure as % of total expenditure in tertiary public institutions (%)'\n",
      " 'percentage of female teachers in secondary education who are trained, female (%)'\n",
      " 'percentage of female teachers in upper secondary education who are trained, female (%)'\n",
      " 'percentage of male teachers in secondary education who are trained, male (%)'\n",
      " 'percentage of male teachers in upper secondary education who are trained, male (%)'\n",
      " 'percentage of teachers in secondary education who are trained, both sexes (%)'\n",
      " 'percentage of teachers in upper secondary education who are trained, both sexes (%)'\n",
      " 'expenditure on primary as % of government expenditure on education (%)'\n",
      " 'expenditure on secondary as % of government expenditure on education (%)'\n",
      " 'government expenditure per primary student as % of gdp per capita (%)'\n",
      " 'government expenditure per secondary student as % of gdp per capita (%)'\n",
      " \"uis: percentage of population age 25+ with at least a completed bachelor's or equivalent degree (isced 6 or higher). female\"\n",
      " \"uis: percentage of population age 25+ with at least a completed bachelor's or equivalent degree (isced 6 or higher). male\"\n",
      " \"uis: percentage of population age 25+ with at least a completed bachelor's or equivalent degree (isced 6 or higher). total\"\n",
      " \"uis: percentage of population age 25+ with at least a completed master's degree or equivalent (isced 7 or higher). female\"\n",
      " \"uis: percentage of population age 25+ with at least a completed master's degree or equivalent (isced 7 or higher). male\"\n",
      " \"uis: percentage of population age 25+ with at least a completed master's degree or equivalent (isced 7 or higher). total\"\n",
      " 'percentage of female teachers in lower secondary education who are trained, female (%)'\n",
      " 'percentage of male teachers in lower secondary education who are trained, male (%)'\n",
      " 'percentage of teachers in lower secondary education who are trained, both sexes (%)'\n",
      " 'effective transition rate from primary to lower secondary general education, both sexes (%)'\n",
      " 'effective transition rate from primary to lower secondary general education, female (%)'\n",
      " 'effective transition rate from primary to lower secondary general education, male (%)'\n",
      " 'adjusted net enrolment rate, lower secondary, both sexes (%)'\n",
      " 'adjusted net enrolment rate, lower secondary, female (%)'\n",
      " 'adjusted net enrolment rate, lower secondary, gender parity index (gpi)'\n",
      " 'adjusted net enrolment rate, lower secondary, male (%)'\n",
      " 'adjusted net intake rate to grade 1 of primary education, both sexes (%)'\n",
      " 'adjusted net intake rate to grade 1 of primary education, female (%)'\n",
      " 'adjusted net intake rate to grade 1 of primary education, gender parity index (gpi)'\n",
      " 'adjusted net intake rate to grade 1 of primary education, male (%)'\n",
      " 'cumulative drop-out rate to the last grade of primary education, both sexes (%)'\n",
      " 'cumulative drop-out rate to the last grade of primary education, female (%)'\n",
      " 'cumulative drop-out rate to the last grade of primary education, male (%)'\n",
      " 'early school leavers from primary education, both sexes (number)'\n",
      " 'early school leavers from primary education, female (number)'\n",
      " 'early school leavers from primary education, male (number)'\n",
      " 'enrolment in grade 1 of lower secondary general education, both sexes (number)'\n",
      " 'enrolment in grade 1 of lower secondary general education, female (number)'\n",
      " 'enrolment in grade 1 of primary education, both sexes (number)'\n",
      " 'enrolment in grade 1 of primary education, female (number)'\n",
      " 'enrolment in grade 2 of lower secondary general education, both sexes (number)'\n",
      " 'enrolment in grade 2 of lower secondary general education, female (number)'\n",
      " 'enrolment in grade 2 of primary education, both sexes (number)'\n",
      " 'enrolment in grade 2 of primary education, female (number)'\n",
      " 'enrolment in grade 3 of lower secondary general education, both sexes (number)'\n",
      " 'enrolment in grade 3 of lower secondary general education, female (number)'\n",
      " 'enrolment in grade 3 of primary education, both sexes (number)'\n",
      " 'enrolment in grade 3 of primary education, female (number)'\n",
      " 'enrolment in grade 4 of lower secondary general education, both sexes (number)'\n",
      " 'enrolment in grade 4 of lower secondary general education, female (number)'\n",
      " 'enrolment in grade 4 of primary education, both sexes (number)'\n",
      " 'enrolment in grade 4 of primary education, female (number)'\n",
      " 'enrolment in grade 5 of lower secondary general education, both sexes (number)'\n",
      " 'enrolment in grade 5 of lower secondary general education, female (number)'\n",
      " 'enrolment in lower secondary education, both sexes (number)'\n",
      " 'enrolment in lower secondary education, female (number)'\n",
      " 'enrolment in lower secondary education, private institutions, both sexes (number)'\n",
      " 'enrolment in lower secondary education, private institutions, female (number)'\n",
      " 'enrolment in lower secondary education, public institutions, both sexes (number)'\n",
      " 'enrolment in lower secondary education, public institutions, female (number)'\n",
      " 'enrolment in lower secondary general, both sexes (number)'\n",
      " 'enrolment in lower secondary general, female (number)'\n",
      " 'enrolment in primary education, private institutions, both sexes (number)'\n",
      " 'enrolment in primary education, private institutions, female (number)'\n",
      " 'enrolment in primary education, public institutions, both sexes (number)'\n",
      " 'enrolment in primary education, public institutions, female (number)'\n",
      " 'enrolment in upper secondary general, both sexes (number)'\n",
      " 'enrolment in upper secondary general, female (number)'\n",
      " 'gross enrolment ratio, lower secondary, gender parity index (gpi)'\n",
      " 'gross enrolment ratio, primary and lower secondary, both sexes (%)'\n",
      " 'gross enrolment ratio, primary and lower secondary, female (%)'\n",
      " 'gross enrolment ratio, primary and lower secondary, gender parity index (gpi)'\n",
      " 'gross enrolment ratio, primary and lower secondary, male (%)'\n",
      " 'gross graduation ratio from lower secondary education, both sexes (%)'\n",
      " 'gross graduation ratio from lower secondary education, female (%)'\n",
      " 'gross graduation ratio from lower secondary education, gender parity index (gpi)'\n",
      " 'gross graduation ratio from lower secondary education, male (%)'\n",
      " 'gross graduation ratio from primary education, gender parity index (gpi)'\n",
      " 'gross intake ratio to grade 1 of lower secondary general education, both sexes (%)'\n",
      " 'gross intake ratio to grade 1 of lower secondary general education, female (%)'\n",
      " 'gross intake ratio to grade 1 of lower secondary general education, gender parity index (gpi)'\n",
      " 'gross intake ratio to grade 1 of lower secondary general education, male (%)'\n",
      " 'gross intake ratio to grade 1 of primary education, gender parity index (gpi)'\n",
      " 'lower secondary completion rate, gender parity index (gpi)'\n",
      " 'net enrolment rate, lower secondary, both sexes (%)'\n",
      " 'new entrants to grade 1 of primary education, both sexes (number)'\n",
      " 'new entrants to grade 1 of primary education, female (number)'\n",
      " 'new entrants to grade 1 of primary education, percentage female (%)'\n",
      " 'over-age enrolment ratio in primary education, both sexes (%)'\n",
      " 'over-age enrolment ratio in primary education, female (%)'\n",
      " 'over-age enrolment ratio in primary education, male (%)'\n",
      " 'percentage of enrolment in lower secondary education in private institutions (%)'\n",
      " 'percentage of female students enrolled in primary education who are under-age, female (%)'\n",
      " 'percentage of female students in lower secondary education enrolled in general programmes, female (%)'\n",
      " 'percentage of male students enrolled in primary education who are under-age, male (%)'\n",
      " 'percentage of male students in lower secondary education enrolled in general programmes, male (%)'\n",
      " 'percentage of repeaters in grade 1 of lower secondary general education, both sexes (%)'\n",
      " 'percentage of repeaters in grade 1 of lower secondary general education, female (%)'\n",
      " 'percentage of repeaters in grade 1 of lower secondary general education, male (%)'\n",
      " 'percentage of repeaters in grade 1 of primary education, both sexes (%)'\n",
      " 'percentage of repeaters in grade 1 of primary education, female (%)'\n",
      " 'percentage of repeaters in grade 1 of primary education, male (%)'\n",
      " 'percentage of repeaters in grade 2 of lower secondary general education, both sexes (%)'\n",
      " 'percentage of repeaters in grade 2 of lower secondary general education, female (%)'\n",
      " 'percentage of repeaters in grade 2 of lower secondary general education, male (%)'\n",
      " 'percentage of repeaters in grade 2 of primary education, both sexes (%)'\n",
      " 'percentage of repeaters in grade 2 of primary education, female (%)'\n",
      " 'percentage of repeaters in grade 2 of primary education, male (%)'\n",
      " 'percentage of repeaters in grade 3 of lower secondary general education, both sexes (%)'\n",
      " 'percentage of repeaters in grade 3 of lower secondary general education, female (%)'\n",
      " 'percentage of repeaters in grade 3 of lower secondary general education, male (%)'\n",
      " 'percentage of repeaters in grade 3 of primary education, both sexes (%)'\n",
      " 'percentage of repeaters in grade 3 of primary education, female (%)'\n",
      " 'percentage of repeaters in grade 3 of primary education, male (%)'\n",
      " 'percentage of repeaters in grade 4 of lower secondary general education, both sexes (%)'\n",
      " 'percentage of repeaters in grade 4 of lower secondary general education, female (%)'\n",
      " 'percentage of repeaters in grade 4 of lower secondary general education, male (%)'\n",
      " 'percentage of repeaters in grade 4 of primary education, both sexes (%)'\n",
      " 'percentage of repeaters in grade 4 of primary education, female (%)'\n",
      " 'percentage of repeaters in grade 4 of primary education, male (%)'\n",
      " 'percentage of repeaters in grade 5 of lower secondary general education, both sexes (%)'\n",
      " 'percentage of repeaters in grade 5 of lower secondary general education, female (%)'\n",
      " 'percentage of repeaters in grade 5 of lower secondary general education, male (%)'\n",
      " 'percentage of repeaters in lower secondary education, all grades, gender parity index (gpi)'\n",
      " 'percentage of repeaters in lower secondary general education, all grades, both sexes (%)'\n",
      " 'percentage of repeaters in lower secondary general education, all grades, female (%)'\n",
      " 'percentage of repeaters in lower secondary general education, all grades, male (%)'\n",
      " 'percentage of students enrolled in primary education who are under-age, both sexes (%)'\n",
      " 'percentage of students in lower secondary education enrolled in general programmes, both sexes (%)'\n",
      " 'percentage of students in lower secondary education who are female (%)'\n",
      " 'percentage of students in lower secondary general education who are female (%)'\n",
      " 'percentage of students in upper secondary general education who are female (%)'\n",
      " 'primary completion rate, gender parity index (gpi)'\n",
      " 'repeaters in grade 1 of lower secondary general education, both sexes (number)'\n",
      " 'repeaters in grade 1 of lower secondary general education, female (number)'\n",
      " 'repeaters in grade 1 of primary education, both sexes (number)'\n",
      " 'repeaters in grade 1 of primary education, female (number)'\n",
      " 'repeaters in grade 2 of lower secondary general education, both sexes (number)'\n",
      " 'repeaters in grade 2 of lower secondary general education, female (number)'\n",
      " 'repeaters in grade 2 of primary education, both sexes (number)'\n",
      " 'repeaters in grade 2 of primary education, female (number)'\n",
      " 'repeaters in grade 3 of lower secondary general education, both sexes (number)'\n",
      " 'repeaters in grade 3 of lower secondary general education, female (number)'\n",
      " 'repeaters in grade 3 of primary education, both sexes (number)'\n",
      " 'repeaters in grade 3 of primary education, female (number)'\n",
      " 'repeaters in grade 4 of lower secondary general education, both sexes (number)'\n",
      " 'repeaters in grade 4 of lower secondary general education, female (number)'\n",
      " 'repeaters in grade 4 of primary education, both sexes (number)'\n",
      " 'repeaters in grade 4 of primary education, female (number)'\n",
      " 'repeaters in grade 5 of lower secondary general education, both sexes (number)'\n",
      " 'repeaters in grade 5 of lower secondary general education, female (number)'\n",
      " 'repeaters in lower secondary general education, all grades, both sexes (number)'\n",
      " 'repeaters in lower secondary general education, all grades, female (number)'\n",
      " 'repeaters in primary education, all grades, both sexes (number)'\n",
      " 'repeaters in primary education, all grades, female (number)'\n",
      " 'school life expectancy, primary and lower secondary (excluding repetition), both sexes (years)'\n",
      " 'school life expectancy, primary and lower secondary (excluding repetition), female (years)'\n",
      " 'school life expectancy, primary and lower secondary (excluding repetition), gender parity index (gpi)'\n",
      " 'school life expectancy, primary and lower secondary (excluding repetition), male (years)'\n",
      " 'school life expectancy, primary and lower secondary, both sexes (years)'\n",
      " 'school life expectancy, primary and lower secondary, female (years)'\n",
      " 'school life expectancy, primary and lower secondary, male (years)'\n",
      " 'school life expectancy, primary, both sexes (years)'\n",
      " 'school life expectancy, primary, female (years)'\n",
      " 'school life expectancy, primary, gender parity index (gpi)'\n",
      " 'school life expectancy, primary, male (years)'\n",
      " 'survival rate to the last grade of primary education, both sexes (%)'\n",
      " 'survival rate to the last grade of primary education, female (%)'\n",
      " 'survival rate to the last grade of primary education, male (%)'\n",
      " 'teachers in secondary general education, both sexes (number)'\n",
      " 'teachers in secondary general education, female (number)'\n",
      " 'total inbound internationally mobile students, both sexes (number)'\n",
      " 'total net enrolment rate, primary, both sexes (%)'\n",
      " 'total net enrolment rate, primary, female (%)'\n",
      " 'total net enrolment rate, primary, gender parity index (gpi)'\n",
      " 'total net enrolment rate, primary, male (%)'\n",
      " 'under-age enrolment ratio in primary education, both sexes (%)'\n",
      " 'under-age enrolment ratio in primary education, female (%)'\n",
      " 'under-age enrolment ratio in primary education, male (%)'\n",
      " 'enrolment in early childhood education, both sexes (number)'\n",
      " 'enrolment in early childhood education, female (number)'\n",
      " 'enrolment in upper secondary education, both sexes (number)'\n",
      " 'enrolment in upper secondary education, female (number)'\n",
      " 'gross enrolment ratio, pre-primary, gender parity index (gpi)'\n",
      " 'gross enrolment ratio, primary and secondary, both sexes (%)'\n",
      " 'gross enrolment ratio, primary and secondary, female (%)'\n",
      " 'gross enrolment ratio, primary and secondary, male (%)'\n",
      " 'gross enrolment ratio, upper secondary, gender parity index (gpi)'\n",
      " 'percentage of female students in secondary education enrolled in general programmes, female (%)'\n",
      " 'percentage of female students in upper secondary education enrolled in general programmes, female (%)'\n",
      " 'percentage of male students in secondary education enrolled in general programmes, male (%)'\n",
      " 'percentage of male students in upper secondary education enrolled in general programmes, male (%)'\n",
      " 'percentage of repeaters in primary education, all grades, gender parity index (gpi)'\n",
      " 'percentage of students in early childhood education who are female (%)'\n",
      " 'percentage of students in secondary education enrolled in general programmes, both sexes (%)'\n",
      " 'percentage of students in upper secondary education enrolled in general programmes, both sexes (%)'\n",
      " 'percentage of students in upper secondary education who are female (%)'\n",
      " 'school life expectancy, pre-primary, both sexes (years)'\n",
      " 'school life expectancy, pre-primary, female (years)'\n",
      " 'school life expectancy, pre-primary, gender parity index (gpi)'\n",
      " 'school life expectancy, pre-primary, male (years)'\n",
      " 'school life expectancy, primary and secondary, both sexes (years)'\n",
      " 'school life expectancy, primary and secondary, female (years)'\n",
      " 'school life expectancy, primary and secondary, gender parity index (gpi)'\n",
      " 'school life expectancy, primary and secondary, male (years)'\n",
      " 'school life expectancy, secondary, both sexes (years)'\n",
      " 'school life expectancy, secondary, female (years)'\n",
      " 'school life expectancy, secondary, gender parity index (gpi)'\n",
      " 'school life expectancy, secondary, male (years)'\n",
      " 'enrolment in grade 5 of primary education, both sexes (number)'\n",
      " 'enrolment in grade 5 of primary education, female (number)'\n",
      " 'enrolment in grade 6 of primary education, both sexes (number)'\n",
      " 'enrolment in grade 6 of primary education, female (number)'\n",
      " 'enrolment in pre-primary education, public institutions, both sexes (number)'\n",
      " 'enrolment in upper secondary vocational, both sexes (number)'\n",
      " 'net enrolment rate, pre-primary, gender parity index (gpi)'\n",
      " 'percentage of students in upper secondary education enrolled in vocational programmes, both sexes (%)'\n",
      " 'adjusted net enrolment rate, primary, gender parity index (gpi)'\n",
      " 'enrolment in tertiary education per 100,000 inhabitants, both sexes'\n",
      " 'enrolment in tertiary education per 100,000 inhabitants, female'\n",
      " 'enrolment in tertiary education per 100,000 inhabitants, male'\n",
      " 'enrolment in tertiary education, isced 5 programmes, both sexes (number)'\n",
      " 'enrolment in tertiary education, isced 5 programmes, female (number)'\n",
      " 'enrolment in tertiary education, isced 8 programmes, both sexes (number)'\n",
      " 'enrolment in tertiary education, isced 8 programmes, female (number)'\n",
      " 'inbound mobility rate, both sexes (%)'\n",
      " 'net enrolment rate, primary, gender parity index (gpi)'\n",
      " 'out-of-school children of primary school age, percentage female (%)'\n",
      " 'percentage of all students in tertiary education enrolled in isced 5, both sexes (%)'\n",
      " 'percentage of all students in tertiary education enrolled in isced 8, both sexes (%)'\n",
      " 'percentage of female students in tertiary education enrolled in isced 5'\n",
      " 'percentage of female students in tertiary education enrolled in isced 8'\n",
      " 'percentage of male students in tertiary education enrolled in isced 5'\n",
      " 'percentage of male students in tertiary education enrolled in isced 8'\n",
      " 'percentage of students in tertiary isced 5 programmes who are female (%)'\n",
      " 'percentage of students in tertiary isced 8 programmes who are female (%)'\n",
      " 'pupil/trained teacher ratio in primary education (headcount basis)'\n",
      " 'school life expectancy, tertiary, both sexes (years)'\n",
      " 'school life expectancy, tertiary, female (years)'\n",
      " 'school life expectancy, tertiary, gender parity index (gpi)'\n",
      " 'school life expectancy, tertiary, male (years)'\n",
      " 'teachers in tertiary education isced 5 programmes, both sexes (number)'\n",
      " 'teachers in tertiary education isced 5 programmes, female (number)']\n",
      "670\n"
     ]
    }
   ],
   "source": [
    "# Liste pour lesquels il y a match\n",
    "l_matching = df_matching['Indicator Name']\n",
    "print(l_matching.unique())\n",
    "print(l_matching.nunique())"
   ]
  },
  {
   "cell_type": "code",
   "execution_count": null,
   "id": "66de9409",
   "metadata": {},
   "outputs": [],
   "source": []
  },
  {
   "cell_type": "code",
   "execution_count": null,
   "id": "ecc4f0de",
   "metadata": {},
   "outputs": [],
   "source": []
  },
  {
   "cell_type": "code",
   "execution_count": null,
   "id": "68814f59",
   "metadata": {},
   "outputs": [],
   "source": []
  },
  {
   "cell_type": "code",
   "execution_count": null,
   "id": "f18deb65",
   "metadata": {},
   "outputs": [],
   "source": []
  },
  {
   "cell_type": "markdown",
   "id": "c36c3770",
   "metadata": {},
   "source": [
    "#### Constitution liste KPI finale"
   ]
  },
  {
   "cell_type": "code",
   "execution_count": 82,
   "id": "9d48379c",
   "metadata": {},
   "outputs": [],
   "source": [
    "# Filtrage liste en enlevant les indicateurs qui contiennent l'un des mots suivants.\n",
    "l_1 = ['ppp','enrolment','market','prices','gni','gross','inbound',\n",
    "       'government', 'expenditure', 'percentage','male', 'female',\n",
    "       'youth', 'gender', 'wittgenstein', 'pasec','africa',\n",
    "       'barro-lee', 'dhs', 'mics', 'out-of-', 'saber', 'expectancy',\n",
    "       'uis','official', 'prevalence','adult', 'elderly', 'illiterate',\n",
    "       'early', 'under', 'over','2', '3', '4','5','6', '7', '8', '9',\n",
    "       '11', '12', '13', '14', '15', '16', '17', '18', '19', '20',\n",
    "      '21', '22', '23', '24', '25','compulsory', 'growth',\n",
    "      'intake', 'mobility','annual','cumulative','drop','pirls',\n",
    "      'transition','basic','pisa','pupil','repeaters','repetition',\n",
    "      'sacmeq','survival','theoretical','timss','unemployment','completion',\n",
    "      'outbound','lower','internationally','intermediate','entrants',\n",
    "      'pre','primary','general','vocational','post', 'computers',\n",
    "      'population']"
   ]
  },
  {
   "cell_type": "code",
   "execution_count": 83,
   "id": "f0b86784",
   "metadata": {},
   "outputs": [],
   "source": [
    "selected_kpi = [x for x in l_matching if all(y not in x for y in l_1)]"
   ]
  },
  {
   "cell_type": "code",
   "execution_count": 84,
   "id": "5ff3aedc",
   "metadata": {
    "scrolled": true
   },
   "outputs": [],
   "source": [
    "selected_kpi = pd.Series(selected_kpi).unique()"
   ]
  },
  {
   "cell_type": "code",
   "execution_count": 85,
   "id": "cb6d9ec1",
   "metadata": {},
   "outputs": [
    {
     "name": "stdout",
     "output_type": "stream",
     "text": [
      "Nombre indicateurs: 7\n"
     ]
    }
   ],
   "source": [
    "count_kpi = len(selected_kpi)\n",
    "print(\"Nombre indicateurs: {}\".format(count_kpi))"
   ]
  },
  {
   "cell_type": "code",
   "execution_count": 86,
   "id": "398bebe2",
   "metadata": {
    "scrolled": false
   },
   "outputs": [
    {
     "data": {
      "text/plain": [
       "array(['gdp per capita (current us$)', 'internet users (per 100 people)',\n",
       "       'labor force with advanced education (% of total)',\n",
       "       'labor force, total',\n",
       "       'teachers in secondary education, both sexes (number)',\n",
       "       'graduates from tertiary education, both sexes (number)',\n",
       "       'teachers in tertiary education programmes, both sexes (number)'],\n",
       "      dtype=object)"
      ]
     },
     "execution_count": 86,
     "metadata": {},
     "output_type": "execute_result"
    }
   ],
   "source": [
    "selected_kpi"
   ]
  },
  {
   "cell_type": "code",
   "execution_count": 87,
   "id": "2c10634e",
   "metadata": {},
   "outputs": [],
   "source": [
    "selected_kpi = list(selected_kpi)"
   ]
  },
  {
   "cell_type": "code",
   "execution_count": 88,
   "id": "843efd6e",
   "metadata": {
    "scrolled": false
   },
   "outputs": [
    {
     "data": {
      "text/plain": [
       "['gdp per capita (current us$)',\n",
       " 'internet users (per 100 people)',\n",
       " 'labor force with advanced education (% of total)',\n",
       " 'labor force, total',\n",
       " 'teachers in secondary education, both sexes (number)',\n",
       " 'graduates from tertiary education, both sexes (number)',\n",
       " 'teachers in tertiary education programmes, both sexes (number)']"
      ]
     },
     "execution_count": 88,
     "metadata": {},
     "output_type": "execute_result"
    }
   ],
   "source": [
    "selected_kpi"
   ]
  },
  {
   "cell_type": "code",
   "execution_count": 89,
   "id": "5f2c50c3",
   "metadata": {},
   "outputs": [],
   "source": [
    "# Enlever l'indicateur 'labor force, total'\n",
    "text = 'labor force, total'\n",
    "selected_kpi = [x for x in selected_kpi if x!=text]"
   ]
  },
  {
   "cell_type": "code",
   "execution_count": 90,
   "id": "938e3717",
   "metadata": {},
   "outputs": [
    {
     "data": {
      "text/plain": [
       "['gdp per capita (current us$)',\n",
       " 'internet users (per 100 people)',\n",
       " 'labor force with advanced education (% of total)',\n",
       " 'teachers in secondary education, both sexes (number)',\n",
       " 'graduates from tertiary education, both sexes (number)',\n",
       " 'teachers in tertiary education programmes, both sexes (number)']"
      ]
     },
     "execution_count": 90,
     "metadata": {},
     "output_type": "execute_result"
    }
   ],
   "source": [
    "selected_kpi"
   ]
  },
  {
   "cell_type": "code",
   "execution_count": 91,
   "id": "0b5b7cb7",
   "metadata": {},
   "outputs": [
    {
     "name": "stdout",
     "output_type": "stream",
     "text": [
      "<class 'pandas.core.frame.DataFrame'>\n",
      "Int64Index: 552 entries, 67215 to 884640\n",
      "Data columns (total 16 columns):\n",
      " #   Column                  Non-Null Count  Dtype  \n",
      "---  ------                  --------------  -----  \n",
      " 0   Country Name            552 non-null    object \n",
      " 1   Country Code            552 non-null    object \n",
      " 2   Indicator Name          552 non-null    object \n",
      " 3   Indicator Code          552 non-null    object \n",
      " 4   2009                    548 non-null    float64\n",
      " 5   2010                    550 non-null    float64\n",
      " 6   2011                    552 non-null    float64\n",
      " 7   2012                    550 non-null    float64\n",
      " 8   2013                    552 non-null    float64\n",
      " 9   2014                    552 non-null    float64\n",
      " 10  2015                    552 non-null    float64\n",
      " 11  2016                    391 non-null    float64\n",
      " 12  2017                    0 non-null      float64\n",
      " 13  2020                    0 non-null      float64\n",
      " 14  Total_non_manquants     552 non-null    int64  \n",
      " 15  Total_non_manquants_pc  552 non-null    float64\n",
      "dtypes: float64(11), int64(1), object(4)\n",
      "memory usage: 73.3+ KB\n",
      "None\n"
     ]
    }
   ],
   "source": [
    "# Filtrer df_data_4 pour ne retenir que les éléments de 'selected_kpi'\n",
    "df_data_4 = df_matching[df_matching['Indicator Name'].isin(selected_kpi)]\n",
    "print(df_data_4.info())\n"
   ]
  },
  {
   "cell_type": "code",
   "execution_count": 92,
   "id": "398da761",
   "metadata": {},
   "outputs": [],
   "source": [
    "Brazil = df_data_4.loc[df_data_4['Country Name'] == 'Brazil', :]"
   ]
  },
  {
   "cell_type": "code",
   "execution_count": 93,
   "id": "76ac7bb8",
   "metadata": {},
   "outputs": [
    {
     "data": {
      "text/html": [
       "<div>\n",
       "<style scoped>\n",
       "    .dataframe tbody tr th:only-of-type {\n",
       "        vertical-align: middle;\n",
       "    }\n",
       "\n",
       "    .dataframe tbody tr th {\n",
       "        vertical-align: top;\n",
       "    }\n",
       "\n",
       "    .dataframe thead th {\n",
       "        text-align: right;\n",
       "    }\n",
       "</style>\n",
       "<table border=\"1\" class=\"dataframe\">\n",
       "  <thead>\n",
       "    <tr style=\"text-align: right;\">\n",
       "      <th></th>\n",
       "      <th>Country Name</th>\n",
       "      <th>Country Code</th>\n",
       "      <th>Indicator Name</th>\n",
       "      <th>Indicator Code</th>\n",
       "      <th>2009</th>\n",
       "      <th>2010</th>\n",
       "      <th>2011</th>\n",
       "      <th>2012</th>\n",
       "      <th>2013</th>\n",
       "      <th>2014</th>\n",
       "      <th>2015</th>\n",
       "      <th>2016</th>\n",
       "      <th>2017</th>\n",
       "      <th>2020</th>\n",
       "      <th>Total_non_manquants</th>\n",
       "      <th>Total_non_manquants_pc</th>\n",
       "    </tr>\n",
       "  </thead>\n",
       "  <tbody>\n",
       "    <tr>\n",
       "      <th>188160</th>\n",
       "      <td>Brazil</td>\n",
       "      <td>BRA</td>\n",
       "      <td>gdp per capita (current us$)</td>\n",
       "      <td>NY.GDP.PCAP.CD</td>\n",
       "      <td>8553.38047</td>\n",
       "      <td>11224.154083</td>\n",
       "      <td>13167.472892</td>\n",
       "      <td>12291.466852</td>\n",
       "      <td>12216.904464</td>\n",
       "      <td>12026.617310</td>\n",
       "      <td>8757.206202</td>\n",
       "      <td>8649.948492</td>\n",
       "      <td>NaN</td>\n",
       "      <td>NaN</td>\n",
       "      <td>8</td>\n",
       "      <td>0.727273</td>\n",
       "    </tr>\n",
       "    <tr>\n",
       "      <th>188290</th>\n",
       "      <td>Brazil</td>\n",
       "      <td>BRA</td>\n",
       "      <td>internet users (per 100 people)</td>\n",
       "      <td>IT.NET.USER.P2</td>\n",
       "      <td>39.22000</td>\n",
       "      <td>40.650000</td>\n",
       "      <td>45.690000</td>\n",
       "      <td>48.560000</td>\n",
       "      <td>51.040000</td>\n",
       "      <td>54.551002</td>\n",
       "      <td>58.327952</td>\n",
       "      <td>59.682747</td>\n",
       "      <td>NaN</td>\n",
       "      <td>NaN</td>\n",
       "      <td>8</td>\n",
       "      <td>0.727273</td>\n",
       "    </tr>\n",
       "  </tbody>\n",
       "</table>\n",
       "</div>"
      ],
      "text/plain": [
       "       Country Name Country Code                   Indicator Name  \\\n",
       "188160       Brazil          BRA     gdp per capita (current us$)   \n",
       "188290       Brazil          BRA  internet users (per 100 people)   \n",
       "\n",
       "        Indicator Code        2009          2010          2011          2012  \\\n",
       "188160  NY.GDP.PCAP.CD  8553.38047  11224.154083  13167.472892  12291.466852   \n",
       "188290  IT.NET.USER.P2    39.22000     40.650000     45.690000     48.560000   \n",
       "\n",
       "                2013          2014         2015         2016  2017  2020  \\\n",
       "188160  12216.904464  12026.617310  8757.206202  8649.948492   NaN   NaN   \n",
       "188290     51.040000     54.551002    58.327952    59.682747   NaN   NaN   \n",
       "\n",
       "        Total_non_manquants  Total_non_manquants_pc  \n",
       "188160                    8                0.727273  \n",
       "188290                    8                0.727273  "
      ]
     },
     "execution_count": 93,
     "metadata": {},
     "output_type": "execute_result"
    }
   ],
   "source": [
    "Brazil"
   ]
  },
  {
   "cell_type": "markdown",
   "id": "9399481e",
   "metadata": {},
   "source": [
    "### 5. Qualité indicateurs: indicateurs presents ? nombre val. manquantes ?"
   ]
  },
  {
   "cell_type": "markdown",
   "id": "70fca2d6",
   "metadata": {},
   "source": [
    "#### Analyse qualité par pays, par indicateur:\n",
    "- Les deux fonctions suivantes permettent de filtrer davantage le dataset en augmentant davantage la qualité des données avec en contre partie une perte de pays potentiels.\n",
    "- La première fonction: assigne, pour un indicateur donné, la valeur 1 ou 0 selon que pour une année donnée, une valeur est présente ou non dans la cellule. A la fin de la lecture de chacune des cellules (indicateur-année), on fait la somme de la ligne. La somme est divisée par le nombre de cellules, on en déduit un rapport qui est comparée à une valeur seuil. Si le rapport est >= seuil, on écrit la somme en regard de l'indicateur et on affecte 1 à la cellule 'Total'\n",
    "- La deuxième fonction fait la somme, pour un pays donné, des valeurs de la colonne 'Total'. Cette somme est divisée par le nombre de kpi (6), et comparée à une valeur seuil. Si tous les indicateurs sont présents, on doit avoir une somme de 6. Si moins de 6 indicateurs sont pésents on a une somme < 6. En fonction de la valeur de la somme et de la valeur du seuil, on retient ou non le pays."
   ]
  },
  {
   "cell_type": "code",
   "execution_count": 94,
   "id": "e80d270a",
   "metadata": {},
   "outputs": [],
   "source": [
    "def df_filter(df):\n",
    "    val = []\n",
    "    l_df = []\n",
    "    seuil = 0.75 # valeur seuil pour qualifier un indicateur: nombre de valeurs manquantes/nombre de valeurs tot.\n",
    "\n",
    "    l_countries = df['Country Name'].unique().tolist()\n",
    "    \n",
    "    for i in range(len(l_countries)):\n",
    "        # print(\"Country N°: {}\".format(i))\n",
    "        country = l_countries[i]\n",
    "        df_country = df.loc[df['Country Name'] == country, :]\n",
    "        nb_rows = len(df_country)\n",
    "        df_result = pd.DataFrame(data=0, columns = ['Country Name','Indicator Name'], \n",
    "                          index=[i for i in range(len(df_country))])\n",
    "        \n",
    "        # Création deux colonnes: somme et total\n",
    "        df_result['somme'] = 0\n",
    "        df_result['total'] = 0\n",
    "        \n",
    "        \n",
    "        for j in range(nb_rows):\n",
    "            # print(\"N° de ligne: {}\".format(j))\n",
    "            kpi_name = df_country.iloc[j, 2]\n",
    "            df_result.loc[j, 'Country Name'] = country\n",
    "            df_result.loc[j, 'Indicator Name'] = kpi_name\n",
    "\n",
    "\n",
    "            for k in range(len(df.columns)):\n",
    "                if k <=3:\n",
    "                    pass\n",
    "                    # print(\"n°colonne: {}\".format(k))\n",
    "\n",
    "                if k > 3 and k <= 13:\n",
    "                    # print(\"n°colonne: {}\".format(k))\n",
    "                    kpi_value = df_country.iloc[j, k]\n",
    "\n",
    "                    if np.isnan(kpi_value):\n",
    "                        # print(\"kpi value {}\".format(kpi_value))\n",
    "                        val.append(0)\n",
    "\n",
    "                    else:\n",
    "                        # print(\"kpi value {}\".format(kpi_value))\n",
    "                        val.append(1)\n",
    "\n",
    "                somme = sum(val)\n",
    "                \n",
    "                # print(\"somme: {}\".format(somme))\n",
    "                \n",
    "                # On remarque que les années 2017 et 2020 ne sont pas renseignées (cf df_data_4.info())\n",
    "                # On réduit le champ d'analyse en enlevant les deux dernieres colonnes (en plus des 4 1eres)\n",
    "                    \n",
    "                if somme/(len(df_country.columns) - 6) >= seuil:\n",
    "                    # print(\"Nb colonnes: {}\".format(len(df_country.columns) - 6))\n",
    "                    # print(\"rapport: {}\".format(somme/(len(df_country.columns) - 6)))\n",
    "                    df_result.loc[j, 'somme'] = somme\n",
    "                    df_result.loc[j, 'total'] = 1\n",
    "                        \n",
    "            val.clear()\n",
    "\n",
    "        l_df.append(df_result)\n",
    "            \n",
    "    df_final = pd.concat(l_df, axis=0)\n",
    "                \n",
    "                \n",
    "    return df_final"
   ]
  },
  {
   "cell_type": "code",
   "execution_count": 95,
   "id": "61b0cae6",
   "metadata": {},
   "outputs": [],
   "source": [
    "df_result = df_filter(df_data_4)"
   ]
  },
  {
   "cell_type": "code",
   "execution_count": 96,
   "id": "f521ba28",
   "metadata": {
    "scrolled": false
   },
   "outputs": [
    {
     "data": {
      "text/html": [
       "<div>\n",
       "<style scoped>\n",
       "    .dataframe tbody tr th:only-of-type {\n",
       "        vertical-align: middle;\n",
       "    }\n",
       "\n",
       "    .dataframe tbody tr th {\n",
       "        vertical-align: top;\n",
       "    }\n",
       "\n",
       "    .dataframe thead th {\n",
       "        text-align: right;\n",
       "    }\n",
       "</style>\n",
       "<table border=\"1\" class=\"dataframe\">\n",
       "  <thead>\n",
       "    <tr style=\"text-align: right;\">\n",
       "      <th></th>\n",
       "      <th>Country Name</th>\n",
       "      <th>Indicator Name</th>\n",
       "      <th>somme</th>\n",
       "      <th>total</th>\n",
       "    </tr>\n",
       "  </thead>\n",
       "  <tbody>\n",
       "    <tr>\n",
       "      <th>0</th>\n",
       "      <td>North America</td>\n",
       "      <td>gdp per capita (current us$)</td>\n",
       "      <td>8</td>\n",
       "      <td>1</td>\n",
       "    </tr>\n",
       "    <tr>\n",
       "      <th>1</th>\n",
       "      <td>North America</td>\n",
       "      <td>internet users (per 100 people)</td>\n",
       "      <td>8</td>\n",
       "      <td>1</td>\n",
       "    </tr>\n",
       "  </tbody>\n",
       "</table>\n",
       "</div>"
      ],
      "text/plain": [
       "    Country Name                   Indicator Name  somme  total\n",
       "0  North America     gdp per capita (current us$)      8      1\n",
       "1  North America  internet users (per 100 people)      8      1"
      ]
     },
     "execution_count": 96,
     "metadata": {},
     "output_type": "execute_result"
    }
   ],
   "source": [
    "df_result.iloc[0:2, :]"
   ]
  },
  {
   "cell_type": "code",
   "execution_count": 97,
   "id": "d205fbc4",
   "metadata": {},
   "outputs": [],
   "source": [
    "brazil = df_result.loc[df_result['Country Name'] == 'Brazil', :]"
   ]
  },
  {
   "cell_type": "code",
   "execution_count": 98,
   "id": "a9c90805",
   "metadata": {},
   "outputs": [
    {
     "data": {
      "text/html": [
       "<div>\n",
       "<style scoped>\n",
       "    .dataframe tbody tr th:only-of-type {\n",
       "        vertical-align: middle;\n",
       "    }\n",
       "\n",
       "    .dataframe tbody tr th {\n",
       "        vertical-align: top;\n",
       "    }\n",
       "\n",
       "    .dataframe thead th {\n",
       "        text-align: right;\n",
       "    }\n",
       "</style>\n",
       "<table border=\"1\" class=\"dataframe\">\n",
       "  <thead>\n",
       "    <tr style=\"text-align: right;\">\n",
       "      <th></th>\n",
       "      <th>Country Name</th>\n",
       "      <th>Indicator Name</th>\n",
       "      <th>somme</th>\n",
       "      <th>total</th>\n",
       "    </tr>\n",
       "  </thead>\n",
       "  <tbody>\n",
       "    <tr>\n",
       "      <th>0</th>\n",
       "      <td>Brazil</td>\n",
       "      <td>gdp per capita (current us$)</td>\n",
       "      <td>8</td>\n",
       "      <td>1</td>\n",
       "    </tr>\n",
       "    <tr>\n",
       "      <th>1</th>\n",
       "      <td>Brazil</td>\n",
       "      <td>internet users (per 100 people)</td>\n",
       "      <td>8</td>\n",
       "      <td>1</td>\n",
       "    </tr>\n",
       "  </tbody>\n",
       "</table>\n",
       "</div>"
      ],
      "text/plain": [
       "  Country Name                   Indicator Name  somme  total\n",
       "0       Brazil     gdp per capita (current us$)      8      1\n",
       "1       Brazil  internet users (per 100 people)      8      1"
      ]
     },
     "execution_count": 98,
     "metadata": {},
     "output_type": "execute_result"
    }
   ],
   "source": [
    "brazil"
   ]
  },
  {
   "cell_type": "markdown",
   "id": "10e239dc",
   "metadata": {},
   "source": [
    "#### Sélection pays selon niveau de qualité fixé."
   ]
  },
  {
   "cell_type": "markdown",
   "id": "2dcc5b0c",
   "metadata": {},
   "source": [
    "Faisons un tri des pays selon le nombre d'indicateurs presents et de qualité.\n",
    "On se fixe comme critère que dans 85% des cas le pays sélectionné aura un niveau de qualité des indicateurs jugée suffisante."
   ]
  },
  {
   "cell_type": "code",
   "execution_count": 99,
   "id": "d16f3bca",
   "metadata": {},
   "outputs": [],
   "source": [
    "# calcul du total par pays\n",
    "l_c_names = df_result['Country Name'].unique().tolist()\n",
    "l_c = []\n",
    "l_v = []\n",
    "for i in range(len(l_c_names)):\n",
    "    country = l_c_names[i]\n",
    "    val = df_result.loc[df_result['Country Name'] == country, 'total'].sum()\n",
    "    l_c.append(country)\n",
    "    l_v.append(val)\n",
    "d_result = {'countries': l_c, 'valeurs':l_v}\n",
    "\n",
    "df_res = pd.DataFrame(d_result)\n",
    "df_res['pc'] = round(df_res['valeurs']/len(selected_kpi), 4)\n",
    "\n",
    "# Critère: \n",
    "# On a 6 indicateurs sélectionnés, donc la valeur max que peut prendre un pays est de 6.\n",
    "# On fixe un seuil pour la sélection d'un pays:\n",
    "\n",
    "seuil = 0.30\n",
    "df_res = df_res.loc[df_res['pc'] >= seuil, :]\n",
    "df_res = df_res.reset_index(drop=True).sort_values(by='pc', ascending=False)\n",
    "    "
   ]
  },
  {
   "cell_type": "code",
   "execution_count": 100,
   "id": "89bede1c",
   "metadata": {
    "scrolled": true
   },
   "outputs": [
    {
     "data": {
      "text/html": [
       "<div>\n",
       "<style scoped>\n",
       "    .dataframe tbody tr th:only-of-type {\n",
       "        vertical-align: middle;\n",
       "    }\n",
       "\n",
       "    .dataframe tbody tr th {\n",
       "        vertical-align: top;\n",
       "    }\n",
       "\n",
       "    .dataframe thead th {\n",
       "        text-align: right;\n",
       "    }\n",
       "</style>\n",
       "<table border=\"1\" class=\"dataframe\">\n",
       "  <thead>\n",
       "    <tr style=\"text-align: right;\">\n",
       "      <th></th>\n",
       "      <th>countries</th>\n",
       "      <th>valeurs</th>\n",
       "      <th>pc</th>\n",
       "    </tr>\n",
       "  </thead>\n",
       "  <tbody>\n",
       "    <tr>\n",
       "      <th>170</th>\n",
       "      <td>Uzbekistan</td>\n",
       "      <td>5</td>\n",
       "      <td>0.8333</td>\n",
       "    </tr>\n",
       "    <tr>\n",
       "      <th>155</th>\n",
       "      <td>Tajikistan</td>\n",
       "      <td>3</td>\n",
       "      <td>0.5000</td>\n",
       "    </tr>\n",
       "    <tr>\n",
       "      <th>116</th>\n",
       "      <td>Nepal</td>\n",
       "      <td>3</td>\n",
       "      <td>0.5000</td>\n",
       "    </tr>\n",
       "    <tr>\n",
       "      <th>61</th>\n",
       "      <td>Ghana</td>\n",
       "      <td>3</td>\n",
       "      <td>0.5000</td>\n",
       "    </tr>\n",
       "    <tr>\n",
       "      <th>120</th>\n",
       "      <td>Niger</td>\n",
       "      <td>2</td>\n",
       "      <td>0.3333</td>\n",
       "    </tr>\n",
       "    <tr>\n",
       "      <th>...</th>\n",
       "      <td>...</td>\n",
       "      <td>...</td>\n",
       "      <td>...</td>\n",
       "    </tr>\n",
       "    <tr>\n",
       "      <th>60</th>\n",
       "      <td>Germany</td>\n",
       "      <td>2</td>\n",
       "      <td>0.3333</td>\n",
       "    </tr>\n",
       "    <tr>\n",
       "      <th>62</th>\n",
       "      <td>Greece</td>\n",
       "      <td>2</td>\n",
       "      <td>0.3333</td>\n",
       "    </tr>\n",
       "    <tr>\n",
       "      <th>63</th>\n",
       "      <td>Grenada</td>\n",
       "      <td>2</td>\n",
       "      <td>0.3333</td>\n",
       "    </tr>\n",
       "    <tr>\n",
       "      <th>64</th>\n",
       "      <td>Guam</td>\n",
       "      <td>2</td>\n",
       "      <td>0.3333</td>\n",
       "    </tr>\n",
       "    <tr>\n",
       "      <th>176</th>\n",
       "      <td>Zimbabwe</td>\n",
       "      <td>2</td>\n",
       "      <td>0.3333</td>\n",
       "    </tr>\n",
       "  </tbody>\n",
       "</table>\n",
       "<p>177 rows × 3 columns</p>\n",
       "</div>"
      ],
      "text/plain": [
       "      countries  valeurs      pc\n",
       "170  Uzbekistan        5  0.8333\n",
       "155  Tajikistan        3  0.5000\n",
       "116       Nepal        3  0.5000\n",
       "61        Ghana        3  0.5000\n",
       "120       Niger        2  0.3333\n",
       "..          ...      ...     ...\n",
       "60      Germany        2  0.3333\n",
       "62       Greece        2  0.3333\n",
       "63      Grenada        2  0.3333\n",
       "64         Guam        2  0.3333\n",
       "176    Zimbabwe        2  0.3333\n",
       "\n",
       "[177 rows x 3 columns]"
      ]
     },
     "execution_count": 100,
     "metadata": {},
     "output_type": "execute_result"
    }
   ],
   "source": [
    "df_res"
   ]
  },
  {
   "cell_type": "markdown",
   "id": "d371cb14",
   "metadata": {},
   "source": [
    "df_res est une liste des pays pour lesquels la qualité des incateurs est jugée acceptable, avec toutefois une erreur possible puisque l'on accepte des pays pour lesquels le ratio d'indicateurs présents sur le noimbre d'indicateurs nominal est >= 50%."
   ]
  },
  {
   "cell_type": "code",
   "execution_count": 101,
   "id": "fc9f37b8",
   "metadata": {},
   "outputs": [],
   "source": [
    "df_data_4 = df_data_4[df_data_4['Country Name'].isin(df_res['countries'])]"
   ]
  },
  {
   "cell_type": "code",
   "execution_count": 102,
   "id": "3b9e3e18",
   "metadata": {},
   "outputs": [],
   "source": [
    "df_data_4.sort_values(by=['Country Name'], axis=0, ascending= True, inplace=True)"
   ]
  },
  {
   "cell_type": "code",
   "execution_count": 103,
   "id": "dbf2d102",
   "metadata": {
    "scrolled": true
   },
   "outputs": [
    {
     "data": {
      "text/html": [
       "<div>\n",
       "<style scoped>\n",
       "    .dataframe tbody tr th:only-of-type {\n",
       "        vertical-align: middle;\n",
       "    }\n",
       "\n",
       "    .dataframe tbody tr th {\n",
       "        vertical-align: top;\n",
       "    }\n",
       "\n",
       "    .dataframe thead th {\n",
       "        text-align: right;\n",
       "    }\n",
       "</style>\n",
       "<table border=\"1\" class=\"dataframe\">\n",
       "  <thead>\n",
       "    <tr style=\"text-align: right;\">\n",
       "      <th></th>\n",
       "      <th>Country Name</th>\n",
       "      <th>Country Code</th>\n",
       "      <th>Indicator Name</th>\n",
       "      <th>Indicator Code</th>\n",
       "      <th>2009</th>\n",
       "      <th>2010</th>\n",
       "      <th>2011</th>\n",
       "      <th>2012</th>\n",
       "      <th>2013</th>\n",
       "      <th>2014</th>\n",
       "      <th>2015</th>\n",
       "      <th>2016</th>\n",
       "      <th>2017</th>\n",
       "      <th>2020</th>\n",
       "      <th>Total_non_manquants</th>\n",
       "      <th>Total_non_manquants_pc</th>\n",
       "    </tr>\n",
       "  </thead>\n",
       "  <tbody>\n",
       "    <tr>\n",
       "      <th>92870</th>\n",
       "      <td>Afghanistan</td>\n",
       "      <td>AFG</td>\n",
       "      <td>gdp per capita (current us$)</td>\n",
       "      <td>NY.GDP.PCAP.CD</td>\n",
       "      <td>445.893298</td>\n",
       "      <td>553.300289</td>\n",
       "      <td>603.537023</td>\n",
       "      <td>669.009051</td>\n",
       "      <td>631.744971</td>\n",
       "      <td>612.069651</td>\n",
       "      <td>569.577923</td>\n",
       "      <td>561.778746</td>\n",
       "      <td>NaN</td>\n",
       "      <td>NaN</td>\n",
       "      <td>8</td>\n",
       "      <td>0.727273</td>\n",
       "    </tr>\n",
       "    <tr>\n",
       "      <th>93000</th>\n",
       "      <td>Afghanistan</td>\n",
       "      <td>AFG</td>\n",
       "      <td>internet users (per 100 people)</td>\n",
       "      <td>IT.NET.USER.P2</td>\n",
       "      <td>3.550000</td>\n",
       "      <td>4.000000</td>\n",
       "      <td>5.000000</td>\n",
       "      <td>5.454545</td>\n",
       "      <td>5.900000</td>\n",
       "      <td>7.000000</td>\n",
       "      <td>8.260000</td>\n",
       "      <td>10.595726</td>\n",
       "      <td>NaN</td>\n",
       "      <td>NaN</td>\n",
       "      <td>8</td>\n",
       "      <td>0.727273</td>\n",
       "    </tr>\n",
       "    <tr>\n",
       "      <th>96535</th>\n",
       "      <td>Albania</td>\n",
       "      <td>ALB</td>\n",
       "      <td>gdp per capita (current us$)</td>\n",
       "      <td>NY.GDP.PCAP.CD</td>\n",
       "      <td>4114.136545</td>\n",
       "      <td>4094.358832</td>\n",
       "      <td>4437.178068</td>\n",
       "      <td>4247.614308</td>\n",
       "      <td>4413.081697</td>\n",
       "      <td>4578.666728</td>\n",
       "      <td>3934.895394</td>\n",
       "      <td>4124.982390</td>\n",
       "      <td>NaN</td>\n",
       "      <td>NaN</td>\n",
       "      <td>8</td>\n",
       "      <td>0.727273</td>\n",
       "    </tr>\n",
       "    <tr>\n",
       "      <th>96665</th>\n",
       "      <td>Albania</td>\n",
       "      <td>ALB</td>\n",
       "      <td>internet users (per 100 people)</td>\n",
       "      <td>IT.NET.USER.P2</td>\n",
       "      <td>41.200000</td>\n",
       "      <td>45.000000</td>\n",
       "      <td>49.000000</td>\n",
       "      <td>54.655959</td>\n",
       "      <td>57.200000</td>\n",
       "      <td>60.100000</td>\n",
       "      <td>63.252933</td>\n",
       "      <td>66.363445</td>\n",
       "      <td>NaN</td>\n",
       "      <td>NaN</td>\n",
       "      <td>8</td>\n",
       "      <td>0.727273</td>\n",
       "    </tr>\n",
       "    <tr>\n",
       "      <th>98260</th>\n",
       "      <td>Albania</td>\n",
       "      <td>ALB</td>\n",
       "      <td>teachers in secondary education, both sexes (n...</td>\n",
       "      <td>SE.SEC.TCHR</td>\n",
       "      <td>24069.000000</td>\n",
       "      <td>24082.000000</td>\n",
       "      <td>23298.000000</td>\n",
       "      <td>23452.000000</td>\n",
       "      <td>23471.000000</td>\n",
       "      <td>23314.000000</td>\n",
       "      <td>23329.000000</td>\n",
       "      <td>NaN</td>\n",
       "      <td>NaN</td>\n",
       "      <td>NaN</td>\n",
       "      <td>7</td>\n",
       "      <td>0.636364</td>\n",
       "    </tr>\n",
       "  </tbody>\n",
       "</table>\n",
       "</div>"
      ],
      "text/plain": [
       "      Country Name Country Code  \\\n",
       "92870  Afghanistan          AFG   \n",
       "93000  Afghanistan          AFG   \n",
       "96535      Albania          ALB   \n",
       "96665      Albania          ALB   \n",
       "98260      Albania          ALB   \n",
       "\n",
       "                                          Indicator Name  Indicator Code  \\\n",
       "92870                       gdp per capita (current us$)  NY.GDP.PCAP.CD   \n",
       "93000                    internet users (per 100 people)  IT.NET.USER.P2   \n",
       "96535                       gdp per capita (current us$)  NY.GDP.PCAP.CD   \n",
       "96665                    internet users (per 100 people)  IT.NET.USER.P2   \n",
       "98260  teachers in secondary education, both sexes (n...     SE.SEC.TCHR   \n",
       "\n",
       "               2009          2010          2011          2012          2013  \\\n",
       "92870    445.893298    553.300289    603.537023    669.009051    631.744971   \n",
       "93000      3.550000      4.000000      5.000000      5.454545      5.900000   \n",
       "96535   4114.136545   4094.358832   4437.178068   4247.614308   4413.081697   \n",
       "96665     41.200000     45.000000     49.000000     54.655959     57.200000   \n",
       "98260  24069.000000  24082.000000  23298.000000  23452.000000  23471.000000   \n",
       "\n",
       "               2014          2015         2016  2017  2020  \\\n",
       "92870    612.069651    569.577923   561.778746   NaN   NaN   \n",
       "93000      7.000000      8.260000    10.595726   NaN   NaN   \n",
       "96535   4578.666728   3934.895394  4124.982390   NaN   NaN   \n",
       "96665     60.100000     63.252933    66.363445   NaN   NaN   \n",
       "98260  23314.000000  23329.000000          NaN   NaN   NaN   \n",
       "\n",
       "       Total_non_manquants  Total_non_manquants_pc  \n",
       "92870                    8                0.727273  \n",
       "93000                    8                0.727273  \n",
       "96535                    8                0.727273  \n",
       "96665                    8                0.727273  \n",
       "98260                    7                0.636364  "
      ]
     },
     "execution_count": 103,
     "metadata": {},
     "output_type": "execute_result"
    }
   ],
   "source": [
    "df_data_4.head()"
   ]
  },
  {
   "cell_type": "markdown",
   "id": "39fb79a7",
   "metadata": {},
   "source": [
    "##### Important de restreindre l'analyse aux seules années en excluant les deux colonnes ajoutées:\n",
    "- 'Total non manquants'\n",
    "- 'Total_non_manquants_pc'"
   ]
  },
  {
   "cell_type": "code",
   "execution_count": 104,
   "id": "4b979e19",
   "metadata": {},
   "outputs": [],
   "source": [
    "df_data_4 = df_data_4.iloc[:, 0:14]"
   ]
  },
  {
   "cell_type": "code",
   "execution_count": 105,
   "id": "c33b5bfc",
   "metadata": {
    "scrolled": true
   },
   "outputs": [
    {
     "name": "stdout",
     "output_type": "stream",
     "text": [
      "<class 'pandas.core.frame.DataFrame'>\n",
      "Int64Index: 509 entries, 92870 to 884640\n",
      "Data columns (total 14 columns):\n",
      " #   Column          Non-Null Count  Dtype  \n",
      "---  ------          --------------  -----  \n",
      " 0   Country Name    509 non-null    object \n",
      " 1   Country Code    509 non-null    object \n",
      " 2   Indicator Name  509 non-null    object \n",
      " 3   Indicator Code  509 non-null    object \n",
      " 4   2009            508 non-null    float64\n",
      " 5   2010            509 non-null    float64\n",
      " 6   2011            509 non-null    float64\n",
      " 7   2012            508 non-null    float64\n",
      " 8   2013            509 non-null    float64\n",
      " 9   2014            509 non-null    float64\n",
      " 10  2015            509 non-null    float64\n",
      " 11  2016            362 non-null    float64\n",
      " 12  2017            0 non-null      float64\n",
      " 13  2020            0 non-null      float64\n",
      "dtypes: float64(10), object(4)\n",
      "memory usage: 59.6+ KB\n"
     ]
    }
   ],
   "source": [
    "df_data_4.info()"
   ]
  },
  {
   "cell_type": "code",
   "execution_count": 106,
   "id": "3dadfae7",
   "metadata": {},
   "outputs": [],
   "source": [
    "brazil = df_result.loc[df_result['Country Name'] == 'Brazil', :]"
   ]
  },
  {
   "cell_type": "code",
   "execution_count": 107,
   "id": "0cd230b4",
   "metadata": {},
   "outputs": [
    {
     "data": {
      "text/html": [
       "<div>\n",
       "<style scoped>\n",
       "    .dataframe tbody tr th:only-of-type {\n",
       "        vertical-align: middle;\n",
       "    }\n",
       "\n",
       "    .dataframe tbody tr th {\n",
       "        vertical-align: top;\n",
       "    }\n",
       "\n",
       "    .dataframe thead th {\n",
       "        text-align: right;\n",
       "    }\n",
       "</style>\n",
       "<table border=\"1\" class=\"dataframe\">\n",
       "  <thead>\n",
       "    <tr style=\"text-align: right;\">\n",
       "      <th></th>\n",
       "      <th>Country Name</th>\n",
       "      <th>Indicator Name</th>\n",
       "      <th>somme</th>\n",
       "      <th>total</th>\n",
       "    </tr>\n",
       "  </thead>\n",
       "  <tbody>\n",
       "    <tr>\n",
       "      <th>0</th>\n",
       "      <td>Brazil</td>\n",
       "      <td>gdp per capita (current us$)</td>\n",
       "      <td>8</td>\n",
       "      <td>1</td>\n",
       "    </tr>\n",
       "    <tr>\n",
       "      <th>1</th>\n",
       "      <td>Brazil</td>\n",
       "      <td>internet users (per 100 people)</td>\n",
       "      <td>8</td>\n",
       "      <td>1</td>\n",
       "    </tr>\n",
       "  </tbody>\n",
       "</table>\n",
       "</div>"
      ],
      "text/plain": [
       "  Country Name                   Indicator Name  somme  total\n",
       "0       Brazil     gdp per capita (current us$)      8      1\n",
       "1       Brazil  internet users (per 100 people)      8      1"
      ]
     },
     "execution_count": 107,
     "metadata": {},
     "output_type": "execute_result"
    }
   ],
   "source": [
    "brazil"
   ]
  },
  {
   "cell_type": "markdown",
   "id": "26d8110f",
   "metadata": {},
   "source": [
    "### 6. Performance pays vis à vis des indicateurs."
   ]
  },
  {
   "cell_type": "markdown",
   "id": "86d5a285",
   "metadata": {},
   "source": [
    "#### Calcul taux de croissance par indicateur, par an"
   ]
  },
  {
   "cell_type": "markdown",
   "id": "a39656f4",
   "metadata": {},
   "source": [
    "On scinde le array en deux parties:\n",
    "- partie alphanumérique (pays, kpi,...)\n",
    "- années et valeurs"
   ]
  },
  {
   "cell_type": "code",
   "execution_count": 108,
   "id": "735cc6a8",
   "metadata": {},
   "outputs": [],
   "source": [
    "df_data_4_val = df_data_4.values"
   ]
  },
  {
   "cell_type": "code",
   "execution_count": 109,
   "id": "d4dedc05",
   "metadata": {},
   "outputs": [],
   "source": [
    "# Partie alphanumérique \n",
    "a = df_data_4_val[:, 0:4]"
   ]
  },
  {
   "cell_type": "code",
   "execution_count": 110,
   "id": "f3bd6e60",
   "metadata": {},
   "outputs": [
    {
     "data": {
      "text/plain": [
       "array(['Afghanistan', 'AFG', 'gdp per capita (current us$)',\n",
       "       'NY.GDP.PCAP.CD'], dtype=object)"
      ]
     },
     "execution_count": 110,
     "metadata": {},
     "output_type": "execute_result"
    }
   ],
   "source": [
    "a[0]"
   ]
  },
  {
   "cell_type": "code",
   "execution_count": 111,
   "id": "420caeb2",
   "metadata": {
    "scrolled": true
   },
   "outputs": [],
   "source": [
    "# Partie numérique\n",
    "v = df_data_4_val[:,4:]"
   ]
  },
  {
   "cell_type": "code",
   "execution_count": 112,
   "id": "340997ea",
   "metadata": {},
   "outputs": [
    {
     "data": {
      "text/plain": [
       "array([[4114.13654490945, 4094.35883191918, 4437.17806843608,\n",
       "        4247.61430826246, 4413.08169670601, 4578.66672753259,\n",
       "        3934.89539413158, 4124.98239042866, nan, nan],\n",
       "       [41.2, 45.0, 49.0, 54.65595904, 57.2, 60.1, 63.2529327,\n",
       "        66.3634447, nan, nan]], dtype=object)"
      ]
     },
     "execution_count": 112,
     "metadata": {},
     "output_type": "execute_result"
    }
   ],
   "source": [
    "v[2:4,:]"
   ]
  },
  {
   "cell_type": "code",
   "execution_count": 113,
   "id": "92dd1e82",
   "metadata": {
    "scrolled": true
   },
   "outputs": [
    {
     "name": "stdout",
     "output_type": "stream",
     "text": [
      "<class 'numpy.ndarray'>\n",
      "object\n",
      "2\n",
      "5090\n",
      "(509, 10)\n"
     ]
    }
   ],
   "source": [
    "print(type(v))\n",
    "print(v.dtype)\n",
    "print(v.ndim)\n",
    "print(v.size)\n",
    "print(v.shape)"
   ]
  },
  {
   "cell_type": "code",
   "execution_count": 114,
   "id": "cbe5de36",
   "metadata": {},
   "outputs": [],
   "source": [
    "v = v.astype(float)"
   ]
  },
  {
   "cell_type": "code",
   "execution_count": 115,
   "id": "2821f677",
   "metadata": {},
   "outputs": [
    {
     "name": "stdout",
     "output_type": "stream",
     "text": [
      "float64\n"
     ]
    }
   ],
   "source": [
    "print(v.dtype)"
   ]
  },
  {
   "cell_type": "markdown",
   "id": "8c137f63",
   "metadata": {},
   "source": [
    "#### Normalisation"
   ]
  },
  {
   "cell_type": "code",
   "execution_count": 116,
   "id": "d35262cb",
   "metadata": {
    "scrolled": true
   },
   "outputs": [],
   "source": [
    "\n",
    "def replace_nan(t):\n",
    "\n",
    "    shape_axis_0 = t.shape[0]\n",
    "    shape_axis_1 = t.shape[1]\n",
    "    # print(shape_axis_0)\n",
    "    # print(shape_axis_1)\n",
    "    m = np.empty((shape_axis_0, shape_axis_1))\n",
    "\n",
    "\n",
    "    for i in range(t.shape[0]):\n",
    "        subset = t[i,:]\n",
    "        #print(subset)\n",
    "        subset = subset.reshape((1,t.shape[1]))\n",
    "        # print(subset.shape)\n",
    "    \n",
    "        mask_not_nan = ma.masked_invalid(subset)\n",
    "        # print(mask_not_nan)\n",
    "    \n",
    "        mask_not_nan = mask_not_nan.reshape((subset.shape[0], subset.shape[1]))\n",
    "        # print(mask_not_nan.shape)\n",
    "    \n",
    "        moy = np.mean(mask_not_nan, axis= 1)\n",
    "        # print(moy)\n",
    "    \n",
    "        # Remplir les NaN avec valeur moyenne de l'indicateur\n",
    "        subset[np.isnan(subset)== True] = moy\n",
    "        # print(subset)\n",
    "        m[i, :] = subset\n",
    "        \n",
    "        #print(m[i, :])\n",
    "        \n",
    "    return m\n",
    "    \n"
   ]
  },
  {
   "cell_type": "code",
   "execution_count": 117,
   "id": "dec56805",
   "metadata": {
    "scrolled": false
   },
   "outputs": [],
   "source": [
    "tab_1 = replace_nan(v)"
   ]
  },
  {
   "cell_type": "code",
   "execution_count": 118,
   "id": "7cc12fb3",
   "metadata": {},
   "outputs": [
    {
     "data": {
      "text/plain": [
       "(509, 10)"
      ]
     },
     "execution_count": 118,
     "metadata": {},
     "output_type": "execute_result"
    }
   ],
   "source": [
    "tab_1.shape"
   ]
  },
  {
   "cell_type": "code",
   "execution_count": 119,
   "id": "6a856fa3",
   "metadata": {},
   "outputs": [
    {
     "data": {
      "text/plain": [
       "array([[4114.13654491, 4094.35883192, 4437.17806844, 4247.61430826,\n",
       "        4413.08169671, 4578.66672753, 3934.89539413, 4124.98239043,\n",
       "        4243.11424529, 4243.11424529],\n",
       "       [  41.2       ,   45.        ,   49.        ,   54.65595904,\n",
       "          57.2       ,   60.1       ,   63.2529327 ,   66.3634447 ,\n",
       "          54.59654206,   54.59654206]])"
      ]
     },
     "execution_count": 119,
     "metadata": {},
     "output_type": "execute_result"
    }
   ],
   "source": [
    "tab_1[2:4, :]"
   ]
  },
  {
   "cell_type": "code",
   "execution_count": 120,
   "id": "34555865",
   "metadata": {},
   "outputs": [],
   "source": [
    "\n",
    "def growth(t):\n",
    "    l_growth = [0] * t.shape[1]\n",
    "    n = np.empty((t.shape[0], 1), dtype=float)\n",
    "    futur = np.empty((t.shape[0], 4), dtype=float)\n",
    "    \n",
    "\n",
    "    \n",
    "    for i in range(t.shape[0]):\n",
    "        row = t[i, :]\n",
    "        \n",
    "        for j in range(t.shape[1]):\n",
    "            \n",
    "            if j < t.shape[1] - 1:\n",
    "                #print(j)\n",
    "                #print(t.shape[1] - 1)\n",
    "                #print(t[i, j])\n",
    "                #print(t[i,j + 1])\n",
    "                \n",
    "                growth = t[i,j + 1] - t[i, j]\n",
    "                #print(growth)\n",
    "                l_growth[j] = growth\n",
    "        \n",
    "        somme = sum(l_growth)\n",
    "        #print(somme)\n",
    "                \n",
    "        if sum(l_growth) != 0:\n",
    "            nb_elem = len(l_growth)\n",
    "            mean_ = somme/nb_elem\n",
    "            #print(mean_)\n",
    "            n[i,:] = mean_\n",
    "            futur[i,:-1] = mean_\n",
    "            \n",
    "        if sum(l_growth) == 0:\n",
    "            #print(\"somme est nulle\")\n",
    "            n[i,:] = 0\n",
    "            futur[i, -1:] = 0\n",
    "        \n",
    "    \n",
    "    return n, futur\n",
    "            \n",
    "            "
   ]
  },
  {
   "cell_type": "code",
   "execution_count": 121,
   "id": "c1cc27d0",
   "metadata": {
    "scrolled": false
   },
   "outputs": [],
   "source": [
    "tab_2, futur = growth(tab_1)"
   ]
  },
  {
   "cell_type": "code",
   "execution_count": 122,
   "id": "00994a18",
   "metadata": {
    "scrolled": true
   },
   "outputs": [
    {
     "data": {
      "text/plain": [
       "(509, 1)"
      ]
     },
     "execution_count": 122,
     "metadata": {},
     "output_type": "execute_result"
    }
   ],
   "source": [
    "tab_2.shape"
   ]
  },
  {
   "cell_type": "code",
   "execution_count": 123,
   "id": "868a990f",
   "metadata": {},
   "outputs": [
    {
     "data": {
      "text/plain": [
       "(509, 4)"
      ]
     },
     "execution_count": 123,
     "metadata": {},
     "output_type": "execute_result"
    }
   ],
   "source": [
    "futur.shape"
   ]
  },
  {
   "cell_type": "code",
   "execution_count": 124,
   "id": "11a23482",
   "metadata": {},
   "outputs": [
    {
     "data": {
      "text/plain": [
       "array([[1.34970571e+001, 1.34970571e+001, 1.34970571e+001,\n",
       "        6.93461476e-310],\n",
       "       [2.67003398e-001, 2.67003398e-001, 2.67003398e-001,\n",
       "        6.93461476e-310]])"
      ]
     },
     "execution_count": 124,
     "metadata": {},
     "output_type": "execute_result"
    }
   ],
   "source": [
    "futur[0:2,:]"
   ]
  },
  {
   "cell_type": "code",
   "execution_count": 125,
   "id": "e61960d0",
   "metadata": {
    "scrolled": false
   },
   "outputs": [
    {
     "data": {
      "text/plain": [
       "array([[13.49705711],\n",
       "       [ 0.2670034 ]])"
      ]
     },
     "execution_count": 125,
     "metadata": {},
     "output_type": "execute_result"
    }
   ],
   "source": [
    "tab_2[0:2,:]"
   ]
  },
  {
   "cell_type": "code",
   "execution_count": 126,
   "id": "b66ff925",
   "metadata": {},
   "outputs": [],
   "source": [
    "# Ajouter une colonne pour totaliser les valeurs.\n",
    "tab_3 = np.empty((v.shape[0],1))"
   ]
  },
  {
   "cell_type": "code",
   "execution_count": 127,
   "id": "4f078bee",
   "metadata": {},
   "outputs": [
    {
     "name": "stdout",
     "output_type": "stream",
     "text": [
      "(509, 4) (509, 1)\n"
     ]
    }
   ],
   "source": [
    "print(a.shape, tab_2.shape)"
   ]
  },
  {
   "cell_type": "code",
   "execution_count": 128,
   "id": "031618c1",
   "metadata": {},
   "outputs": [
    {
     "name": "stdout",
     "output_type": "stream",
     "text": [
      "(509, 5)\n"
     ]
    }
   ],
   "source": [
    "c = np.hstack((a,tab_2))\n",
    "print(c.shape)"
   ]
  },
  {
   "cell_type": "code",
   "execution_count": 129,
   "id": "b49b86da",
   "metadata": {},
   "outputs": [],
   "source": [
    "df_data_4_final = pd.DataFrame(data=c, columns=['Country Name', 'Country Code',\n",
    "                                               'Indicator Name', 'Indicator Code', 'Perf_level'], index=[i for i in range(len(df_data_4))])"
   ]
  },
  {
   "cell_type": "code",
   "execution_count": 130,
   "id": "8e6a7de6",
   "metadata": {},
   "outputs": [],
   "source": [
    "df_data_4_final['Perf_level'] = df_data_4_final['Perf_level'].astype(float)"
   ]
  },
  {
   "cell_type": "code",
   "execution_count": 131,
   "id": "2b2b35d9",
   "metadata": {
    "scrolled": true
   },
   "outputs": [
    {
     "name": "stdout",
     "output_type": "stream",
     "text": [
      "<class 'pandas.core.frame.DataFrame'>\n",
      "Int64Index: 509 entries, 0 to 508\n",
      "Data columns (total 5 columns):\n",
      " #   Column          Non-Null Count  Dtype  \n",
      "---  ------          --------------  -----  \n",
      " 0   Country Name    509 non-null    object \n",
      " 1   Country Code    509 non-null    object \n",
      " 2   Indicator Name  509 non-null    object \n",
      " 3   Indicator Code  509 non-null    object \n",
      " 4   Perf_level      509 non-null    float64\n",
      "dtypes: float64(1), object(4)\n",
      "memory usage: 23.9+ KB\n"
     ]
    }
   ],
   "source": [
    "df_data_4_final.info()"
   ]
  },
  {
   "cell_type": "code",
   "execution_count": 132,
   "id": "b2e2ad75",
   "metadata": {},
   "outputs": [],
   "source": [
    "brazil = df_data_4_final.loc[df_data_4_final['Country Name'] == 'Brazil', :]"
   ]
  },
  {
   "cell_type": "code",
   "execution_count": 133,
   "id": "689c125a",
   "metadata": {},
   "outputs": [
    {
     "data": {
      "text/html": [
       "<div>\n",
       "<style scoped>\n",
       "    .dataframe tbody tr th:only-of-type {\n",
       "        vertical-align: middle;\n",
       "    }\n",
       "\n",
       "    .dataframe tbody tr th {\n",
       "        vertical-align: top;\n",
       "    }\n",
       "\n",
       "    .dataframe thead th {\n",
       "        text-align: right;\n",
       "    }\n",
       "</style>\n",
       "<table border=\"1\" class=\"dataframe\">\n",
       "  <thead>\n",
       "    <tr style=\"text-align: right;\">\n",
       "      <th></th>\n",
       "      <th>Country Name</th>\n",
       "      <th>Country Code</th>\n",
       "      <th>Indicator Name</th>\n",
       "      <th>Indicator Code</th>\n",
       "      <th>Perf_level</th>\n",
       "    </tr>\n",
       "  </thead>\n",
       "  <tbody>\n",
       "    <tr>\n",
       "      <th>62</th>\n",
       "      <td>Brazil</td>\n",
       "      <td>BRA</td>\n",
       "      <td>gdp per capita (current us$)</td>\n",
       "      <td>NY.GDP.PCAP.CD</td>\n",
       "      <td>230.751338</td>\n",
       "    </tr>\n",
       "    <tr>\n",
       "      <th>63</th>\n",
       "      <td>Brazil</td>\n",
       "      <td>BRA</td>\n",
       "      <td>internet users (per 100 people)</td>\n",
       "      <td>IT.NET.USER.P2</td>\n",
       "      <td>1.049521</td>\n",
       "    </tr>\n",
       "  </tbody>\n",
       "</table>\n",
       "</div>"
      ],
      "text/plain": [
       "   Country Name Country Code                   Indicator Name  Indicator Code  \\\n",
       "62       Brazil          BRA     gdp per capita (current us$)  NY.GDP.PCAP.CD   \n",
       "63       Brazil          BRA  internet users (per 100 people)  IT.NET.USER.P2   \n",
       "\n",
       "    Perf_level  \n",
       "62  230.751338  \n",
       "63    1.049521  "
      ]
     },
     "execution_count": 133,
     "metadata": {},
     "output_type": "execute_result"
    }
   ],
   "source": [
    "brazil"
   ]
  },
  {
   "cell_type": "code",
   "execution_count": 134,
   "id": "d59fd1ed",
   "metadata": {},
   "outputs": [
    {
     "data": {
      "text/html": [
       "<div>\n",
       "<style scoped>\n",
       "    .dataframe tbody tr th:only-of-type {\n",
       "        vertical-align: middle;\n",
       "    }\n",
       "\n",
       "    .dataframe tbody tr th {\n",
       "        vertical-align: top;\n",
       "    }\n",
       "\n",
       "    .dataframe thead th {\n",
       "        text-align: right;\n",
       "    }\n",
       "</style>\n",
       "<table border=\"1\" class=\"dataframe\">\n",
       "  <thead>\n",
       "    <tr style=\"text-align: right;\">\n",
       "      <th></th>\n",
       "      <th>Country Name</th>\n",
       "      <th>Country Code</th>\n",
       "      <th>Indicator Name</th>\n",
       "      <th>Indicator Code</th>\n",
       "      <th>Perf_level</th>\n",
       "    </tr>\n",
       "  </thead>\n",
       "  <tbody>\n",
       "    <tr>\n",
       "      <th>0</th>\n",
       "      <td>Afghanistan</td>\n",
       "      <td>AFG</td>\n",
       "      <td>gdp per capita (current us$)</td>\n",
       "      <td>NY.GDP.PCAP.CD</td>\n",
       "      <td>13.497057</td>\n",
       "    </tr>\n",
       "    <tr>\n",
       "      <th>1</th>\n",
       "      <td>Afghanistan</td>\n",
       "      <td>AFG</td>\n",
       "      <td>internet users (per 100 people)</td>\n",
       "      <td>IT.NET.USER.P2</td>\n",
       "      <td>0.267003</td>\n",
       "    </tr>\n",
       "    <tr>\n",
       "      <th>2</th>\n",
       "      <td>Albania</td>\n",
       "      <td>ALB</td>\n",
       "      <td>gdp per capita (current us$)</td>\n",
       "      <td>NY.GDP.PCAP.CD</td>\n",
       "      <td>12.897770</td>\n",
       "    </tr>\n",
       "    <tr>\n",
       "      <th>3</th>\n",
       "      <td>Albania</td>\n",
       "      <td>ALB</td>\n",
       "      <td>internet users (per 100 people)</td>\n",
       "      <td>IT.NET.USER.P2</td>\n",
       "      <td>1.339654</td>\n",
       "    </tr>\n",
       "    <tr>\n",
       "      <th>4</th>\n",
       "      <td>Albania</td>\n",
       "      <td>ALB</td>\n",
       "      <td>teachers in secondary education, both sexes (n...</td>\n",
       "      <td>SE.SEC.TCHR</td>\n",
       "      <td>-49.542857</td>\n",
       "    </tr>\n",
       "  </tbody>\n",
       "</table>\n",
       "</div>"
      ],
      "text/plain": [
       "  Country Name Country Code  \\\n",
       "0  Afghanistan          AFG   \n",
       "1  Afghanistan          AFG   \n",
       "2      Albania          ALB   \n",
       "3      Albania          ALB   \n",
       "4      Albania          ALB   \n",
       "\n",
       "                                      Indicator Name  Indicator Code  \\\n",
       "0                       gdp per capita (current us$)  NY.GDP.PCAP.CD   \n",
       "1                    internet users (per 100 people)  IT.NET.USER.P2   \n",
       "2                       gdp per capita (current us$)  NY.GDP.PCAP.CD   \n",
       "3                    internet users (per 100 people)  IT.NET.USER.P2   \n",
       "4  teachers in secondary education, both sexes (n...     SE.SEC.TCHR   \n",
       "\n",
       "   Perf_level  \n",
       "0   13.497057  \n",
       "1    0.267003  \n",
       "2   12.897770  \n",
       "3    1.339654  \n",
       "4  -49.542857  "
      ]
     },
     "execution_count": 134,
     "metadata": {},
     "output_type": "execute_result"
    }
   ],
   "source": [
    "df_data_4_final.head()"
   ]
  },
  {
   "cell_type": "code",
   "execution_count": 135,
   "id": "67a3bed0",
   "metadata": {},
   "outputs": [],
   "source": [
    "df_data_4_final = df_data_4_final.groupby(['Country Name'], as_index=False)['Perf_level'].sum()"
   ]
  },
  {
   "cell_type": "code",
   "execution_count": 136,
   "id": "c6e2b125",
   "metadata": {},
   "outputs": [],
   "source": [
    "df_data_4_final.sort_values('Perf_level',ascending= False,inplace=True)"
   ]
  },
  {
   "cell_type": "code",
   "execution_count": 137,
   "id": "061e59d6",
   "metadata": {},
   "outputs": [],
   "source": [
    "df_data_4.reset_index(drop=True, inplace=True)"
   ]
  },
  {
   "cell_type": "code",
   "execution_count": 138,
   "id": "b883bdac",
   "metadata": {
    "scrolled": true
   },
   "outputs": [
    {
     "name": "stdout",
     "output_type": "stream",
     "text": [
      "<class 'pandas.core.frame.DataFrame'>\n",
      "Int64Index: 177 entries, 35 to 132\n",
      "Data columns (total 2 columns):\n",
      " #   Column        Non-Null Count  Dtype  \n",
      "---  ------        --------------  -----  \n",
      " 0   Country Name  177 non-null    object \n",
      " 1   Perf_level    177 non-null    float64\n",
      "dtypes: float64(1), object(1)\n",
      "memory usage: 4.1+ KB\n"
     ]
    }
   ],
   "source": [
    "df_data_4_final.info()"
   ]
  },
  {
   "cell_type": "markdown",
   "id": "a50295f8",
   "metadata": {},
   "source": [
    "#### Filtrage dataset: certaines valeurs de Perf_level sont <0. \n",
    "- On va exclure les pays pour lesquels Perf_level est < 0.\n",
    "- On exclue aussi les pays qui ont un Perf_level < 100."
   ]
  },
  {
   "cell_type": "code",
   "execution_count": 139,
   "id": "ea23cdb2",
   "metadata": {},
   "outputs": [],
   "source": [
    "cond = (df_data_4_final['Perf_level'] > 100)\n",
    "df_data_4_final = df_data_4_final.loc[cond,:]"
   ]
  },
  {
   "cell_type": "code",
   "execution_count": 140,
   "id": "84227973",
   "metadata": {},
   "outputs": [
    {
     "data": {
      "text/html": [
       "<div>\n",
       "<style scoped>\n",
       "    .dataframe tbody tr th:only-of-type {\n",
       "        vertical-align: middle;\n",
       "    }\n",
       "\n",
       "    .dataframe tbody tr th {\n",
       "        vertical-align: top;\n",
       "    }\n",
       "\n",
       "    .dataframe thead th {\n",
       "        text-align: right;\n",
       "    }\n",
       "</style>\n",
       "<table border=\"1\" class=\"dataframe\">\n",
       "  <thead>\n",
       "    <tr style=\"text-align: right;\">\n",
       "      <th></th>\n",
       "      <th>Country Name</th>\n",
       "      <th>Perf_level</th>\n",
       "    </tr>\n",
       "  </thead>\n",
       "  <tbody>\n",
       "    <tr>\n",
       "      <th>35</th>\n",
       "      <td>China</td>\n",
       "      <td>169471.111337</td>\n",
       "    </tr>\n",
       "    <tr>\n",
       "      <th>36</th>\n",
       "      <td>Colombia</td>\n",
       "      <td>12112.386908</td>\n",
       "    </tr>\n",
       "    <tr>\n",
       "      <th>2</th>\n",
       "      <td>Algeria</td>\n",
       "      <td>8835.702449</td>\n",
       "    </tr>\n",
       "    <tr>\n",
       "      <th>167</th>\n",
       "      <td>United Kingdom</td>\n",
       "      <td>8076.977660</td>\n",
       "    </tr>\n",
       "    <tr>\n",
       "      <th>74</th>\n",
       "      <td>Iran, Islamic Rep.</td>\n",
       "      <td>7714.319268</td>\n",
       "    </tr>\n",
       "    <tr>\n",
       "      <th>...</th>\n",
       "      <td>...</td>\n",
       "      <td>...</td>\n",
       "    </tr>\n",
       "    <tr>\n",
       "      <th>152</th>\n",
       "      <td>Suriname</td>\n",
       "      <td>129.480384</td>\n",
       "    </tr>\n",
       "    <tr>\n",
       "      <th>55</th>\n",
       "      <td>Gabon</td>\n",
       "      <td>126.375878</td>\n",
       "    </tr>\n",
       "    <tr>\n",
       "      <th>148</th>\n",
       "      <td>Sri Lanka</td>\n",
       "      <td>123.111695</td>\n",
       "    </tr>\n",
       "    <tr>\n",
       "      <th>150</th>\n",
       "      <td>St. Lucia</td>\n",
       "      <td>118.405158</td>\n",
       "    </tr>\n",
       "    <tr>\n",
       "      <th>52</th>\n",
       "      <td>Fiji</td>\n",
       "      <td>113.182216</td>\n",
       "    </tr>\n",
       "  </tbody>\n",
       "</table>\n",
       "<p>82 rows × 2 columns</p>\n",
       "</div>"
      ],
      "text/plain": [
       "           Country Name     Perf_level\n",
       "35                China  169471.111337\n",
       "36             Colombia   12112.386908\n",
       "2               Algeria    8835.702449\n",
       "167      United Kingdom    8076.977660\n",
       "74   Iran, Islamic Rep.    7714.319268\n",
       "..                  ...            ...\n",
       "152            Suriname     129.480384\n",
       "55                Gabon     126.375878\n",
       "148           Sri Lanka     123.111695\n",
       "150           St. Lucia     118.405158\n",
       "52                 Fiji     113.182216\n",
       "\n",
       "[82 rows x 2 columns]"
      ]
     },
     "execution_count": 140,
     "metadata": {},
     "output_type": "execute_result"
    }
   ],
   "source": [
    "df_data_4_final"
   ]
  },
  {
   "cell_type": "code",
   "execution_count": 141,
   "id": "7343b2ff",
   "metadata": {},
   "outputs": [
    {
     "name": "stdout",
     "output_type": "stream",
     "text": [
      "<class 'pandas.core.frame.DataFrame'>\n",
      "Int64Index: 82 entries, 35 to 52\n",
      "Data columns (total 2 columns):\n",
      " #   Column        Non-Null Count  Dtype  \n",
      "---  ------        --------------  -----  \n",
      " 0   Country Name  82 non-null     object \n",
      " 1   Perf_level    82 non-null     float64\n",
      "dtypes: float64(1), object(1)\n",
      "memory usage: 1.9+ KB\n"
     ]
    }
   ],
   "source": [
    "df_data_4_final.info()"
   ]
  },
  {
   "cell_type": "markdown",
   "id": "fc3fab01",
   "metadata": {},
   "source": [
    "On a une liste de pays à fort potentiel de clients compte tenu de la qualité des données requise.\n",
    "On aurait pu obtenir une liste différente avec des critères de qualité différents. Mais on aurait alors, statistiquement, une erreur plus importante sur la constitution de la liste des pays à fort potentiel de clients."
   ]
  },
  {
   "cell_type": "code",
   "execution_count": 160,
   "id": "c39da252",
   "metadata": {},
   "outputs": [],
   "source": [
    "df_data_4_final\n",
    "df_data_4_final_1 = df_data_4_final.iloc[0:8,]\n",
    "df_data_4_final_2 = df_data_4_final.iloc[8:16,]\n",
    "df_data_4_final_3 = df_data_4_final.iloc[16:24,]\n",
    "df_data_4_final_4 = df_data_4_final.iloc[24:32,]\n",
    "df_data_4_final_5 = df_data_4_final.iloc[32:40,]\n",
    "df_data_4_final_6 = df_data_4_final.iloc[40:48,]\n",
    "df_data_4_final_7 = df_data_4_final.iloc[48:56,]\n",
    "df_data_4_final_8 = df_data_4_final.iloc[56:64,]\n",
    "df_data_4_final_9 = df_data_4_final.iloc[64:72,]\n",
    "df_data_4_final_10 = df_data_4_final.iloc[72:80,]\n",
    "\n",
    "\n",
    "l_final = [df_data_4_final_1, df_data_4_final_2, df_data_4_final_3, df_data_4_final_4,\n",
    "          df_data_4_final_5, df_data_4_final_6, df_data_4_final_7, df_data_4_final_8,\n",
    "          df_data_4_final_9, df_data_4_final_10]"
   ]
  },
  {
   "cell_type": "code",
   "execution_count": 179,
   "id": "09653495",
   "metadata": {},
   "outputs": [],
   "source": [
    "def affiche(l_dfs): # l_dfs est une liste de df\n",
    "    # n_rows, n_cols représentent la disposition des graphes\n",
    "    n_rows = 5\n",
    "    n_cols = 2\n",
    "    fig, axes = plt.subplots(n_rows,n_cols, squeeze=False, figsize=(12, 12))\n",
    "    fig.tight_layout(pad=4.0)\n",
    "        \n",
    "    # Lire chaque df à partir de l_dfs ==> l_dfs[j]\n",
    "    # Afficher le df dans chaque plot avec ax.flatten() qui donne les coordonnées de chq plot\n",
    "        \n",
    "    for j, ax in enumerate(axes.flat):\n",
    "        sns.barplot(data= l_dfs[j], ax=ax, x=l_dfs[j]['Country Name'], y='Perf_level')\n",
    "        ax.set_title('KPI Performance based, by Country')\n",
    "        ax.tick_params(axis='x', labelrotation = 45)\n",
    "    plt.show()\n",
    "    \n",
    "    return"
   ]
  },
  {
   "cell_type": "code",
   "execution_count": 180,
   "id": "a3cf65ba",
   "metadata": {},
   "outputs": [
    {
     "data": {
      "image/png": "[encoded data removed]",
      "text/plain": [
       "<Figure size 864x864 with 10 Axes>"
      ]
     },
     "metadata": {
      "needs_background": "light"
     },
     "output_type": "display_data"
    }
   ],
   "source": [
    "affiche(l_final)"
   ]
  },
  {
   "cell_type": "markdown",
   "id": "f7c2431b",
   "metadata": {},
   "source": [
    "### 7. Evolution du potentiel de ces clients."
   ]
  },
  {
   "cell_type": "markdown",
   "id": "cfa2d011",
   "metadata": {},
   "source": [
    "#### Calcul taux de croissance estimé"
   ]
  },
  {
   "cell_type": "code",
   "execution_count": 181,
   "id": "5977f046",
   "metadata": {},
   "outputs": [
    {
     "data": {
      "text/plain": [
       "(509, 4)"
      ]
     },
     "execution_count": 181,
     "metadata": {},
     "output_type": "execute_result"
    }
   ],
   "source": [
    "futur.shape"
   ]
  },
  {
   "cell_type": "code",
   "execution_count": 182,
   "id": "be8ba9be",
   "metadata": {},
   "outputs": [],
   "source": [
    "def total(arr):\n",
    "    print(arr.shape)\n",
    "    for i in range(arr.shape[0]):\n",
    "        \n",
    "        arr[i,-1:] = sum(arr[i,0:3])/(arr.shape[1] - 1)\n",
    "    \n",
    "    return arr"
   ]
  },
  {
   "cell_type": "code",
   "execution_count": 183,
   "id": "e4166d8b",
   "metadata": {},
   "outputs": [
    {
     "name": "stdout",
     "output_type": "stream",
     "text": [
      "(509, 4)\n"
     ]
    }
   ],
   "source": [
    "futur = total(futur)"
   ]
  },
  {
   "cell_type": "code",
   "execution_count": 184,
   "id": "89839915",
   "metadata": {},
   "outputs": [
    {
     "data": {
      "text/plain": [
       "array([[13.49705711, 13.49705711, 13.49705711, 13.49705711],\n",
       "       [ 0.2670034 ,  0.2670034 ,  0.2670034 ,  0.2670034 ]])"
      ]
     },
     "execution_count": 184,
     "metadata": {},
     "output_type": "execute_result"
    }
   ],
   "source": [
    "futur[0:2, :]"
   ]
  },
  {
   "cell_type": "code",
   "execution_count": 185,
   "id": "78c61dc0",
   "metadata": {},
   "outputs": [],
   "source": [
    "arr_futur = np.hstack((a, futur))"
   ]
  },
  {
   "cell_type": "code",
   "execution_count": 186,
   "id": "098954b5",
   "metadata": {},
   "outputs": [
    {
     "data": {
      "text/plain": [
       "array([['Afghanistan', 'AFG', 'gdp per capita (current us$)',\n",
       "        'NY.GDP.PCAP.CD', 13.497057113595606, 13.497057113595606,\n",
       "        13.497057113595606, 13.497057113595607],\n",
       "       ['Afghanistan', 'AFG', 'internet users (per 100 people)',\n",
       "        'IT.NET.USER.P2', 0.26700339843750004, 0.26700339843750004,\n",
       "        0.26700339843750004, 0.26700339843750004],\n",
       "       ['Albania', 'ALB', 'gdp per capita (current us$)',\n",
       "        'NY.GDP.PCAP.CD', 12.897770038130147, 12.897770038130147,\n",
       "        12.897770038130147, 12.897770038130147],\n",
       "       ['Albania', 'ALB', 'internet users (per 100 people)',\n",
       "        'IT.NET.USER.P2', 1.3396542054999998, 1.3396542054999998,\n",
       "        1.3396542054999998, 1.3396542054999998]], dtype=object)"
      ]
     },
     "execution_count": 186,
     "metadata": {},
     "output_type": "execute_result"
    }
   ],
   "source": [
    "arr_futur[0:4,:]"
   ]
  },
  {
   "cell_type": "code",
   "execution_count": 187,
   "id": "9e6c26a4",
   "metadata": {},
   "outputs": [],
   "source": [
    "df_data_4_futur = pd.DataFrame(data=c, columns=['Country Name', 'Country Code',\n",
    "                                               'Indicator Name', 'Indicator Code', 'Future_perf_lev'], index=[i for i in range(len(df_data_4))])"
   ]
  },
  {
   "cell_type": "code",
   "execution_count": 188,
   "id": "a8bf6b57",
   "metadata": {},
   "outputs": [],
   "source": [
    "df_data_4_futur.sort_values('Future_perf_lev',ascending= False,inplace=True)"
   ]
  },
  {
   "cell_type": "code",
   "execution_count": 189,
   "id": "9c8a5bad",
   "metadata": {},
   "outputs": [
    {
     "data": {
      "text/html": [
       "<div>\n",
       "<style scoped>\n",
       "    .dataframe tbody tr th:only-of-type {\n",
       "        vertical-align: middle;\n",
       "    }\n",
       "\n",
       "    .dataframe tbody tr th {\n",
       "        vertical-align: top;\n",
       "    }\n",
       "\n",
       "    .dataframe thead th {\n",
       "        text-align: right;\n",
       "    }\n",
       "</style>\n",
       "<table border=\"1\" class=\"dataframe\">\n",
       "  <thead>\n",
       "    <tr style=\"text-align: right;\">\n",
       "      <th></th>\n",
       "      <th>Country Name</th>\n",
       "      <th>Country Code</th>\n",
       "      <th>Indicator Name</th>\n",
       "      <th>Indicator Code</th>\n",
       "      <th>Future_perf_lev</th>\n",
       "    </tr>\n",
       "  </thead>\n",
       "  <tbody>\n",
       "    <tr>\n",
       "      <th>97</th>\n",
       "      <td>China</td>\n",
       "      <td>CHN</td>\n",
       "      <td>graduates from tertiary education, both sexes ...</td>\n",
       "      <td>SE.TER.GRAD</td>\n",
       "      <td>172875.671429</td>\n",
       "    </tr>\n",
       "    <tr>\n",
       "      <th>100</th>\n",
       "      <td>Colombia</td>\n",
       "      <td>COL</td>\n",
       "      <td>graduates from tertiary education, both sexes ...</td>\n",
       "      <td>SE.TER.GRAD</td>\n",
       "      <td>11503.814286</td>\n",
       "    </tr>\n",
       "    <tr>\n",
       "      <th>8</th>\n",
       "      <td>Algeria</td>\n",
       "      <td>DZA</td>\n",
       "      <td>graduates from tertiary education, both sexes ...</td>\n",
       "      <td>SE.TER.GRAD</td>\n",
       "      <td>7858.771429</td>\n",
       "    </tr>\n",
       "    <tr>\n",
       "      <th>426</th>\n",
       "      <td>Spain</td>\n",
       "      <td>ESP</td>\n",
       "      <td>graduates from tertiary education, both sexes ...</td>\n",
       "      <td>SE.TER.GRAD</td>\n",
       "      <td>7670.757143</td>\n",
       "    </tr>\n",
       "    <tr>\n",
       "      <th>210</th>\n",
       "      <td>Iran, Islamic Rep.</td>\n",
       "      <td>IRN</td>\n",
       "      <td>teachers in tertiary education programmes, bot...</td>\n",
       "      <td>SE.TER.TCHR</td>\n",
       "      <td>7657.471429</td>\n",
       "    </tr>\n",
       "  </tbody>\n",
       "</table>\n",
       "</div>"
      ],
      "text/plain": [
       "           Country Name Country Code  \\\n",
       "97                China          CHN   \n",
       "100            Colombia          COL   \n",
       "8               Algeria          DZA   \n",
       "426               Spain          ESP   \n",
       "210  Iran, Islamic Rep.          IRN   \n",
       "\n",
       "                                        Indicator Name Indicator Code  \\\n",
       "97   graduates from tertiary education, both sexes ...    SE.TER.GRAD   \n",
       "100  graduates from tertiary education, both sexes ...    SE.TER.GRAD   \n",
       "8    graduates from tertiary education, both sexes ...    SE.TER.GRAD   \n",
       "426  graduates from tertiary education, both sexes ...    SE.TER.GRAD   \n",
       "210  teachers in tertiary education programmes, bot...    SE.TER.TCHR   \n",
       "\n",
       "    Future_perf_lev  \n",
       "97    172875.671429  \n",
       "100    11503.814286  \n",
       "8       7858.771429  \n",
       "426     7670.757143  \n",
       "210     7657.471429  "
      ]
     },
     "execution_count": 189,
     "metadata": {},
     "output_type": "execute_result"
    }
   ],
   "source": [
    "df_data_4_futur.head()"
   ]
  },
  {
   "cell_type": "code",
   "execution_count": 190,
   "id": "0912cb5c",
   "metadata": {},
   "outputs": [],
   "source": [
    "df_data_4_futur.reset_index(drop=True, inplace=True)"
   ]
  },
  {
   "cell_type": "code",
   "execution_count": 191,
   "id": "9b4c6d97",
   "metadata": {
    "scrolled": false
   },
   "outputs": [
    {
     "data": {
      "text/html": [
       "<div>\n",
       "<style scoped>\n",
       "    .dataframe tbody tr th:only-of-type {\n",
       "        vertical-align: middle;\n",
       "    }\n",
       "\n",
       "    .dataframe tbody tr th {\n",
       "        vertical-align: top;\n",
       "    }\n",
       "\n",
       "    .dataframe thead th {\n",
       "        text-align: right;\n",
       "    }\n",
       "</style>\n",
       "<table border=\"1\" class=\"dataframe\">\n",
       "  <thead>\n",
       "    <tr style=\"text-align: right;\">\n",
       "      <th></th>\n",
       "      <th>Country Name</th>\n",
       "      <th>Country Code</th>\n",
       "      <th>Indicator Name</th>\n",
       "      <th>Indicator Code</th>\n",
       "      <th>Future_perf_lev</th>\n",
       "    </tr>\n",
       "  </thead>\n",
       "  <tbody>\n",
       "    <tr>\n",
       "      <th>0</th>\n",
       "      <td>China</td>\n",
       "      <td>CHN</td>\n",
       "      <td>graduates from tertiary education, both sexes ...</td>\n",
       "      <td>SE.TER.GRAD</td>\n",
       "      <td>172875.671429</td>\n",
       "    </tr>\n",
       "    <tr>\n",
       "      <th>1</th>\n",
       "      <td>Colombia</td>\n",
       "      <td>COL</td>\n",
       "      <td>graduates from tertiary education, both sexes ...</td>\n",
       "      <td>SE.TER.GRAD</td>\n",
       "      <td>11503.814286</td>\n",
       "    </tr>\n",
       "    <tr>\n",
       "      <th>2</th>\n",
       "      <td>Algeria</td>\n",
       "      <td>DZA</td>\n",
       "      <td>graduates from tertiary education, both sexes ...</td>\n",
       "      <td>SE.TER.GRAD</td>\n",
       "      <td>7858.771429</td>\n",
       "    </tr>\n",
       "    <tr>\n",
       "      <th>3</th>\n",
       "      <td>Spain</td>\n",
       "      <td>ESP</td>\n",
       "      <td>graduates from tertiary education, both sexes ...</td>\n",
       "      <td>SE.TER.GRAD</td>\n",
       "      <td>7670.757143</td>\n",
       "    </tr>\n",
       "    <tr>\n",
       "      <th>4</th>\n",
       "      <td>Iran, Islamic Rep.</td>\n",
       "      <td>IRN</td>\n",
       "      <td>teachers in tertiary education programmes, bot...</td>\n",
       "      <td>SE.TER.TCHR</td>\n",
       "      <td>7657.471429</td>\n",
       "    </tr>\n",
       "  </tbody>\n",
       "</table>\n",
       "</div>"
      ],
      "text/plain": [
       "         Country Name Country Code  \\\n",
       "0               China          CHN   \n",
       "1            Colombia          COL   \n",
       "2             Algeria          DZA   \n",
       "3               Spain          ESP   \n",
       "4  Iran, Islamic Rep.          IRN   \n",
       "\n",
       "                                      Indicator Name Indicator Code  \\\n",
       "0  graduates from tertiary education, both sexes ...    SE.TER.GRAD   \n",
       "1  graduates from tertiary education, both sexes ...    SE.TER.GRAD   \n",
       "2  graduates from tertiary education, both sexes ...    SE.TER.GRAD   \n",
       "3  graduates from tertiary education, both sexes ...    SE.TER.GRAD   \n",
       "4  teachers in tertiary education programmes, bot...    SE.TER.TCHR   \n",
       "\n",
       "  Future_perf_lev  \n",
       "0   172875.671429  \n",
       "1    11503.814286  \n",
       "2     7858.771429  \n",
       "3     7670.757143  \n",
       "4     7657.471429  "
      ]
     },
     "execution_count": 191,
     "metadata": {},
     "output_type": "execute_result"
    }
   ],
   "source": [
    "df_data_4_futur.head()"
   ]
  },
  {
   "cell_type": "code",
   "execution_count": 193,
   "id": "c82293a8",
   "metadata": {},
   "outputs": [],
   "source": [
    "df_data_4_futur\n",
    "df_data_4_futur_1 = df_data_4_futur.iloc[0:8,]\n",
    "df_data_4_futur_2 = df_data_4_futur.iloc[8:16,]\n",
    "df_data_4_futur_3 = df_data_4_futur.iloc[16:24,]\n",
    "df_data_4_futur_4 = df_data_4_futur.iloc[24:32,]\n",
    "df_data_4_futur_5 = df_data_4_futur.iloc[32:40,]\n",
    "df_data_4_futur_6 = df_data_4_futur.iloc[40:48,]\n",
    "df_data_4_futur_7 = df_data_4_futur.iloc[48:56,]\n",
    "df_data_4_futur_8 = df_data_4_futur.iloc[56:64,]\n",
    "df_data_4_futur_9 = df_data_4_futur.iloc[64:72,]\n",
    "df_data_4_futur_10 = df_data_4_futur.iloc[72:80,]\n",
    "\n",
    "l_futur = [df_data_4_futur_1, df_data_4_futur_2, df_data_4_futur_3, df_data_4_futur_4,\n",
    "          df_data_4_futur_5, df_data_4_futur_6, df_data_4_futur_7, df_data_4_futur_8,\n",
    "          df_data_4_futur_9, df_data_4_futur_10]"
   ]
  },
  {
   "cell_type": "code",
   "execution_count": 196,
   "id": "c080e093",
   "metadata": {},
   "outputs": [],
   "source": [
    "def affiche(l_dfs): # l_dfs est une liste de df\n",
    "    # n_rows, n_cols représentent la disposition des graphes\n",
    "    n_rows = 5\n",
    "    n_cols = 2\n",
    "    fig, axes = plt.subplots(n_rows,n_cols, squeeze=False, figsize=(12, 12))\n",
    "    plt.tight_layout(pad=4.0)\n",
    "        \n",
    "    # Lire chaque df à partir de l_dfs ==> l_dfs[j]\n",
    "    # Afficher le df dans chaque plot avec ax.flatten() qui donne les coordonnées de chq plot\n",
    "        \n",
    "    for j, ax in enumerate(axes.flatten()):\n",
    "\n",
    "        sns.barplot(data= l_dfs[j], ax=ax, x=l_dfs[j]['Country Name'], y='Future_perf_lev')\n",
    "        ax.set_title('KPI Estimated perf based, by Country')\n",
    "        ax.tick_params(axis='x', labelrotation = 45)\n",
    "    \n",
    "    plt.show()\n",
    "    \n",
    "    return"
   ]
  },
  {
   "cell_type": "code",
   "execution_count": 197,
   "id": "da83741e",
   "metadata": {},
   "outputs": [
    {
     "data": {
      "image/png": "[encoded data removed]",
      "text/plain": [
       "<Figure size 864x864 with 10 Axes>"
      ]
     },
     "metadata": {
      "needs_background": "light"
     },
     "output_type": "display_data"
    }
   ],
   "source": [
    "affiche(l_futur)"
   ]
  },
  {
   "cell_type": "markdown",
   "id": "4390f0ee",
   "metadata": {},
   "source": [
    "#### Liste des pays prioritaires"
   ]
  },
  {
   "cell_type": "code",
   "execution_count": 198,
   "id": "2951071f",
   "metadata": {},
   "outputs": [
    {
     "data": {
      "text/html": [
       "<div>\n",
       "<style scoped>\n",
       "    .dataframe tbody tr th:only-of-type {\n",
       "        vertical-align: middle;\n",
       "    }\n",
       "\n",
       "    .dataframe tbody tr th {\n",
       "        vertical-align: top;\n",
       "    }\n",
       "\n",
       "    .dataframe thead th {\n",
       "        text-align: right;\n",
       "    }\n",
       "</style>\n",
       "<table border=\"1\" class=\"dataframe\">\n",
       "  <thead>\n",
       "    <tr style=\"text-align: right;\">\n",
       "      <th></th>\n",
       "      <th>Country Name</th>\n",
       "      <th>Country Code</th>\n",
       "      <th>Indicator Name</th>\n",
       "      <th>Indicator Code</th>\n",
       "      <th>Future_perf_lev</th>\n",
       "    </tr>\n",
       "  </thead>\n",
       "  <tbody>\n",
       "    <tr>\n",
       "      <th>0</th>\n",
       "      <td>China</td>\n",
       "      <td>CHN</td>\n",
       "      <td>graduates from tertiary education, both sexes ...</td>\n",
       "      <td>SE.TER.GRAD</td>\n",
       "      <td>172875.671429</td>\n",
       "    </tr>\n",
       "    <tr>\n",
       "      <th>1</th>\n",
       "      <td>Colombia</td>\n",
       "      <td>COL</td>\n",
       "      <td>graduates from tertiary education, both sexes ...</td>\n",
       "      <td>SE.TER.GRAD</td>\n",
       "      <td>11503.814286</td>\n",
       "    </tr>\n",
       "    <tr>\n",
       "      <th>2</th>\n",
       "      <td>Algeria</td>\n",
       "      <td>DZA</td>\n",
       "      <td>graduates from tertiary education, both sexes ...</td>\n",
       "      <td>SE.TER.GRAD</td>\n",
       "      <td>7858.771429</td>\n",
       "    </tr>\n",
       "    <tr>\n",
       "      <th>3</th>\n",
       "      <td>Spain</td>\n",
       "      <td>ESP</td>\n",
       "      <td>graduates from tertiary education, both sexes ...</td>\n",
       "      <td>SE.TER.GRAD</td>\n",
       "      <td>7670.757143</td>\n",
       "    </tr>\n",
       "    <tr>\n",
       "      <th>4</th>\n",
       "      <td>Iran, Islamic Rep.</td>\n",
       "      <td>IRN</td>\n",
       "      <td>teachers in tertiary education programmes, bot...</td>\n",
       "      <td>SE.TER.TCHR</td>\n",
       "      <td>7657.471429</td>\n",
       "    </tr>\n",
       "    <tr>\n",
       "      <th>5</th>\n",
       "      <td>United Kingdom</td>\n",
       "      <td>GBR</td>\n",
       "      <td>graduates from tertiary education, both sexes ...</td>\n",
       "      <td>SE.TER.GRAD</td>\n",
       "      <td>7184.471429</td>\n",
       "    </tr>\n",
       "    <tr>\n",
       "      <th>6</th>\n",
       "      <td>Nepal</td>\n",
       "      <td>NPL</td>\n",
       "      <td>teachers in secondary education, both sexes (n...</td>\n",
       "      <td>SE.SEC.TCHR</td>\n",
       "      <td>3401.2125</td>\n",
       "    </tr>\n",
       "    <tr>\n",
       "      <th>7</th>\n",
       "      <td>Macao SAR, China</td>\n",
       "      <td>MAC</td>\n",
       "      <td>gdp per capita (current us$)</td>\n",
       "      <td>NY.GDP.PCAP.CD</td>\n",
       "      <td>3022.556512</td>\n",
       "    </tr>\n",
       "    <tr>\n",
       "      <th>8</th>\n",
       "      <td>Ghana</td>\n",
       "      <td>GHA</td>\n",
       "      <td>teachers in secondary education, both sexes (n...</td>\n",
       "      <td>SE.SEC.TCHR</td>\n",
       "      <td>2877.55</td>\n",
       "    </tr>\n",
       "    <tr>\n",
       "      <th>9</th>\n",
       "      <td>Malaysia</td>\n",
       "      <td>MYS</td>\n",
       "      <td>teachers in secondary education, both sexes (n...</td>\n",
       "      <td>SE.SEC.TCHR</td>\n",
       "      <td>2559.771429</td>\n",
       "    </tr>\n",
       "  </tbody>\n",
       "</table>\n",
       "</div>"
      ],
      "text/plain": [
       "         Country Name Country Code  \\\n",
       "0               China          CHN   \n",
       "1            Colombia          COL   \n",
       "2             Algeria          DZA   \n",
       "3               Spain          ESP   \n",
       "4  Iran, Islamic Rep.          IRN   \n",
       "5      United Kingdom          GBR   \n",
       "6               Nepal          NPL   \n",
       "7    Macao SAR, China          MAC   \n",
       "8               Ghana          GHA   \n",
       "9            Malaysia          MYS   \n",
       "\n",
       "                                      Indicator Name  Indicator Code  \\\n",
       "0  graduates from tertiary education, both sexes ...     SE.TER.GRAD   \n",
       "1  graduates from tertiary education, both sexes ...     SE.TER.GRAD   \n",
       "2  graduates from tertiary education, both sexes ...     SE.TER.GRAD   \n",
       "3  graduates from tertiary education, both sexes ...     SE.TER.GRAD   \n",
       "4  teachers in tertiary education programmes, bot...     SE.TER.TCHR   \n",
       "5  graduates from tertiary education, both sexes ...     SE.TER.GRAD   \n",
       "6  teachers in secondary education, both sexes (n...     SE.SEC.TCHR   \n",
       "7                       gdp per capita (current us$)  NY.GDP.PCAP.CD   \n",
       "8  teachers in secondary education, both sexes (n...     SE.SEC.TCHR   \n",
       "9  teachers in secondary education, both sexes (n...     SE.SEC.TCHR   \n",
       "\n",
       "  Future_perf_lev  \n",
       "0   172875.671429  \n",
       "1    11503.814286  \n",
       "2     7858.771429  \n",
       "3     7670.757143  \n",
       "4     7657.471429  \n",
       "5     7184.471429  \n",
       "6       3401.2125  \n",
       "7     3022.556512  \n",
       "8         2877.55  \n",
       "9     2559.771429  "
      ]
     },
     "execution_count": 198,
     "metadata": {},
     "output_type": "execute_result"
    }
   ],
   "source": [
    "df_data_4_futur.head(10)"
   ]
  },
  {
   "cell_type": "markdown",
   "id": "c0edec31",
   "metadata": {},
   "source": [
    "#### Conclusion:\n",
    "- Les données sont à l'origine de mauvaise qualité.\n",
    "- A cause de ce niveau de qualité faible, certains pays sont disqualifiés car trop peu d'indicateurs présents à cause d'une mauvaise qualité.\n",
    "- Trop peu d'indicateurs induisent une relative faible performance.\n",
    "- Certains pays sont mal classés à cause de cette faible performance. C'est la cas du Brésil qui aurait probablement mérité d'être parmi les pays prioritaires."
   ]
  },
  {
   "cell_type": "code",
   "execution_count": null,
   "id": "09877453",
   "metadata": {},
   "outputs": [],
   "source": []
  },
  {
   "cell_type": "code",
   "execution_count": null,
   "id": "925cf7e9",
   "metadata": {},
   "outputs": [],
   "source": []
  },
  {
   "cell_type": "code",
   "execution_count": null,
   "id": "60ef782c",
   "metadata": {},
   "outputs": [],
   "source": []
  },
  {
   "cell_type": "code",
   "execution_count": null,
   "id": "b6d0b5de",
   "metadata": {},
   "outputs": [],
   "source": []
  }
 ],
 "metadata": {
  "colab": {
   "provenance": []
  },
  "kernelspec": {
   "display_name": "Python 3 (ipykernel)",
   "language": "python",
   "name": "python3"
  },
  "language_info": {
   "codemirror_mode": {
    "name": "ipython",
    "version": 3
   },
   "file_extension": ".py",
   "mimetype": "text/x-python",
   "name": "python",
   "nbconvert_exporter": "python",
   "pygments_lexer": "ipython3",
   "version": "3.9.12"
  }
 },
 "nbformat": 4,
 "nbformat_minor": 5
}
